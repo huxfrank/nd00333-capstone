{
  "cells": [
    {
      "cell_type": "markdown",
      "source": [
        "# Automated ML\n",
        "\n",
        "Import Dependencies"
      ],
      "metadata": {}
    },
    {
      "cell_type": "code",
      "source": [
        "import os\r\n",
        "import numpy as np\r\n",
        "import pandas as pd\r\n",
        "import json\r\n",
        "import requests\r\n",
        "from numpy import array\r\n",
        "from azureml.automl.runtime.onnx_convert import OnnxConverter\r\n",
        "from azureml.core import Workspace, Experiment\r\n",
        "from azureml.core.compute import ComputeTarget, AmlCompute\r\n",
        "from azureml.core.compute_target import ComputeTargetException\r\n",
        "from azureml.core.run import Run\r\n",
        "from azureml.data.dataset_factory import TabularDatasetFactory\r\n",
        "from azureml.widgets import RunDetails\r\n",
        "from azureml.train.sklearn import SKLearn\r\n",
        "from azureml.train.automl import AutoMLConfig\r\n",
        "from azureml.core import ScriptRunConfig, Environment, Dataset\r\n",
        "from sklearn.preprocessing import OneHotEncoder, LabelEncoder, StandardScaler\r\n",
        "from sklearn.metrics import confusion_matrix"
      ],
      "outputs": [],
      "execution_count": 5,
      "metadata": {
        "gather": {
          "logged": 1618878962095
        },
        "jupyter": {
          "outputs_hidden": false,
          "source_hidden": false
        },
        "nteract": {
          "transient": {
            "deleting": false
          }
        }
      }
    },
    {
      "cell_type": "markdown",
      "source": [
        "## Dataset\n",
        "\n",
        "### Overview\n",
        "This dataset is called the Mushroom Classification dataset from Kaggle, source: https://www.kaggle.com/uciml/mushroom-classification.\n",
        "\n",
        "The goal is to be able to accurately identify poisonous and edible mushrooms based on the features and qualities provided.\n",
        "\n",
        "\"This dataset includes descriptions of hypothetical samples corresponding to 23 species of gilled mushrooms in the Agaricus and Lepiota Family Mushroom drawn from The Audubon Society Field Guide to North American Mushrooms (1981). Each species is identified as definitely edible, definitely poisonous, or of unknown edibility and not recommended. This latter class was combined with the poisonous one. The Guide clearly states that there is no simple rule for determining the edibility of a mushroom; no rule like \"leaflets three, let it be'' for Poisonous Oak and Ivy.\""
      ],
      "metadata": {}
    },
    {
      "cell_type": "code",
      "source": [
        "ws = Workspace.from_config()\n",
        "print(ws.name, ws.resource_group, ws.location, ws.subscription_id, sep = '\\n')\n",
        "\n",
        "experiment_name = 'mushroom-classification-final'\n",
        "\n",
        "experiment=Experiment(ws, experiment_name)\n",
        "experiment"
      ],
      "outputs": [
        {
          "output_type": "stream",
          "name": "stdout",
          "text": [
            "sandbox-main\n",
            "main-workspace\n",
            "westus2\n",
            "095d396f-a6aa-423a-90bb-d2146baff999\n"
          ]
        },
        {
          "output_type": "execute_result",
          "execution_count": 6,
          "data": {
            "text/plain": "Experiment(Name: mushroom-classification-final,\nWorkspace: sandbox-main)",
            "text/html": "<table style=\"width:100%\"><tr><th>Name</th><th>Workspace</th><th>Report Page</th><th>Docs Page</th></tr><tr><td>mushroom-classification-final</td><td>sandbox-main</td><td><a href=\"https://ml.azure.com/experiments/mushroom-classification-final?wsid=/subscriptions/095d396f-a6aa-423a-90bb-d2146baff999/resourcegroups/main-workspace/workspaces/sandbox-main\" target=\"_blank\" rel=\"noopener\">Link to Azure Machine Learning studio</a></td><td><a href=\"https://docs.microsoft.com/en-us/python/api/azureml-core/azureml.core.experiment.Experiment?view=azure-ml-py\" target=\"_blank\" rel=\"noopener\">Link to Documentation</a></td></tr></table>"
          },
          "metadata": {}
        }
      ],
      "execution_count": 6,
      "metadata": {
        "gather": {
          "logged": 1618878963859
        },
        "jupyter": {
          "outputs_hidden": false,
          "source_hidden": false
        },
        "nteract": {
          "transient": {
            "deleting": false
          }
        }
      }
    },
    {
      "cell_type": "markdown",
      "source": [
        "## Compute"
      ],
      "metadata": {
        "nteract": {
          "transient": {
            "deleting": false
          }
        }
      }
    },
    {
      "cell_type": "code",
      "source": [
        "amlcompute_cluster_name = \"default-ds2\"\r\n",
        "\r\n",
        "# Verify that cluster does not exist already\r\n",
        "try:\r\n",
        "    compute_target = ComputeTarget(workspace=ws, name=amlcompute_cluster_name)\r\n",
        "    print('Found existing cluster, use it.')\r\n",
        "except ComputeTargetException:\r\n",
        "    compute_config = AmlCompute.provisioning_configuration(vm_size='STANDARD_DS_V2',\r\n",
        "                                                           max_nodes=4)\r\n",
        "    compute_target = ComputeTarget.create(ws, amlcompute_cluster_name, compute_config)\r\n",
        "\r\n",
        "compute_target.wait_for_completion(show_output=True)\r\n",
        "print(compute_target.get_status().serialize())"
      ],
      "outputs": [
        {
          "output_type": "stream",
          "name": "stdout",
          "text": [
            "Found existing cluster, use it.\n",
            "\n",
            "Running\n",
            "{'errors': [], 'creationTime': '2021-03-01T23:09:59.409359+00:00', 'createdBy': {'userObjectId': '616470c5-2ea0-40e6-bcb4-c19a2983c934', 'userTenantId': '891fb020-7b98-4908-8912-9521f813ddf0', 'userName': None}, 'modifiedTime': '2021-03-01T23:12:30.874963+00:00', 'state': 'Running', 'vmSize': 'STANDARD_DS2_V2'}\n"
          ]
        }
      ],
      "execution_count": 7,
      "metadata": {
        "collapsed": true,
        "jupyter": {
          "source_hidden": false,
          "outputs_hidden": false
        },
        "nteract": {
          "transient": {
            "deleting": false
          }
        },
        "gather": {
          "logged": 1618878970874
        }
      }
    },
    {
      "cell_type": "markdown",
      "source": [
        "## Data Processing\r\n",
        "Here I will clean the data and prepare it to be used in the AutoML runs. This will require removing null entries, making sure the data is properly encoded and I will provide some graphs and charts that showcase the data as well.\r\n",
        "\r\n",
        "I chose to delete the veil color and gill-attachment fields because they contained the same value for every entry so the impact they had was negligible.\r\n",
        "\r\n",
        "I wanted to see if there was a difference between One Hot Encoding and Label Encoding for a classification problem like this so I did runs using both. The results were that they gave about the same results and took about the same amount of time to run so it didn't really matter how i encoded it."
      ],
      "metadata": {
        "nteract": {
          "transient": {
            "deleting": false
          }
        }
      }
    },
    {
      "cell_type": "code",
      "source": [
        "#Obtain / register dataset if it does not already exist in the workspace\r\n",
        "found = False\r\n",
        "key = \"mushroom-classification\"\r\n",
        "description_text = \"features to classify whether or not a mushroom is poisonous or edible\"\r\n",
        "\r\n",
        "if key in ws.datasets.keys(): \r\n",
        "        found = True\r\n",
        "        dataset = ws.datasets[key] \r\n",
        "        print(\"Found registered dataset, using...\")\r\n",
        "\r\n",
        "if not found:\r\n",
        "        # Create AML Dataset and register it into Workspace\r\n",
        "        datapath = \"https://raw.githubusercontent.com/huxfrank/nd00333-capstone/master/starter_file/mushroom-classification/mushrooms.csv\"\r\n",
        "        dataset = Dataset.Tabular.from_delimited_files(datapath)  \r\n",
        "\r\n",
        "        #Register Dataset in Workspace\r\n",
        "        print(\"Registering new dataset...\")\r\n",
        "        dataset = dataset.register(workspace=ws,\r\n",
        "                                   name=key,\r\n",
        "                                   description=description_text)\r\n",
        "\r\n",
        "\r\n",
        "df = dataset.to_pandas_dataframe()\r\n",
        "df.describe()"
      ],
      "outputs": [
        {
          "output_type": "stream",
          "name": "stdout",
          "text": [
            "Found registered dataset, using...\n"
          ]
        },
        {
          "output_type": "execute_result",
          "execution_count": 8,
          "data": {
            "text/plain": "       class cap-shape cap-surface cap-color bruises  odor gill-attachment  \\\ncount   8124      8124        8124      8124    8124  8124            7914   \nunique     2         6           4        10       2     9               1   \ntop        e         x           y         n   False     n           False   \nfreq    4208      3656        3244      2284    4748  3528            7914   \n\n       gill-spacing gill-size gill-color  ... stalk-surface-below-ring  \\\ncount          8124      8124       8124  ...                     8124   \nunique            2         2         12  ...                        4   \ntop               c         b          b  ...                        s   \nfreq           6812      5612       1728  ...                     4936   \n\n       stalk-color-above-ring stalk-color-below-ring veil-type veil-color  \\\ncount                    8124                   8124      8124       8124   \nunique                      9                      9         1          4   \ntop                         w                      w         p          w   \nfreq                     4464                   4384      8124       7924   \n\n       ring-number ring-type spore-print-color population habitat  \ncount         8124      8124              8124       8124    8124  \nunique           3         5                 9          6       7  \ntop              o         p                 w          v       d  \nfreq          7488      3968              2388       4040    3148  \n\n[4 rows x 23 columns]",
            "text/html": "<div>\n<style scoped>\n    .dataframe tbody tr th:only-of-type {\n        vertical-align: middle;\n    }\n\n    .dataframe tbody tr th {\n        vertical-align: top;\n    }\n\n    .dataframe thead th {\n        text-align: right;\n    }\n</style>\n<table border=\"1\" class=\"dataframe\">\n  <thead>\n    <tr style=\"text-align: right;\">\n      <th></th>\n      <th>class</th>\n      <th>cap-shape</th>\n      <th>cap-surface</th>\n      <th>cap-color</th>\n      <th>bruises</th>\n      <th>odor</th>\n      <th>gill-attachment</th>\n      <th>gill-spacing</th>\n      <th>gill-size</th>\n      <th>gill-color</th>\n      <th>...</th>\n      <th>stalk-surface-below-ring</th>\n      <th>stalk-color-above-ring</th>\n      <th>stalk-color-below-ring</th>\n      <th>veil-type</th>\n      <th>veil-color</th>\n      <th>ring-number</th>\n      <th>ring-type</th>\n      <th>spore-print-color</th>\n      <th>population</th>\n      <th>habitat</th>\n    </tr>\n  </thead>\n  <tbody>\n    <tr>\n      <th>count</th>\n      <td>8124</td>\n      <td>8124</td>\n      <td>8124</td>\n      <td>8124</td>\n      <td>8124</td>\n      <td>8124</td>\n      <td>7914</td>\n      <td>8124</td>\n      <td>8124</td>\n      <td>8124</td>\n      <td>...</td>\n      <td>8124</td>\n      <td>8124</td>\n      <td>8124</td>\n      <td>8124</td>\n      <td>8124</td>\n      <td>8124</td>\n      <td>8124</td>\n      <td>8124</td>\n      <td>8124</td>\n      <td>8124</td>\n    </tr>\n    <tr>\n      <th>unique</th>\n      <td>2</td>\n      <td>6</td>\n      <td>4</td>\n      <td>10</td>\n      <td>2</td>\n      <td>9</td>\n      <td>1</td>\n      <td>2</td>\n      <td>2</td>\n      <td>12</td>\n      <td>...</td>\n      <td>4</td>\n      <td>9</td>\n      <td>9</td>\n      <td>1</td>\n      <td>4</td>\n      <td>3</td>\n      <td>5</td>\n      <td>9</td>\n      <td>6</td>\n      <td>7</td>\n    </tr>\n    <tr>\n      <th>top</th>\n      <td>e</td>\n      <td>x</td>\n      <td>y</td>\n      <td>n</td>\n      <td>False</td>\n      <td>n</td>\n      <td>False</td>\n      <td>c</td>\n      <td>b</td>\n      <td>b</td>\n      <td>...</td>\n      <td>s</td>\n      <td>w</td>\n      <td>w</td>\n      <td>p</td>\n      <td>w</td>\n      <td>o</td>\n      <td>p</td>\n      <td>w</td>\n      <td>v</td>\n      <td>d</td>\n    </tr>\n    <tr>\n      <th>freq</th>\n      <td>4208</td>\n      <td>3656</td>\n      <td>3244</td>\n      <td>2284</td>\n      <td>4748</td>\n      <td>3528</td>\n      <td>7914</td>\n      <td>6812</td>\n      <td>5612</td>\n      <td>1728</td>\n      <td>...</td>\n      <td>4936</td>\n      <td>4464</td>\n      <td>4384</td>\n      <td>8124</td>\n      <td>7924</td>\n      <td>7488</td>\n      <td>3968</td>\n      <td>2388</td>\n      <td>4040</td>\n      <td>3148</td>\n    </tr>\n  </tbody>\n</table>\n<p>4 rows × 23 columns</p>\n</div>"
          },
          "metadata": {}
        }
      ],
      "execution_count": 8,
      "metadata": {
        "collapsed": true,
        "jupyter": {
          "source_hidden": false,
          "outputs_hidden": false
        },
        "nteract": {
          "transient": {
            "deleting": false
          }
        },
        "gather": {
          "logged": 1618878977507
        }
      }
    },
    {
      "cell_type": "code",
      "source": [
        "#Clean data for null entries\r\n",
        "df.isnull().sum()"
      ],
      "outputs": [
        {
          "output_type": "execute_result",
          "execution_count": 9,
          "data": {
            "text/plain": "class                         0\ncap-shape                     0\ncap-surface                   0\ncap-color                     0\nbruises                       0\nodor                          0\ngill-attachment             210\ngill-spacing                  0\ngill-size                     0\ngill-color                    0\nstalk-shape                   0\nstalk-root                    0\nstalk-surface-above-ring      0\nstalk-surface-below-ring      0\nstalk-color-above-ring        0\nstalk-color-below-ring        0\nveil-type                     0\nveil-color                    0\nring-number                   0\nring-type                     0\nspore-print-color             0\npopulation                    0\nhabitat                       0\ndtype: int64"
          },
          "metadata": {}
        }
      ],
      "execution_count": 9,
      "metadata": {
        "collapsed": true,
        "jupyter": {
          "source_hidden": false,
          "outputs_hidden": false
        },
        "nteract": {
          "transient": {
            "deleting": false
          }
        },
        "gather": {
          "logged": 1618878978351
        }
      }
    },
    {
      "cell_type": "code",
      "source": [
        "#One Hot Encoding\r\n",
        "\r\n",
        "#Delete veil type and gill attachment because it's the same value for all entries\r\n",
        "del df['veil-type']\r\n",
        "del df['gill-attachment']\r\n",
        "\r\n",
        "ohc = pd.get_dummies(df, drop_first = True)\r\n",
        "ohc.head()"
      ],
      "outputs": [
        {
          "output_type": "execute_result",
          "execution_count": 10,
          "data": {
            "text/plain": "   bruises  class_p  cap-shape_c  cap-shape_f  cap-shape_k  cap-shape_s  \\\n0     True        1            0            0            0            0   \n1     True        0            0            0            0            0   \n2     True        0            0            0            0            0   \n3     True        1            0            0            0            0   \n4    False        0            0            0            0            0   \n\n   cap-shape_x  cap-surface_g  cap-surface_s  cap-surface_y  ...  \\\n0            1              0              1              0  ...   \n1            1              0              1              0  ...   \n2            0              0              1              0  ...   \n3            1              0              0              1  ...   \n4            1              0              1              0  ...   \n\n   population_n  population_s  population_v  population_y  habitat_g  \\\n0             0             1             0             0          0   \n1             1             0             0             0          1   \n2             1             0             0             0          0   \n3             0             1             0             0          0   \n4             0             0             0             0          1   \n\n   habitat_l  habitat_m  habitat_p  habitat_u  habitat_w  \n0          0          0          0          1          0  \n1          0          0          0          0          0  \n2          0          1          0          0          0  \n3          0          0          0          1          0  \n4          0          0          0          0          0  \n\n[5 rows x 95 columns]",
            "text/html": "<div>\n<style scoped>\n    .dataframe tbody tr th:only-of-type {\n        vertical-align: middle;\n    }\n\n    .dataframe tbody tr th {\n        vertical-align: top;\n    }\n\n    .dataframe thead th {\n        text-align: right;\n    }\n</style>\n<table border=\"1\" class=\"dataframe\">\n  <thead>\n    <tr style=\"text-align: right;\">\n      <th></th>\n      <th>bruises</th>\n      <th>class_p</th>\n      <th>cap-shape_c</th>\n      <th>cap-shape_f</th>\n      <th>cap-shape_k</th>\n      <th>cap-shape_s</th>\n      <th>cap-shape_x</th>\n      <th>cap-surface_g</th>\n      <th>cap-surface_s</th>\n      <th>cap-surface_y</th>\n      <th>...</th>\n      <th>population_n</th>\n      <th>population_s</th>\n      <th>population_v</th>\n      <th>population_y</th>\n      <th>habitat_g</th>\n      <th>habitat_l</th>\n      <th>habitat_m</th>\n      <th>habitat_p</th>\n      <th>habitat_u</th>\n      <th>habitat_w</th>\n    </tr>\n  </thead>\n  <tbody>\n    <tr>\n      <th>0</th>\n      <td>True</td>\n      <td>1</td>\n      <td>0</td>\n      <td>0</td>\n      <td>0</td>\n      <td>0</td>\n      <td>1</td>\n      <td>0</td>\n      <td>1</td>\n      <td>0</td>\n      <td>...</td>\n      <td>0</td>\n      <td>1</td>\n      <td>0</td>\n      <td>0</td>\n      <td>0</td>\n      <td>0</td>\n      <td>0</td>\n      <td>0</td>\n      <td>1</td>\n      <td>0</td>\n    </tr>\n    <tr>\n      <th>1</th>\n      <td>True</td>\n      <td>0</td>\n      <td>0</td>\n      <td>0</td>\n      <td>0</td>\n      <td>0</td>\n      <td>1</td>\n      <td>0</td>\n      <td>1</td>\n      <td>0</td>\n      <td>...</td>\n      <td>1</td>\n      <td>0</td>\n      <td>0</td>\n      <td>0</td>\n      <td>1</td>\n      <td>0</td>\n      <td>0</td>\n      <td>0</td>\n      <td>0</td>\n      <td>0</td>\n    </tr>\n    <tr>\n      <th>2</th>\n      <td>True</td>\n      <td>0</td>\n      <td>0</td>\n      <td>0</td>\n      <td>0</td>\n      <td>0</td>\n      <td>0</td>\n      <td>0</td>\n      <td>1</td>\n      <td>0</td>\n      <td>...</td>\n      <td>1</td>\n      <td>0</td>\n      <td>0</td>\n      <td>0</td>\n      <td>0</td>\n      <td>0</td>\n      <td>1</td>\n      <td>0</td>\n      <td>0</td>\n      <td>0</td>\n    </tr>\n    <tr>\n      <th>3</th>\n      <td>True</td>\n      <td>1</td>\n      <td>0</td>\n      <td>0</td>\n      <td>0</td>\n      <td>0</td>\n      <td>1</td>\n      <td>0</td>\n      <td>0</td>\n      <td>1</td>\n      <td>...</td>\n      <td>0</td>\n      <td>1</td>\n      <td>0</td>\n      <td>0</td>\n      <td>0</td>\n      <td>0</td>\n      <td>0</td>\n      <td>0</td>\n      <td>1</td>\n      <td>0</td>\n    </tr>\n    <tr>\n      <th>4</th>\n      <td>False</td>\n      <td>0</td>\n      <td>0</td>\n      <td>0</td>\n      <td>0</td>\n      <td>0</td>\n      <td>1</td>\n      <td>0</td>\n      <td>1</td>\n      <td>0</td>\n      <td>...</td>\n      <td>0</td>\n      <td>0</td>\n      <td>0</td>\n      <td>0</td>\n      <td>1</td>\n      <td>0</td>\n      <td>0</td>\n      <td>0</td>\n      <td>0</td>\n      <td>0</td>\n    </tr>\n  </tbody>\n</table>\n<p>5 rows × 95 columns</p>\n</div>"
          },
          "metadata": {}
        }
      ],
      "execution_count": 10,
      "metadata": {
        "collapsed": true,
        "jupyter": {
          "source_hidden": false,
          "outputs_hidden": false
        },
        "nteract": {
          "transient": {
            "deleting": false
          }
        },
        "gather": {
          "logged": 1618878979388
        }
      }
    },
    {
      "cell_type": "code",
      "source": [
        "#Label Encoding\r\n",
        "for col in df.columns:\r\n",
        "    label_encoder = LabelEncoder()\r\n",
        "    feature = df[str(col)]\r\n",
        "    label_encoder.fit(feature)\r\n",
        "    print(feature.name, label_encoder.classes_)\r\n",
        "    df[str(col)] = label_encoder.transform(feature)\r\n",
        "\r\n",
        "df.head()"
      ],
      "outputs": [
        {
          "output_type": "stream",
          "name": "stdout",
          "text": [
            "class ['e' 'p']\n",
            "cap-shape ['b' 'c' 'f' 'k' 's' 'x']\n",
            "cap-surface ['f' 'g' 's' 'y']\n",
            "cap-color ['b' 'c' 'e' 'g' 'n' 'p' 'r' 'u' 'w' 'y']\n",
            "bruises [False  True]\n",
            "odor ['a' 'c' 'f' 'l' 'm' 'n' 'p' 's' 'y']\n",
            "gill-spacing ['c' 'w']\n",
            "gill-size ['b' 'n']\n",
            "gill-color ['b' 'e' 'g' 'h' 'k' 'n' 'o' 'p' 'r' 'u' 'w' 'y']\n",
            "stalk-shape ['e' 't']\n",
            "stalk-root ['?' 'b' 'c' 'e' 'r']\n",
            "stalk-surface-above-ring ['f' 'k' 's' 'y']\n",
            "stalk-surface-below-ring ['f' 'k' 's' 'y']\n",
            "stalk-color-above-ring ['b' 'c' 'e' 'g' 'n' 'o' 'p' 'w' 'y']\n",
            "stalk-color-below-ring ['b' 'c' 'e' 'g' 'n' 'o' 'p' 'w' 'y']\n",
            "veil-color ['n' 'o' 'w' 'y']\n",
            "ring-number ['n' 'o' 't']\n",
            "ring-type ['e' 'f' 'l' 'n' 'p']\n",
            "spore-print-color ['b' 'h' 'k' 'n' 'o' 'r' 'u' 'w' 'y']\n",
            "population ['a' 'c' 'n' 's' 'v' 'y']\n",
            "habitat ['d' 'g' 'l' 'm' 'p' 'u' 'w']\n"
          ]
        },
        {
          "output_type": "execute_result",
          "execution_count": 11,
          "data": {
            "text/plain": "   class  cap-shape  cap-surface  cap-color  bruises  odor  gill-spacing  \\\n0      1          5            2          4        1     6             0   \n1      0          5            2          9        1     0             0   \n2      0          0            2          8        1     3             0   \n3      1          5            3          8        1     6             0   \n4      0          5            2          3        0     5             1   \n\n   gill-size  gill-color  stalk-shape  ...  stalk-surface-above-ring  \\\n0          1           4            0  ...                         2   \n1          0           4            0  ...                         2   \n2          0           5            0  ...                         2   \n3          1           5            0  ...                         2   \n4          0           4            1  ...                         2   \n\n   stalk-surface-below-ring  stalk-color-above-ring  stalk-color-below-ring  \\\n0                         2                       7                       7   \n1                         2                       7                       7   \n2                         2                       7                       7   \n3                         2                       7                       7   \n4                         2                       7                       7   \n\n   veil-color  ring-number  ring-type  spore-print-color  population  habitat  \n0           2            1          4                  2           3        5  \n1           2            1          4                  3           2        1  \n2           2            1          4                  3           2        3  \n3           2            1          4                  2           3        5  \n4           2            1          0                  3           0        1  \n\n[5 rows x 21 columns]",
            "text/html": "<div>\n<style scoped>\n    .dataframe tbody tr th:only-of-type {\n        vertical-align: middle;\n    }\n\n    .dataframe tbody tr th {\n        vertical-align: top;\n    }\n\n    .dataframe thead th {\n        text-align: right;\n    }\n</style>\n<table border=\"1\" class=\"dataframe\">\n  <thead>\n    <tr style=\"text-align: right;\">\n      <th></th>\n      <th>class</th>\n      <th>cap-shape</th>\n      <th>cap-surface</th>\n      <th>cap-color</th>\n      <th>bruises</th>\n      <th>odor</th>\n      <th>gill-spacing</th>\n      <th>gill-size</th>\n      <th>gill-color</th>\n      <th>stalk-shape</th>\n      <th>...</th>\n      <th>stalk-surface-above-ring</th>\n      <th>stalk-surface-below-ring</th>\n      <th>stalk-color-above-ring</th>\n      <th>stalk-color-below-ring</th>\n      <th>veil-color</th>\n      <th>ring-number</th>\n      <th>ring-type</th>\n      <th>spore-print-color</th>\n      <th>population</th>\n      <th>habitat</th>\n    </tr>\n  </thead>\n  <tbody>\n    <tr>\n      <th>0</th>\n      <td>1</td>\n      <td>5</td>\n      <td>2</td>\n      <td>4</td>\n      <td>1</td>\n      <td>6</td>\n      <td>0</td>\n      <td>1</td>\n      <td>4</td>\n      <td>0</td>\n      <td>...</td>\n      <td>2</td>\n      <td>2</td>\n      <td>7</td>\n      <td>7</td>\n      <td>2</td>\n      <td>1</td>\n      <td>4</td>\n      <td>2</td>\n      <td>3</td>\n      <td>5</td>\n    </tr>\n    <tr>\n      <th>1</th>\n      <td>0</td>\n      <td>5</td>\n      <td>2</td>\n      <td>9</td>\n      <td>1</td>\n      <td>0</td>\n      <td>0</td>\n      <td>0</td>\n      <td>4</td>\n      <td>0</td>\n      <td>...</td>\n      <td>2</td>\n      <td>2</td>\n      <td>7</td>\n      <td>7</td>\n      <td>2</td>\n      <td>1</td>\n      <td>4</td>\n      <td>3</td>\n      <td>2</td>\n      <td>1</td>\n    </tr>\n    <tr>\n      <th>2</th>\n      <td>0</td>\n      <td>0</td>\n      <td>2</td>\n      <td>8</td>\n      <td>1</td>\n      <td>3</td>\n      <td>0</td>\n      <td>0</td>\n      <td>5</td>\n      <td>0</td>\n      <td>...</td>\n      <td>2</td>\n      <td>2</td>\n      <td>7</td>\n      <td>7</td>\n      <td>2</td>\n      <td>1</td>\n      <td>4</td>\n      <td>3</td>\n      <td>2</td>\n      <td>3</td>\n    </tr>\n    <tr>\n      <th>3</th>\n      <td>1</td>\n      <td>5</td>\n      <td>3</td>\n      <td>8</td>\n      <td>1</td>\n      <td>6</td>\n      <td>0</td>\n      <td>1</td>\n      <td>5</td>\n      <td>0</td>\n      <td>...</td>\n      <td>2</td>\n      <td>2</td>\n      <td>7</td>\n      <td>7</td>\n      <td>2</td>\n      <td>1</td>\n      <td>4</td>\n      <td>2</td>\n      <td>3</td>\n      <td>5</td>\n    </tr>\n    <tr>\n      <th>4</th>\n      <td>0</td>\n      <td>5</td>\n      <td>2</td>\n      <td>3</td>\n      <td>0</td>\n      <td>5</td>\n      <td>1</td>\n      <td>0</td>\n      <td>4</td>\n      <td>1</td>\n      <td>...</td>\n      <td>2</td>\n      <td>2</td>\n      <td>7</td>\n      <td>7</td>\n      <td>2</td>\n      <td>1</td>\n      <td>0</td>\n      <td>3</td>\n      <td>0</td>\n      <td>1</td>\n    </tr>\n  </tbody>\n</table>\n<p>5 rows × 21 columns</p>\n</div>"
          },
          "metadata": {}
        }
      ],
      "execution_count": 11,
      "metadata": {
        "collapsed": true,
        "jupyter": {
          "source_hidden": false,
          "outputs_hidden": false
        },
        "nteract": {
          "transient": {
            "deleting": false
          }
        },
        "gather": {
          "logged": 1618878980279
        }
      }
    },
    {
      "cell_type": "code",
      "source": [
        "#View of features post label-encoding\r\n",
        "df.hist(bins=5, figsize=(15,15));"
      ],
      "outputs": [
        {
          "output_type": "display_data",
          "data": {
            "text/plain": "<Figure size 1080x1080 with 25 Axes>",
            "image/png": "[encoded data removed]"
          },
          "metadata": {
            "needs_background": "light"
          }
        }
      ],
      "execution_count": 12,
      "metadata": {
        "collapsed": true,
        "jupyter": {
          "source_hidden": false,
          "outputs_hidden": false
        },
        "nteract": {
          "transient": {
            "deleting": false
          }
        },
        "gather": {
          "logged": 1618878984987
        }
      }
    },
    {
      "cell_type": "code",
      "source": [
        "#Split encoded data into independent and dependent variables to scale dependent data\r\n",
        "\r\n",
        "lc_y = df[\"class\"]\r\n",
        "lc_x = df.drop(\"class\", axis = 1)\r\n",
        "\r\n",
        "#Standardization of Features for Label Encoded Data\r\n",
        "scaler = StandardScaler()\r\n",
        "\r\n",
        "lc_x = pd.DataFrame(scaler.fit_transform(lc_x), columns = lc_x.columns)\r\n",
        "lc_x.head()"
      ],
      "outputs": [
        {
          "output_type": "execute_result",
          "execution_count": 13,
          "data": {
            "text/plain": "   cap-shape  cap-surface  cap-color  bruises  odor  gill-spacing  gill-size  \\\n0       1.03         0.14      -0.20     1.19  0.88         -0.44       1.49   \n1       1.03         0.14       1.77     1.19 -1.97         -0.44      -0.67   \n2      -2.09         0.14       1.37     1.19 -0.54         -0.44      -0.67   \n3       1.03         0.95       1.37     1.19  0.88         -0.44       1.49   \n4       1.03         0.14      -0.59    -0.84  0.41          2.28      -0.67   \n\n   gill-color  stalk-shape  stalk-root  stalk-surface-above-ring  \\\n0       -0.23        -1.14        1.78                      0.68   \n1       -0.23        -1.14        0.84                      0.68   \n2        0.05        -1.14        0.84                      0.68   \n3        0.05        -1.14        1.78                      0.68   \n4       -0.23         0.87        1.78                      0.68   \n\n   stalk-surface-below-ring  stalk-color-above-ring  stalk-color-below-ring  \\\n0                      0.59                    0.62                    0.63   \n1                      0.59                    0.62                    0.63   \n2                      0.59                    0.62                    0.63   \n3                      0.59                    0.62                    0.63   \n4                      0.59                    0.62                    0.63   \n\n   veil-color  ring-number  ring-type  spore-print-color  population  habitat  \n0        0.14        -0.26       0.95              -0.67       -0.51     2.03  \n1        0.14        -0.26       0.95              -0.25       -1.31    -0.30  \n2        0.14        -0.26       0.95              -0.25       -1.31     0.87  \n3        0.14        -0.26       0.95              -0.67       -0.51     2.03  \n4        0.14        -0.26      -1.27              -0.25       -2.91    -0.30  ",
            "text/html": "<div>\n<style scoped>\n    .dataframe tbody tr th:only-of-type {\n        vertical-align: middle;\n    }\n\n    .dataframe tbody tr th {\n        vertical-align: top;\n    }\n\n    .dataframe thead th {\n        text-align: right;\n    }\n</style>\n<table border=\"1\" class=\"dataframe\">\n  <thead>\n    <tr style=\"text-align: right;\">\n      <th></th>\n      <th>cap-shape</th>\n      <th>cap-surface</th>\n      <th>cap-color</th>\n      <th>bruises</th>\n      <th>odor</th>\n      <th>gill-spacing</th>\n      <th>gill-size</th>\n      <th>gill-color</th>\n      <th>stalk-shape</th>\n      <th>stalk-root</th>\n      <th>stalk-surface-above-ring</th>\n      <th>stalk-surface-below-ring</th>\n      <th>stalk-color-above-ring</th>\n      <th>stalk-color-below-ring</th>\n      <th>veil-color</th>\n      <th>ring-number</th>\n      <th>ring-type</th>\n      <th>spore-print-color</th>\n      <th>population</th>\n      <th>habitat</th>\n    </tr>\n  </thead>\n  <tbody>\n    <tr>\n      <th>0</th>\n      <td>1.03</td>\n      <td>0.14</td>\n      <td>-0.20</td>\n      <td>1.19</td>\n      <td>0.88</td>\n      <td>-0.44</td>\n      <td>1.49</td>\n      <td>-0.23</td>\n      <td>-1.14</td>\n      <td>1.78</td>\n      <td>0.68</td>\n      <td>0.59</td>\n      <td>0.62</td>\n      <td>0.63</td>\n      <td>0.14</td>\n      <td>-0.26</td>\n      <td>0.95</td>\n      <td>-0.67</td>\n      <td>-0.51</td>\n      <td>2.03</td>\n    </tr>\n    <tr>\n      <th>1</th>\n      <td>1.03</td>\n      <td>0.14</td>\n      <td>1.77</td>\n      <td>1.19</td>\n      <td>-1.97</td>\n      <td>-0.44</td>\n      <td>-0.67</td>\n      <td>-0.23</td>\n      <td>-1.14</td>\n      <td>0.84</td>\n      <td>0.68</td>\n      <td>0.59</td>\n      <td>0.62</td>\n      <td>0.63</td>\n      <td>0.14</td>\n      <td>-0.26</td>\n      <td>0.95</td>\n      <td>-0.25</td>\n      <td>-1.31</td>\n      <td>-0.30</td>\n    </tr>\n    <tr>\n      <th>2</th>\n      <td>-2.09</td>\n      <td>0.14</td>\n      <td>1.37</td>\n      <td>1.19</td>\n      <td>-0.54</td>\n      <td>-0.44</td>\n      <td>-0.67</td>\n      <td>0.05</td>\n      <td>-1.14</td>\n      <td>0.84</td>\n      <td>0.68</td>\n      <td>0.59</td>\n      <td>0.62</td>\n      <td>0.63</td>\n      <td>0.14</td>\n      <td>-0.26</td>\n      <td>0.95</td>\n      <td>-0.25</td>\n      <td>-1.31</td>\n      <td>0.87</td>\n    </tr>\n    <tr>\n      <th>3</th>\n      <td>1.03</td>\n      <td>0.95</td>\n      <td>1.37</td>\n      <td>1.19</td>\n      <td>0.88</td>\n      <td>-0.44</td>\n      <td>1.49</td>\n      <td>0.05</td>\n      <td>-1.14</td>\n      <td>1.78</td>\n      <td>0.68</td>\n      <td>0.59</td>\n      <td>0.62</td>\n      <td>0.63</td>\n      <td>0.14</td>\n      <td>-0.26</td>\n      <td>0.95</td>\n      <td>-0.67</td>\n      <td>-0.51</td>\n      <td>2.03</td>\n    </tr>\n    <tr>\n      <th>4</th>\n      <td>1.03</td>\n      <td>0.14</td>\n      <td>-0.59</td>\n      <td>-0.84</td>\n      <td>0.41</td>\n      <td>2.28</td>\n      <td>-0.67</td>\n      <td>-0.23</td>\n      <td>0.87</td>\n      <td>1.78</td>\n      <td>0.68</td>\n      <td>0.59</td>\n      <td>0.62</td>\n      <td>0.63</td>\n      <td>0.14</td>\n      <td>-0.26</td>\n      <td>-1.27</td>\n      <td>-0.25</td>\n      <td>-2.91</td>\n      <td>-0.30</td>\n    </tr>\n  </tbody>\n</table>\n</div>"
          },
          "metadata": {}
        }
      ],
      "execution_count": 13,
      "metadata": {
        "collapsed": true,
        "jupyter": {
          "source_hidden": false,
          "outputs_hidden": false
        },
        "nteract": {
          "transient": {
            "deleting": false
          }
        },
        "gather": {
          "logged": 1618878985608
        }
      }
    },
    {
      "cell_type": "code",
      "source": [
        "#Rejoin Y with X data\r\n",
        "lc = lc_x.join(lc_y)\r\n",
        "\r\n",
        "lc.head()"
      ],
      "outputs": [
        {
          "output_type": "execute_result",
          "execution_count": 14,
          "data": {
            "text/plain": "   cap-shape  cap-surface  cap-color  bruises  odor  gill-spacing  gill-size  \\\n0       1.03         0.14      -0.20     1.19  0.88         -0.44       1.49   \n1       1.03         0.14       1.77     1.19 -1.97         -0.44      -0.67   \n2      -2.09         0.14       1.37     1.19 -0.54         -0.44      -0.67   \n3       1.03         0.95       1.37     1.19  0.88         -0.44       1.49   \n4       1.03         0.14      -0.59    -0.84  0.41          2.28      -0.67   \n\n   gill-color  stalk-shape  stalk-root  ...  stalk-surface-below-ring  \\\n0       -0.23        -1.14        1.78  ...                      0.59   \n1       -0.23        -1.14        0.84  ...                      0.59   \n2        0.05        -1.14        0.84  ...                      0.59   \n3        0.05        -1.14        1.78  ...                      0.59   \n4       -0.23         0.87        1.78  ...                      0.59   \n\n   stalk-color-above-ring  stalk-color-below-ring  veil-color  ring-number  \\\n0                    0.62                    0.63        0.14        -0.26   \n1                    0.62                    0.63        0.14        -0.26   \n2                    0.62                    0.63        0.14        -0.26   \n3                    0.62                    0.63        0.14        -0.26   \n4                    0.62                    0.63        0.14        -0.26   \n\n   ring-type  spore-print-color  population  habitat  class  \n0       0.95              -0.67       -0.51     2.03      1  \n1       0.95              -0.25       -1.31    -0.30      0  \n2       0.95              -0.25       -1.31     0.87      0  \n3       0.95              -0.67       -0.51     2.03      1  \n4      -1.27              -0.25       -2.91    -0.30      0  \n\n[5 rows x 21 columns]",
            "text/html": "<div>\n<style scoped>\n    .dataframe tbody tr th:only-of-type {\n        vertical-align: middle;\n    }\n\n    .dataframe tbody tr th {\n        vertical-align: top;\n    }\n\n    .dataframe thead th {\n        text-align: right;\n    }\n</style>\n<table border=\"1\" class=\"dataframe\">\n  <thead>\n    <tr style=\"text-align: right;\">\n      <th></th>\n      <th>cap-shape</th>\n      <th>cap-surface</th>\n      <th>cap-color</th>\n      <th>bruises</th>\n      <th>odor</th>\n      <th>gill-spacing</th>\n      <th>gill-size</th>\n      <th>gill-color</th>\n      <th>stalk-shape</th>\n      <th>stalk-root</th>\n      <th>...</th>\n      <th>stalk-surface-below-ring</th>\n      <th>stalk-color-above-ring</th>\n      <th>stalk-color-below-ring</th>\n      <th>veil-color</th>\n      <th>ring-number</th>\n      <th>ring-type</th>\n      <th>spore-print-color</th>\n      <th>population</th>\n      <th>habitat</th>\n      <th>class</th>\n    </tr>\n  </thead>\n  <tbody>\n    <tr>\n      <th>0</th>\n      <td>1.03</td>\n      <td>0.14</td>\n      <td>-0.20</td>\n      <td>1.19</td>\n      <td>0.88</td>\n      <td>-0.44</td>\n      <td>1.49</td>\n      <td>-0.23</td>\n      <td>-1.14</td>\n      <td>1.78</td>\n      <td>...</td>\n      <td>0.59</td>\n      <td>0.62</td>\n      <td>0.63</td>\n      <td>0.14</td>\n      <td>-0.26</td>\n      <td>0.95</td>\n      <td>-0.67</td>\n      <td>-0.51</td>\n      <td>2.03</td>\n      <td>1</td>\n    </tr>\n    <tr>\n      <th>1</th>\n      <td>1.03</td>\n      <td>0.14</td>\n      <td>1.77</td>\n      <td>1.19</td>\n      <td>-1.97</td>\n      <td>-0.44</td>\n      <td>-0.67</td>\n      <td>-0.23</td>\n      <td>-1.14</td>\n      <td>0.84</td>\n      <td>...</td>\n      <td>0.59</td>\n      <td>0.62</td>\n      <td>0.63</td>\n      <td>0.14</td>\n      <td>-0.26</td>\n      <td>0.95</td>\n      <td>-0.25</td>\n      <td>-1.31</td>\n      <td>-0.30</td>\n      <td>0</td>\n    </tr>\n    <tr>\n      <th>2</th>\n      <td>-2.09</td>\n      <td>0.14</td>\n      <td>1.37</td>\n      <td>1.19</td>\n      <td>-0.54</td>\n      <td>-0.44</td>\n      <td>-0.67</td>\n      <td>0.05</td>\n      <td>-1.14</td>\n      <td>0.84</td>\n      <td>...</td>\n      <td>0.59</td>\n      <td>0.62</td>\n      <td>0.63</td>\n      <td>0.14</td>\n      <td>-0.26</td>\n      <td>0.95</td>\n      <td>-0.25</td>\n      <td>-1.31</td>\n      <td>0.87</td>\n      <td>0</td>\n    </tr>\n    <tr>\n      <th>3</th>\n      <td>1.03</td>\n      <td>0.95</td>\n      <td>1.37</td>\n      <td>1.19</td>\n      <td>0.88</td>\n      <td>-0.44</td>\n      <td>1.49</td>\n      <td>0.05</td>\n      <td>-1.14</td>\n      <td>1.78</td>\n      <td>...</td>\n      <td>0.59</td>\n      <td>0.62</td>\n      <td>0.63</td>\n      <td>0.14</td>\n      <td>-0.26</td>\n      <td>0.95</td>\n      <td>-0.67</td>\n      <td>-0.51</td>\n      <td>2.03</td>\n      <td>1</td>\n    </tr>\n    <tr>\n      <th>4</th>\n      <td>1.03</td>\n      <td>0.14</td>\n      <td>-0.59</td>\n      <td>-0.84</td>\n      <td>0.41</td>\n      <td>2.28</td>\n      <td>-0.67</td>\n      <td>-0.23</td>\n      <td>0.87</td>\n      <td>1.78</td>\n      <td>...</td>\n      <td>0.59</td>\n      <td>0.62</td>\n      <td>0.63</td>\n      <td>0.14</td>\n      <td>-0.26</td>\n      <td>-1.27</td>\n      <td>-0.25</td>\n      <td>-2.91</td>\n      <td>-0.30</td>\n      <td>0</td>\n    </tr>\n  </tbody>\n</table>\n<p>5 rows × 21 columns</p>\n</div>"
          },
          "metadata": {}
        }
      ],
      "execution_count": 14,
      "metadata": {
        "collapsed": true,
        "jupyter": {
          "source_hidden": false,
          "outputs_hidden": false
        },
        "nteract": {
          "transient": {
            "deleting": false
          }
        },
        "gather": {
          "logged": 1618878986944
        }
      }
    },
    {
      "cell_type": "markdown",
      "source": [
        "# AutoML Configuration\n",
        "Here I ran both types of encoding to see if it would affect the results and which one worked better for this kind of problem. I used the same settings for both types of runs to see if it would be a factor in my results but I got roughly the same results from both encoding types which tells me that for this problem, either type of encoding was acceptable.\n",
        "\n",
        "## AutoML Runs\n",
        "For both the OHC and the Label Encoding runs, I chose an experiment timeout of 30 minutes to start and I was going to raise it if needed but all my runs finished within the time limit so this works.\n",
        "Early stopping is a good thing to have because it means your model won't continuously run algorithms that give the same results if no improvement is found, it conserves resources and time.\n",
        "Each iteration timeout I set to 5 because it was a default value I found in a previous project but it seems to be working fine, I was prepared to raise it as soon as it seemed like it was interfering with my results.\n",
        "The max concurrent iterations is set to 2 because I have a max of 2 cores on my compute.\n",
        "\n",
        "I chose accuracy as my primary metric because this is a classification problem and accuracy in determining poisonous and edible is the ultimate goal. I set cross validations to 5 because my dataset is not massive (relative to some of the others out there) so I felt this was enough. I also enabled ONXX compatibility so I can save my model to the ONXX store. I discovered that the ONXX compatibility models enabled option was throwing warnings but it was still in the AzureML documentation so I was unsure how to reconcile that issue."
      ],
      "metadata": {}
    },
    {
      "cell_type": "code",
      "source": [
        "#AutoML settings for both runs\n",
        "automl_settings = {\n",
        "                    \"experiment_timeout_hours\" : 0.5,\n",
        "                    \"enable_early_stopping\" : True,\n",
        "                    \"iteration_timeout_minutes\": 5,\n",
        "                    \"max_concurrent_iterations\": 2,\n",
        "                    \"max_cores_per_iteration\": -1,\n",
        "                    \"featurization\": 'auto',\n",
        "                    \"verbosity\": logging.INFO,\n",
        "                }\n",
        "#One Hot Encoding AutoMLConfig\n",
        "ohc_config = AutoMLConfig(\n",
        "    task=\"classification\",\n",
        "    primary_metric='accuracy',\n",
        "    training_data=ohc,\n",
        "    label_column_name='class_p',\n",
        "    enable_onnx_compatible_models=True,\n",
        "    n_cross_validations=5,\n",
        "    **automl_settings\n",
        "    )"
      ],
      "outputs": [],
      "execution_count": 15,
      "metadata": {
        "gather": {
          "logged": 1618878990692
        },
        "jupyter": {
          "outputs_hidden": false,
          "source_hidden": false
        },
        "nteract": {
          "transient": {
            "deleting": false
          }
        }
      }
    },
    {
      "cell_type": "code",
      "source": [
        "#Submit your experiment\n",
        "exp = Experiment(ws,\"mushroom_ohc_automl\")\n",
        "ohc_run = experiment.submit(ohc_config, show_output = True)"
      ],
      "outputs": [
        {
          "output_type": "stream",
          "name": "stdout",
          "text": [
            "No run_configuration provided, running on local with default configuration\n",
            "Running on local machine\n",
            "Parent Run ID: AutoML_92f091ad-ff17-4c7b-9489-4d7c9791b535\n",
            "\n",
            "Current status: DatasetEvaluation. Gathering dataset statistics.\n",
            "Current status: FeaturesGeneration. Generating features for the dataset.\n",
            "Current status: DatasetFeaturization. Beginning to fit featurizers and featurize the dataset.\n",
            "Current status: DatasetFeaturizationCompleted. Completed fit featurizers and featurizing the dataset.\n",
            "Current status: DatasetCrossValidationSplit. Generating individually featurized CV splits.\n",
            "\n",
            "****************************************************************************************************\n",
            "DATA GUARDRAILS: \n",
            "\n",
            "TYPE:         Class balancing detection\n",
            "STATUS:       PASSED\n",
            "DESCRIPTION:  Your inputs were analyzed, and all classes are balanced in your training data.\n",
            "              Learn more about imbalanced data: https://aka.ms/AutomatedMLImbalancedData\n",
            "\n",
            "****************************************************************************************************\n",
            "\n",
            "TYPE:         Missing feature values imputation\n",
            "STATUS:       PASSED\n",
            "DESCRIPTION:  No feature missing values were detected in the training data.\n",
            "              Learn more about missing value imputation: https://aka.ms/AutomatedMLFeaturization\n",
            "\n",
            "****************************************************************************************************\n",
            "\n",
            "TYPE:         High cardinality feature detection\n",
            "STATUS:       PASSED\n",
            "DESCRIPTION:  Your inputs were analyzed, and no high cardinality features were detected.\n",
            "              Learn more about high cardinality feature handling: https://aka.ms/AutomatedMLFeaturization\n",
            "\n",
            "****************************************************************************************************\n",
            "Current status: ModelSelection. Beginning model selection.\n",
            "\n",
            "****************************************************************************************************\n",
            "ITERATION: The iteration being evaluated.\n",
            "PIPELINE: A summary description of the pipeline being evaluated.\n",
            "DURATION: Time taken for the current iteration.\n",
            "METRIC: The result of computing score on the fitted pipeline.\n",
            "BEST: The best observed score thus far.\n",
            "****************************************************************************************************\n",
            "\n",
            " ITERATION   PIPELINE                                       DURATION      METRIC      BEST\n",
            "         0   MaxAbsScaler LightGBM                          0:00:30       1.0000    1.0000\n",
            "         1                                                  0:00:08          nan    1.0000\n",
            "ERROR: FitException:\n",
            "\tMessage: /anaconda/envs/azureml_py36/lib/libxgboost.so: undefined symbol: XGDMatrixSetDenseInfo\n",
            "\tInnerException: AttributeError: /anaconda/envs/azureml_py36/lib/libxgboost.so: undefined symbol: XGDMatrixSetDenseInfo\n",
            "\tErrorResponse \n",
            "{\n",
            "    \"error\": {\n",
            "        \"code\": \"SystemError\",\n",
            "        \"message\": \"Encountered an internal AutoML error. Error Message/Code: FitException. Additional Info: FitException:\\n\\tMessage: /anaconda/envs/azureml_py36/lib/libxgboost.so: undefined symbol: XGDMatrixSetDenseInfo\\n\\tInnerException: None\\n\\tErrorResponse \\n{\\n    \\\"error\\\": {\\n        \\\"message\\\": \\\"/anaconda/envs/azureml_py36/lib/libxgboost.so: undefined symbol: XGDMatrixSetDenseInfo\\\",\\n        \\\"target\\\": \\\"Xgboost\\\",\\n        \\\"reference_code\\\": \\\"Xgboost\\\"\\n    }\\n}\",\n",
            "        \"details_uri\": \"https://docs.microsoft.com/azure/machine-learning/resource-known-issues#automated-machine-learning\",\n",
            "        \"target\": \"Xgboost\",\n",
            "        \"inner_error\": {\n",
            "            \"code\": \"ClientError\",\n",
            "            \"inner_error\": {\n",
            "                \"code\": \"AutoMLInternal\"\n",
            "            }\n",
            "        },\n",
            "        \"reference_code\": \"Xgboost\"\n",
            "    }\n",
            "}\n",
            "         2   MinMaxScaler RandomForest                      0:00:26       0.9818    1.0000\n",
            "         3   MinMaxScaler RandomForest                      0:00:26       0.9380    1.0000\n",
            "         4   MinMaxScaler RandomForest                      0:00:32       0.9828    1.0000\n",
            "         5                                                  0:00:09          nan    1.0000\n",
            "ERROR: FitException:\n",
            "\tMessage: /anaconda/envs/azureml_py36/lib/libxgboost.so: undefined symbol: XGDMatrixSetDenseInfo\n",
            "\tInnerException: AttributeError: /anaconda/envs/azureml_py36/lib/libxgboost.so: undefined symbol: XGDMatrixSetDenseInfo\n",
            "\tErrorResponse \n",
            "{\n",
            "    \"error\": {\n",
            "        \"code\": \"SystemError\",\n",
            "        \"message\": \"Encountered an internal AutoML error. Error Message/Code: FitException. Additional Info: FitException:\\n\\tMessage: /anaconda/envs/azureml_py36/lib/libxgboost.so: undefined symbol: XGDMatrixSetDenseInfo\\n\\tInnerException: None\\n\\tErrorResponse \\n{\\n    \\\"error\\\": {\\n        \\\"message\\\": \\\"/anaconda/envs/azureml_py36/lib/libxgboost.so: undefined symbol: XGDMatrixSetDenseInfo\\\",\\n        \\\"target\\\": \\\"Xgboost\\\",\\n        \\\"reference_code\\\": \\\"Xgboost\\\"\\n    }\\n}\",\n",
            "        \"details_uri\": \"https://docs.microsoft.com/azure/machine-learning/resource-known-issues#automated-machine-learning\",\n",
            "        \"target\": \"Xgboost\",\n",
            "        \"inner_error\": {\n",
            "            \"code\": \"ClientError\",\n",
            "            \"inner_error\": {\n",
            "                \"code\": \"AutoMLInternal\"\n",
            "            }\n",
            "        },\n",
            "        \"reference_code\": \"Xgboost\"\n",
            "    }\n",
            "}\n",
            "         6   MinMaxScaler LightGBM                          0:00:26       0.9332    1.0000\n",
            "         7   MaxAbsScaler LightGBM                          0:00:27       0.9936    1.0000\n",
            "         8   StandardScalerWrapper LightGBM                 0:00:42       0.9760    1.0000\n",
            "         9   MaxAbsScaler LightGBM                          0:00:31       0.9825    1.0000\n",
            "        10   StandardScalerWrapper LogisticRegression       0:00:35       0.9996    1.0000\n",
            "        11   RobustScaler ExtremeRandomTrees                0:00:28       0.9714    1.0000\n",
            "        12                                                  0:00:08          nan    1.0000\n",
            "ERROR: FitException:\n",
            "\tMessage: /anaconda/envs/azureml_py36/lib/libxgboost.so: undefined symbol: XGDMatrixSetDenseInfo\n",
            "\tInnerException: AttributeError: /anaconda/envs/azureml_py36/lib/libxgboost.so: undefined symbol: XGDMatrixSetDenseInfo\n",
            "\tErrorResponse \n",
            "{\n",
            "    \"error\": {\n",
            "        \"code\": \"SystemError\",\n",
            "        \"message\": \"Encountered an internal AutoML error. Error Message/Code: FitException. Additional Info: FitException:\\n\\tMessage: /anaconda/envs/azureml_py36/lib/libxgboost.so: undefined symbol: XGDMatrixSetDenseInfo\\n\\tInnerException: None\\n\\tErrorResponse \\n{\\n    \\\"error\\\": {\\n        \\\"message\\\": \\\"/anaconda/envs/azureml_py36/lib/libxgboost.so: undefined symbol: XGDMatrixSetDenseInfo\\\",\\n        \\\"target\\\": \\\"Xgboost\\\",\\n        \\\"reference_code\\\": \\\"Xgboost\\\"\\n    }\\n}\",\n",
            "        \"details_uri\": \"https://docs.microsoft.com/azure/machine-learning/resource-known-issues#automated-machine-learning\",\n",
            "        \"target\": \"Xgboost\",\n",
            "        \"inner_error\": {\n",
            "            \"code\": \"ClientError\",\n",
            "            \"inner_error\": {\n",
            "                \"code\": \"AutoMLInternal\"\n",
            "            }\n",
            "        },\n",
            "        \"reference_code\": \"Xgboost\"\n",
            "    }\n",
            "}\n",
            "        13   MinMaxScaler LogisticRegression                0:00:32       1.0000    1.0000\n",
            "        14   StandardScalerWrapper LogisticRegression       0:00:28       1.0000    1.0000\n",
            "        15                                                  0:00:08          nan    1.0000\n",
            "ERROR: FitException:\n",
            "\tMessage: /anaconda/envs/azureml_py36/lib/libxgboost.so: undefined symbol: XGDMatrixSetDenseInfo\n",
            "\tInnerException: AttributeError: /anaconda/envs/azureml_py36/lib/libxgboost.so: undefined symbol: XGDMatrixSetDenseInfo\n",
            "\tErrorResponse \n",
            "{\n",
            "    \"error\": {\n",
            "        \"code\": \"SystemError\",\n",
            "        \"message\": \"Encountered an internal AutoML error. Error Message/Code: FitException. Additional Info: FitException:\\n\\tMessage: /anaconda/envs/azureml_py36/lib/libxgboost.so: undefined symbol: XGDMatrixSetDenseInfo\\n\\tInnerException: None\\n\\tErrorResponse \\n{\\n    \\\"error\\\": {\\n        \\\"message\\\": \\\"/anaconda/envs/azureml_py36/lib/libxgboost.so: undefined symbol: XGDMatrixSetDenseInfo\\\",\\n        \\\"target\\\": \\\"Xgboost\\\",\\n        \\\"reference_code\\\": \\\"Xgboost\\\"\\n    }\\n}\",\n",
            "        \"details_uri\": \"https://docs.microsoft.com/azure/machine-learning/resource-known-issues#automated-machine-learning\",\n",
            "        \"target\": \"Xgboost\",\n",
            "        \"inner_error\": {\n",
            "            \"code\": \"ClientError\",\n",
            "            \"inner_error\": {\n",
            "                \"code\": \"AutoMLInternal\"\n",
            "            }\n",
            "        },\n",
            "        \"reference_code\": \"Xgboost\"\n",
            "    }\n",
            "}\n",
            "        16   StandardScalerWrapper LogisticRegression       0:00:33       0.9996    1.0000\n",
            "        17   MinMaxScaler LightGBM                          0:00:27       0.9870    1.0000\n",
            "        18   StandardScalerWrapper LogisticRegression       0:00:36       0.9995    1.0000\n",
            "        19   MaxAbsScaler ExtremeRandomTrees                0:00:32       0.9756    1.0000\n",
            "        20                                                  0:00:08          nan    1.0000\n",
            "ERROR: FitException:\n",
            "\tMessage: /anaconda/envs/azureml_py36/lib/libxgboost.so: undefined symbol: XGDMatrixSetDenseInfo\n",
            "\tInnerException: AttributeError: /anaconda/envs/azureml_py36/lib/libxgboost.so: undefined symbol: XGDMatrixSetDenseInfo\n",
            "\tErrorResponse \n",
            "{\n",
            "    \"error\": {\n",
            "        \"code\": \"SystemError\",\n",
            "        \"message\": \"Encountered an internal AutoML error. Error Message/Code: FitException. Additional Info: FitException:\\n\\tMessage: /anaconda/envs/azureml_py36/lib/libxgboost.so: undefined symbol: XGDMatrixSetDenseInfo\\n\\tInnerException: None\\n\\tErrorResponse \\n{\\n    \\\"error\\\": {\\n        \\\"message\\\": \\\"/anaconda/envs/azureml_py36/lib/libxgboost.so: undefined symbol: XGDMatrixSetDenseInfo\\\",\\n        \\\"target\\\": \\\"Xgboost\\\",\\n        \\\"reference_code\\\": \\\"Xgboost\\\"\\n    }\\n}\",\n",
            "        \"details_uri\": \"https://docs.microsoft.com/azure/machine-learning/resource-known-issues#automated-machine-learning\",\n",
            "        \"target\": \"Xgboost\",\n",
            "        \"inner_error\": {\n",
            "            \"code\": \"ClientError\",\n",
            "            \"inner_error\": {\n",
            "                \"code\": \"AutoMLInternal\"\n",
            "            }\n",
            "        },\n",
            "        \"reference_code\": \"Xgboost\"\n",
            "    }\n",
            "}\n",
            "        21   StandardScalerWrapper LogisticRegression       0:00:34       0.9996    1.0000\n",
            "        22   StandardScalerWrapper LogisticRegression       0:00:31       0.9996    1.0000\n",
            "        23   SparseNormalizer LightGBM                      0:00:26       0.9775    1.0000\n",
            "        24   SparseNormalizer LightGBM                      0:00:27       0.9991    1.0000\n",
            "        25   PCA LightGBM                                   0:00:26       0.8933    1.0000\n",
            "        26   RobustScaler LogisticRegression                0:00:31       1.0000    1.0000\n",
            "        27   StandardScalerWrapper LogisticRegression       0:00:29       0.9996    1.0000\n",
            "        28   RobustScaler LogisticRegression                0:00:31       1.0000    1.0000\n",
            "        29   RobustScaler LogisticRegression                0:00:36       1.0000    1.0000\n",
            "        30   PCA LightGBM                                   0:00:29       0.8996    1.0000\n",
            "        31   VotingEnsemble                                 0:00:33       1.0000    1.0000\n",
            "Stopping criteria reached at iteration 32. Ending experiment.\n",
            "****************************************************************************************************\n",
            "Current status: BestRunExplainModel. Best run model explanations started\n",
            "Current status: ModelExplanationDataSetSetup. Model explanations data setup completed\n",
            "Current status: PickSurrogateModel. Choosing LightGBM as the surrogate model for explanations\n",
            "Current status: EngineeredFeatureExplanations. Computation of engineered features started\n",
            "Current status: EngineeredFeatureExplanations. Computation of engineered features completed\n",
            "Current status: RawFeaturesExplanations. Computation of raw features started\n",
            "Current status: RawFeaturesExplanations. Computation of raw features completed\n",
            "Current status: BestRunExplainModel. Best run model explanations completed\n",
            "****************************************************************************************************\n"
          ]
        }
      ],
      "execution_count": 16,
      "metadata": {
        "gather": {
          "logged": 1618880108453
        },
        "jupyter": {
          "outputs_hidden": false,
          "source_hidden": false
        },
        "nteract": {
          "transient": {
            "deleting": false
          }
        }
      }
    },
    {
      "cell_type": "code",
      "source": [
        "RunDetails(ohc_run).show()\r\n",
        "ohc_run.wait_for_completion()"
      ],
      "outputs": [
        {
          "output_type": "display_data",
          "data": {
            "text/plain": "_AutoMLWidget(widget_settings={'childWidgetDisplay': 'popup', 'send_telemetry': False, 'log_level': 'INFO', 's…",
            "application/vnd.jupyter.widget-view+json": {
              "version_major": 2,
              "version_minor": 0,
              "model_id": "2ff767145332426495648e1fb0f44f6e"
            }
          },
          "metadata": {}
        },
        {
          "output_type": "display_data",
          "data": {
            "application/aml.mini.widget.v1": "{\"status\": \"Completed\", \"workbench_run_details_uri\": \"https://ml.azure.com/experiments/mushroom-classification-final/runs/AutoML_92f091ad-ff17-4c7b-9489-4d7c9791b535?wsid=/subscriptions/095d396f-a6aa-423a-90bb-d2146baff999/resourcegroups/main-workspace/workspaces/sandbox-main\", \"run_id\": \"AutoML_92f091ad-ff17-4c7b-9489-4d7c9791b535\", \"run_properties\": {\"run_id\": \"AutoML_92f091ad-ff17-4c7b-9489-4d7c9791b535\", \"created_utc\": \"2021-04-20T00:36:36.964661Z\", \"properties\": {\"num_iterations\": \"1000\", \"training_type\": \"TrainFull\", \"acquisition_function\": \"EI\", \"primary_metric\": \"accuracy\", \"train_split\": \"0\", \"acquisition_parameter\": \"0\", \"num_cross_validation\": \"5\", \"target\": \"local\", \"AMLSettingsJsonString\": \"{\\\"path\\\":null,\\\"name\\\":\\\"mushroom-classification-final\\\",\\\"subscription_id\\\":\\\"095d396f-a6aa-423a-90bb-d2146baff999\\\",\\\"resource_group\\\":\\\"main-workspace\\\",\\\"workspace_name\\\":\\\"sandbox-main\\\",\\\"region\\\":\\\"westus2\\\",\\\"compute_target\\\":\\\"local\\\",\\\"spark_service\\\":null,\\\"azure_service\\\":\\\"Microsoft.AzureNotebookVM\\\",\\\"many_models\\\":false,\\\"pipeline_fetch_max_batch_size\\\":1,\\\"iterations\\\":1000,\\\"primary_metric\\\":\\\"accuracy\\\",\\\"task_type\\\":\\\"classification\\\",\\\"data_script\\\":null,\\\"validation_size\\\":0.0,\\\"n_cross_validations\\\":5,\\\"y_min\\\":null,\\\"y_max\\\":null,\\\"num_classes\\\":2,\\\"featurization\\\":\\\"auto\\\",\\\"_ignore_package_version_incompatibilities\\\":false,\\\"is_timeseries\\\":false,\\\"max_cores_per_iteration\\\":-1,\\\"max_concurrent_iterations\\\":2,\\\"iteration_timeout_minutes\\\":5,\\\"mem_in_mb\\\":null,\\\"enforce_time_on_windows\\\":false,\\\"experiment_timeout_minutes\\\":30,\\\"experiment_exit_score\\\":null,\\\"whitelist_models\\\":null,\\\"blacklist_algos\\\":[\\\"TensorFlowLinearClassifier\\\",\\\"TensorFlowDNN\\\"],\\\"supported_models\\\":[\\\"TensorFlowDNN\\\",\\\"ExtremeRandomTrees\\\",\\\"LightGBM\\\",\\\"SGD\\\",\\\"MultinomialNaiveBayes\\\",\\\"LogisticRegression\\\",\\\"DecisionTree\\\",\\\"AveragedPerceptronClassifier\\\",\\\"TensorFlowLinearClassifier\\\",\\\"XGBoostClassifier\\\",\\\"SVM\\\",\\\"LinearSVM\\\",\\\"RandomForest\\\",\\\"KNN\\\",\\\"GradientBoosting\\\",\\\"BernoulliNaiveBayes\\\"],\\\"private_models\\\":[],\\\"auto_blacklist\\\":true,\\\"blacklist_samples_reached\\\":false,\\\"exclude_nan_labels\\\":true,\\\"verbosity\\\":20,\\\"_debug_log\\\":\\\"automl.log\\\",\\\"show_warnings\\\":false,\\\"model_explainability\\\":true,\\\"service_url\\\":null,\\\"sdk_url\\\":null,\\\"sdk_packages\\\":null,\\\"enable_onnx_compatible_models\\\":true,\\\"enable_split_onnx_featurizer_estimator_models\\\":false,\\\"vm_type\\\":null,\\\"telemetry_verbosity\\\":20,\\\"send_telemetry\\\":true,\\\"enable_dnn\\\":false,\\\"scenario\\\":\\\"SDK-1.13.0\\\",\\\"environment_label\\\":null,\\\"force_text_dnn\\\":false,\\\"enable_feature_sweeping\\\":false,\\\"enable_early_stopping\\\":true,\\\"early_stopping_n_iters\\\":10,\\\"metrics\\\":null,\\\"enable_ensembling\\\":true,\\\"enable_stack_ensembling\\\":false,\\\"ensemble_iterations\\\":15,\\\"enable_tf\\\":false,\\\"enable_subsampling\\\":null,\\\"subsample_seed\\\":null,\\\"enable_nimbusml\\\":false,\\\"enable_streaming\\\":false,\\\"force_streaming\\\":false,\\\"track_child_runs\\\":true,\\\"allowed_private_models\\\":[],\\\"label_column_name\\\":\\\"class_p\\\",\\\"weight_column_name\\\":null,\\\"cv_split_column_names\\\":null,\\\"enable_local_managed\\\":false,\\\"_local_managed_run_id\\\":null,\\\"cost_mode\\\":1,\\\"lag_length\\\":0,\\\"metric_operation\\\":\\\"maximize\\\",\\\"preprocess\\\":true}\", \"DataPrepJsonString\": null, \"EnableSubsampling\": null, \"runTemplate\": \"AutoML\", \"azureml.runsource\": \"automl\", \"display_task_type\": \"classification\", \"dependencies_versions\": \"{\\\"azureml-widgets\\\": \\\"1.22.0\\\", \\\"azureml-train\\\": \\\"1.22.0\\\", \\\"azureml-train-restclients-hyperdrive\\\": \\\"1.22.0\\\", \\\"azureml-train-core\\\": \\\"1.22.0\\\", \\\"azureml-train-automl\\\": \\\"1.22.0\\\", \\\"azureml-train-automl-runtime\\\": \\\"1.22.0\\\", \\\"azureml-train-automl-client\\\": \\\"1.22.0\\\", \\\"azureml-tensorboard\\\": \\\"1.22.0\\\", \\\"azureml-telemetry\\\": \\\"1.22.0\\\", \\\"azureml-sdk\\\": \\\"1.22.0\\\", \\\"azureml-samples\\\": \\\"0+unknown\\\", \\\"azureml-pipeline\\\": \\\"1.22.0\\\", \\\"azureml-pipeline-steps\\\": \\\"1.22.0\\\", \\\"azureml-pipeline-core\\\": \\\"1.22.0\\\", \\\"azureml-opendatasets\\\": \\\"1.22.0\\\", \\\"azureml-model-management-sdk\\\": \\\"1.0.1b6.post1\\\", \\\"azureml-mlflow\\\": \\\"1.22.0\\\", \\\"azureml-interpret\\\": \\\"1.22.0\\\", \\\"azureml-explain-model\\\": \\\"1.22.0\\\", \\\"azureml-defaults\\\": \\\"1.22.0\\\", \\\"azureml-dataset-runtime\\\": \\\"1.22.0\\\", \\\"azureml-dataprep\\\": \\\"2.9.1\\\", \\\"azureml-dataprep-rslex\\\": \\\"1.7.0\\\", \\\"azureml-dataprep-native\\\": \\\"29.0.0\\\", \\\"azureml-datadrift\\\": \\\"1.22.0\\\", \\\"azureml-core\\\": \\\"1.22.0\\\", \\\"azureml-contrib-services\\\": \\\"1.22.0\\\", \\\"azureml-contrib-server\\\": \\\"1.22.0\\\", \\\"azureml-contrib-reinforcementlearning\\\": \\\"1.22.0\\\", \\\"azureml-contrib-pipeline-steps\\\": \\\"1.22.0\\\", \\\"azureml-contrib-notebook\\\": \\\"1.22.0\\\", \\\"azureml-contrib-interpret\\\": \\\"1.22.0\\\", \\\"azureml-contrib-gbdt\\\": \\\"1.22.0\\\", \\\"azureml-contrib-fairness\\\": \\\"1.22.0\\\", \\\"azureml-contrib-dataset\\\": \\\"1.22.0\\\", \\\"azureml-cli-common\\\": \\\"1.22.0\\\", \\\"azureml-automl-runtime\\\": \\\"1.22.0\\\", \\\"azureml-automl-core\\\": \\\"1.22.0\\\", \\\"azureml-accel-models\\\": \\\"1.22.0\\\"}\", \"_aml_system_scenario_identification\": \"Local.Parent\", \"ClientSdkVersion\": \"1.22.0\", \"ClientType\": \"SDK\", \"environment_cpu_name\": \"AzureML-AutoML\", \"environment_cpu_label\": \"prod\", \"environment_gpu_name\": \"AzureML-AutoML-GPU\", \"environment_gpu_label\": \"prod\", \"root_attribution\": \"automl\", \"attribution\": \"AutoML\", \"Orchestrator\": \"AutoML\", \"_azureml.ComputeTargetType\": \"local\", \"ProblemInfoJsonString\": \"{\\\"dataset_num_categorical\\\": 0, \\\"is_sparse\\\": false, \\\"subsampling\\\": false, \\\"dataset_classes\\\": 2, \\\"dataset_features\\\": 94, \\\"dataset_samples\\\": 8124, \\\"single_frequency_class_detected\\\": false}\", \"feature_skus\": \"automatedml_sdk_guardrails\"}, \"tags\": {\"model_explain_run\": \"best_run\", \"best_score\": \"1.0\", \"best_pipeline\": \"LightGBM\", \"automl_best_child_run_id\": \"AutoML_92f091ad-ff17-4c7b-9489-4d7c9791b535_0\", \"model_explain_best_run_child_id\": \"AutoML_92f091ad-ff17-4c7b-9489-4d7c9791b535_0\"}, \"end_time_utc\": \"2021-04-20T00:52:20.251737Z\", \"status\": \"Completed\", \"log_files\": {}, \"log_groups\": [], \"run_duration\": \"0:15:43\", \"run_number\": \"68\", \"run_queued_details\": {\"status\": \"Completed\", \"details\": null}}, \"child_runs\": [{\"run_id\": \"AutoML_92f091ad-ff17-4c7b-9489-4d7c9791b535_0\", \"run_number\": 69, \"metric\": null, \"status\": \"Completed\", \"run_type\": null, \"training_percent\": \"100\", \"start_time\": \"2021-04-20T00:36:58.904158Z\", \"end_time\": \"2021-04-20T00:37:29.307802Z\", \"created_time\": \"2021-04-20T00:36:58.769295Z\", \"created_time_dt\": \"2021-04-20T00:36:58.769295Z\", \"duration\": \"0:00:30\", \"iteration\": \"0\", \"goal\": \"accuracy_max\", \"run_name\": \"MaxAbsScaler, LightGBM\", \"run_properties\": \"copy=True\", \"primary_metric\": 1.0, \"best_metric\": 1.0}, {\"run_id\": \"AutoML_92f091ad-ff17-4c7b-9489-4d7c9791b535_1\", \"run_number\": 70, \"metric\": null, \"status\": \"Failed\", \"run_type\": null, \"training_percent\": \"100\", \"start_time\": \"2021-04-20T00:37:29.768987Z\", \"end_time\": \"2021-04-20T00:37:38.254259Z\", \"created_time\": \"2021-04-20T00:37:29.639433Z\", \"created_time_dt\": \"2021-04-20T00:37:29.639433Z\", \"duration\": \"0:00:08\", \"iteration\": \"1\", \"goal\": \"accuracy_max\", \"run_name\": \"MaxAbsScaler, XGBoostClassifier\", \"run_properties\": \"\"}, {\"run_id\": \"AutoML_92f091ad-ff17-4c7b-9489-4d7c9791b535_2\", \"run_number\": 71, \"metric\": null, \"status\": \"Completed\", \"run_type\": null, \"training_percent\": \"100\", \"start_time\": \"2021-04-20T00:37:39.070061Z\", \"end_time\": \"2021-04-20T00:38:05.852071Z\", \"created_time\": \"2021-04-20T00:37:38.928981Z\", \"created_time_dt\": \"2021-04-20T00:37:38.928981Z\", \"duration\": \"0:00:26\", \"iteration\": \"2\", \"goal\": \"accuracy_max\", \"run_name\": \"MinMaxScaler, RandomForest\", \"run_properties\": \"copy=True, feature_range=(0, 1\", \"primary_metric\": 0.98178264, \"best_metric\": 1.0}, {\"run_id\": \"AutoML_92f091ad-ff17-4c7b-9489-4d7c9791b535_3\", \"run_number\": 72, \"metric\": null, \"status\": \"Completed\", \"run_type\": null, \"training_percent\": \"100\", \"start_time\": \"2021-04-20T00:38:07.361507Z\", \"end_time\": \"2021-04-20T00:38:34.220053Z\", \"created_time\": \"2021-04-20T00:38:07.226257Z\", \"created_time_dt\": \"2021-04-20T00:38:07.226257Z\", \"duration\": \"0:00:26\", \"iteration\": \"3\", \"goal\": \"accuracy_max\", \"run_name\": \"MinMaxScaler, RandomForest\", \"run_properties\": \"copy=True, feature_range=(0, 1\", \"primary_metric\": 0.9379593, \"best_metric\": 1.0}, {\"run_id\": \"AutoML_92f091ad-ff17-4c7b-9489-4d7c9791b535_4\", \"run_number\": 73, \"metric\": null, \"status\": \"Completed\", \"run_type\": null, \"training_percent\": \"100\", \"start_time\": \"2021-04-20T00:38:35.857102Z\", \"end_time\": \"2021-04-20T00:39:08.033513Z\", \"created_time\": \"2021-04-20T00:38:35.736481Z\", \"created_time_dt\": \"2021-04-20T00:38:35.736481Z\", \"duration\": \"0:00:32\", \"iteration\": \"4\", \"goal\": \"accuracy_max\", \"run_name\": \"MinMaxScaler, RandomForest\", \"run_properties\": \"copy=True, feature_range=(0, 1\", \"primary_metric\": 0.98276734, \"best_metric\": 1.0}, {\"run_id\": \"AutoML_92f091ad-ff17-4c7b-9489-4d7c9791b535_5\", \"run_number\": 74, \"metric\": null, \"status\": \"Failed\", \"run_type\": null, \"training_percent\": \"100\", \"start_time\": \"2021-04-20T00:39:09.317631Z\", \"end_time\": \"2021-04-20T00:39:18.322623Z\", \"created_time\": \"2021-04-20T00:39:09.184775Z\", \"created_time_dt\": \"2021-04-20T00:39:09.184775Z\", \"duration\": \"0:00:09\", \"iteration\": \"5\", \"goal\": \"accuracy_max\", \"run_name\": \"SparseNormalizer, XGBoostClassifier\", \"run_properties\": \"\"}, {\"run_id\": \"AutoML_92f091ad-ff17-4c7b-9489-4d7c9791b535_6\", \"run_number\": 75, \"metric\": null, \"status\": \"Completed\", \"run_type\": null, \"training_percent\": \"100\", \"start_time\": \"2021-04-20T00:39:19.626315Z\", \"end_time\": \"2021-04-20T00:39:46.351956Z\", \"created_time\": \"2021-04-20T00:39:19.503921Z\", \"created_time_dt\": \"2021-04-20T00:39:19.503921Z\", \"duration\": \"0:00:26\", \"iteration\": \"6\", \"goal\": \"accuracy_max\", \"run_name\": \"MinMaxScaler, LightGBM\", \"run_properties\": \"copy=True, feature_range=(0, 1\", \"primary_metric\": 0.93316006, \"best_metric\": 1.0}, {\"run_id\": \"AutoML_92f091ad-ff17-4c7b-9489-4d7c9791b535_7\", \"run_number\": 76, \"metric\": null, \"status\": \"Completed\", \"run_type\": null, \"training_percent\": \"100\", \"start_time\": \"2021-04-20T00:39:47.886582Z\", \"end_time\": \"2021-04-20T00:40:14.968283Z\", \"created_time\": \"2021-04-20T00:39:47.679727Z\", \"created_time_dt\": \"2021-04-20T00:39:47.679727Z\", \"duration\": \"0:00:27\", \"iteration\": \"7\", \"goal\": \"accuracy_max\", \"run_name\": \"MaxAbsScaler, LightGBM\", \"run_properties\": \"copy=True\", \"primary_metric\": 0.99359924, \"best_metric\": 1.0}, {\"run_id\": \"AutoML_92f091ad-ff17-4c7b-9489-4d7c9791b535_8\", \"run_number\": 77, \"metric\": null, \"status\": \"Completed\", \"run_type\": null, \"training_percent\": \"100\", \"start_time\": \"2021-04-20T00:40:16.288321Z\", \"end_time\": \"2021-04-20T00:40:58.320161Z\", \"created_time\": \"2021-04-20T00:40:16.15408Z\", \"created_time_dt\": \"2021-04-20T00:40:16.15408Z\", \"duration\": \"0:00:42\", \"iteration\": \"8\", \"goal\": \"accuracy_max\", \"run_name\": \"StandardScalerWrapper, LightGBM\", \"run_properties\": \"<azureml.automl.runtime.shared.model_wrappers.StandardScalerWrapper object at 0x7f5f5a19aeb8\", \"primary_metric\": 0.97599682, \"best_metric\": 1.0}, {\"run_id\": \"AutoML_92f091ad-ff17-4c7b-9489-4d7c9791b535_9\", \"run_number\": 78, \"metric\": null, \"status\": \"Completed\", \"run_type\": null, \"training_percent\": \"100\", \"start_time\": \"2021-04-20T00:41:00.964928Z\", \"end_time\": \"2021-04-20T00:41:32.774684Z\", \"created_time\": \"2021-04-20T00:41:00.486665Z\", \"created_time_dt\": \"2021-04-20T00:41:00.486665Z\", \"duration\": \"0:00:32\", \"iteration\": \"9\", \"goal\": \"accuracy_max\", \"run_name\": \"MaxAbsScaler, LightGBM\", \"run_properties\": \"copy=True\", \"primary_metric\": 0.98252118, \"best_metric\": 1.0}, {\"run_id\": \"AutoML_92f091ad-ff17-4c7b-9489-4d7c9791b535_10\", \"run_number\": 79, \"metric\": null, \"status\": \"Completed\", \"run_type\": null, \"training_percent\": \"100\", \"start_time\": \"2021-04-20T00:41:34.081414Z\", \"end_time\": \"2021-04-20T00:42:09.386258Z\", \"created_time\": \"2021-04-20T00:41:33.935878Z\", \"created_time_dt\": \"2021-04-20T00:41:33.935878Z\", \"duration\": \"0:00:35\", \"iteration\": \"10\", \"goal\": \"accuracy_max\", \"run_name\": \"StandardScalerWrapper, LogisticRegression\", \"run_properties\": \"<azureml.automl.runtime.shared.model_wrappers.StandardScalerWrapper object at 0x7f5f0b1e24e0\", \"primary_metric\": 0.99963077, \"best_metric\": 1.0}, {\"run_id\": \"AutoML_92f091ad-ff17-4c7b-9489-4d7c9791b535_11\", \"run_number\": 80, \"metric\": null, \"status\": \"Completed\", \"run_type\": null, \"training_percent\": \"100\", \"start_time\": \"2021-04-20T00:42:10.72821Z\", \"end_time\": \"2021-04-20T00:42:39.128946Z\", \"created_time\": \"2021-04-20T00:42:10.600778Z\", \"created_time_dt\": \"2021-04-20T00:42:10.600778Z\", \"duration\": \"0:00:28\", \"iteration\": \"11\", \"goal\": \"accuracy_max\", \"run_name\": \"RobustScaler, ExtremeRandomTrees\", \"run_properties\": \"copy=True, quantile_range=[25, 75], with_centering=True,\\n             with_scaling=True\", \"primary_metric\": 0.97144388, \"best_metric\": 1.0}, {\"run_id\": \"AutoML_92f091ad-ff17-4c7b-9489-4d7c9791b535_12\", \"run_number\": 81, \"metric\": null, \"status\": \"Failed\", \"run_type\": null, \"training_percent\": \"100\", \"start_time\": \"2021-04-20T00:42:41.220714Z\", \"end_time\": \"2021-04-20T00:42:49.811433Z\", \"created_time\": \"2021-04-20T00:42:40.975733Z\", \"created_time_dt\": \"2021-04-20T00:42:40.975733Z\", \"duration\": \"0:00:08\", \"iteration\": \"12\", \"goal\": \"accuracy_max\", \"run_name\": \"SparseNormalizer, XGBoostClassifier\", \"run_properties\": \"\"}, {\"run_id\": \"AutoML_92f091ad-ff17-4c7b-9489-4d7c9791b535_13\", \"run_number\": 82, \"metric\": null, \"status\": \"Completed\", \"run_type\": null, \"training_percent\": \"100\", \"start_time\": \"2021-04-20T00:42:51.295533Z\", \"end_time\": \"2021-04-20T00:43:23.492493Z\", \"created_time\": \"2021-04-20T00:42:51.162173Z\", \"created_time_dt\": \"2021-04-20T00:42:51.162173Z\", \"duration\": \"0:00:32\", \"iteration\": \"13\", \"goal\": \"accuracy_max\", \"run_name\": \"MinMaxScaler, LogisticRegression\", \"run_properties\": \"copy=True, feature_range=(0, 1\", \"primary_metric\": 1.0, \"best_metric\": 1.0}, {\"run_id\": \"AutoML_92f091ad-ff17-4c7b-9489-4d7c9791b535_14\", \"run_number\": 83, \"metric\": null, \"status\": \"Completed\", \"run_type\": null, \"training_percent\": \"100\", \"start_time\": \"2021-04-20T00:43:24.886791Z\", \"end_time\": \"2021-04-20T00:43:53.052838Z\", \"created_time\": \"2021-04-20T00:43:24.755278Z\", \"created_time_dt\": \"2021-04-20T00:43:24.755278Z\", \"duration\": \"0:00:28\", \"iteration\": \"14\", \"goal\": \"accuracy_max\", \"run_name\": \"StandardScalerWrapper, LogisticRegression\", \"run_properties\": \"<azureml.automl.runtime.shared.model_wrappers.StandardScalerWrapper object at 0x7f5f0b26dd68\", \"primary_metric\": 1.0, \"best_metric\": 1.0}, {\"run_id\": \"AutoML_92f091ad-ff17-4c7b-9489-4d7c9791b535_15\", \"run_number\": 84, \"metric\": null, \"status\": \"Failed\", \"run_type\": null, \"training_percent\": \"100\", \"start_time\": \"2021-04-20T00:43:54.445735Z\", \"end_time\": \"2021-04-20T00:44:02.47903Z\", \"created_time\": \"2021-04-20T00:43:54.300082Z\", \"created_time_dt\": \"2021-04-20T00:43:54.300082Z\", \"duration\": \"0:00:08\", \"iteration\": \"15\", \"goal\": \"accuracy_max\", \"run_name\": \"SparseNormalizer, XGBoostClassifier\", \"run_properties\": \"\"}, {\"run_id\": \"AutoML_92f091ad-ff17-4c7b-9489-4d7c9791b535_16\", \"run_number\": 85, \"metric\": null, \"status\": \"Completed\", \"run_type\": null, \"training_percent\": \"100\", \"start_time\": \"2021-04-20T00:44:03.85718Z\", \"end_time\": \"2021-04-20T00:44:37.471344Z\", \"created_time\": \"2021-04-20T00:44:03.681357Z\", \"created_time_dt\": \"2021-04-20T00:44:03.681357Z\", \"duration\": \"0:00:33\", \"iteration\": \"16\", \"goal\": \"accuracy_max\", \"run_name\": \"StandardScalerWrapper, LogisticRegression\", \"run_properties\": \"<azureml.automl.runtime.shared.model_wrappers.StandardScalerWrapper object at 0x7f5f0aea09b0\", \"primary_metric\": 0.99963077, \"best_metric\": 1.0}, {\"run_id\": \"AutoML_92f091ad-ff17-4c7b-9489-4d7c9791b535_17\", \"run_number\": 86, \"metric\": null, \"status\": \"Completed\", \"run_type\": null, \"training_percent\": \"100\", \"start_time\": \"2021-04-20T00:44:38.825998Z\", \"end_time\": \"2021-04-20T00:45:06.455297Z\", \"created_time\": \"2021-04-20T00:44:38.684701Z\", \"created_time_dt\": \"2021-04-20T00:44:38.684701Z\", \"duration\": \"0:00:27\", \"iteration\": \"17\", \"goal\": \"accuracy_max\", \"run_name\": \"MinMaxScaler, LightGBM\", \"run_properties\": \"copy=True, feature_range=(0, 1\", \"primary_metric\": 0.98695195, \"best_metric\": 1.0}, {\"run_id\": \"AutoML_92f091ad-ff17-4c7b-9489-4d7c9791b535_18\", \"run_number\": 87, \"metric\": null, \"status\": \"Completed\", \"run_type\": null, \"training_percent\": \"100\", \"start_time\": \"2021-04-20T00:45:07.76541Z\", \"end_time\": \"2021-04-20T00:45:43.692345Z\", \"created_time\": \"2021-04-20T00:45:07.641933Z\", \"created_time_dt\": \"2021-04-20T00:45:07.641933Z\", \"duration\": \"0:00:36\", \"iteration\": \"18\", \"goal\": \"accuracy_max\", \"run_name\": \"StandardScalerWrapper, LogisticRegression\", \"run_properties\": \"<azureml.automl.runtime.shared.model_wrappers.StandardScalerWrapper object at 0x7f5f0b230828\", \"primary_metric\": 0.99950769, \"best_metric\": 1.0}, {\"run_id\": \"AutoML_92f091ad-ff17-4c7b-9489-4d7c9791b535_19\", \"run_number\": 88, \"metric\": null, \"status\": \"Completed\", \"run_type\": null, \"training_percent\": \"100\", \"start_time\": \"2021-04-20T00:45:44.973346Z\", \"end_time\": \"2021-04-20T00:46:17.009842Z\", \"created_time\": \"2021-04-20T00:45:44.851426Z\", \"created_time_dt\": \"2021-04-20T00:45:44.851426Z\", \"duration\": \"0:00:32\", \"iteration\": \"19\", \"goal\": \"accuracy_max\", \"run_name\": \"MaxAbsScaler, ExtremeRandomTrees\", \"run_properties\": \"copy=True\", \"primary_metric\": 0.97562774, \"best_metric\": 1.0}, {\"run_id\": \"AutoML_92f091ad-ff17-4c7b-9489-4d7c9791b535_20\", \"run_number\": 89, \"metric\": null, \"status\": \"Failed\", \"run_type\": null, \"training_percent\": \"100\", \"start_time\": \"2021-04-20T00:46:18.506617Z\", \"end_time\": \"2021-04-20T00:46:26.731886Z\", \"created_time\": \"2021-04-20T00:46:18.379359Z\", \"created_time_dt\": \"2021-04-20T00:46:18.379359Z\", \"duration\": \"0:00:08\", \"iteration\": \"20\", \"goal\": \"accuracy_max\", \"run_name\": \"StandardScalerWrapper, XGBoostClassifier\", \"run_properties\": \"\"}, {\"run_id\": \"AutoML_92f091ad-ff17-4c7b-9489-4d7c9791b535_21\", \"run_number\": 90, \"metric\": null, \"status\": \"Completed\", \"run_type\": null, \"training_percent\": \"100\", \"start_time\": \"2021-04-20T00:46:28.049332Z\", \"end_time\": \"2021-04-20T00:47:02.916689Z\", \"created_time\": \"2021-04-20T00:46:27.914466Z\", \"created_time_dt\": \"2021-04-20T00:46:27.914466Z\", \"duration\": \"0:00:35\", \"iteration\": \"21\", \"goal\": \"accuracy_max\", \"run_name\": \"StandardScalerWrapper, LogisticRegression\", \"run_properties\": \"<azureml.automl.runtime.shared.model_wrappers.StandardScalerWrapper object at 0x7f5f5e7d9908\", \"primary_metric\": 0.99963077, \"best_metric\": 1.0}, {\"run_id\": \"AutoML_92f091ad-ff17-4c7b-9489-4d7c9791b535_22\", \"run_number\": 91, \"metric\": null, \"status\": \"Completed\", \"run_type\": null, \"training_percent\": \"100\", \"start_time\": \"2021-04-20T00:47:04.246288Z\", \"end_time\": \"2021-04-20T00:47:36.004551Z\", \"created_time\": \"2021-04-20T00:47:04.123535Z\", \"created_time_dt\": \"2021-04-20T00:47:04.123535Z\", \"duration\": \"0:00:31\", \"iteration\": \"22\", \"goal\": \"accuracy_max\", \"run_name\": \"StandardScalerWrapper, LogisticRegression\", \"run_properties\": \"<azureml.automl.runtime.shared.model_wrappers.StandardScalerWrapper object at 0x7f5f0b236358\", \"primary_metric\": 0.99963077, \"best_metric\": 1.0}, {\"run_id\": \"AutoML_92f091ad-ff17-4c7b-9489-4d7c9791b535_23\", \"run_number\": 92, \"metric\": null, \"status\": \"Completed\", \"run_type\": null, \"training_percent\": \"100\", \"start_time\": \"2021-04-20T00:47:37.440635Z\", \"end_time\": \"2021-04-20T00:48:03.645931Z\", \"created_time\": \"2021-04-20T00:47:37.305841Z\", \"created_time_dt\": \"2021-04-20T00:47:37.305841Z\", \"duration\": \"0:00:26\", \"iteration\": \"23\", \"goal\": \"accuracy_max\", \"run_name\": \"SparseNormalizer, LightGBM\", \"run_properties\": \"<azureml.automl.runtime.shared.model_wrappers.SparseNormalizer object at 0x7f5f0a3415c0\", \"primary_metric\": 0.97747412, \"best_metric\": 1.0}, {\"run_id\": \"AutoML_92f091ad-ff17-4c7b-9489-4d7c9791b535_24\", \"run_number\": 93, \"metric\": null, \"status\": \"Completed\", \"run_type\": null, \"training_percent\": \"100\", \"start_time\": \"2021-04-20T00:48:04.927953Z\", \"end_time\": \"2021-04-20T00:48:31.9575Z\", \"created_time\": \"2021-04-20T00:48:04.80372Z\", \"created_time_dt\": \"2021-04-20T00:48:04.80372Z\", \"duration\": \"0:00:27\", \"iteration\": \"24\", \"goal\": \"accuracy_max\", \"run_name\": \"SparseNormalizer, LightGBM\", \"run_properties\": \"<azureml.automl.runtime.shared.model_wrappers.SparseNormalizer object at 0x7f5f0a511ac8\", \"primary_metric\": 0.99913839, \"best_metric\": 1.0}, {\"run_id\": \"AutoML_92f091ad-ff17-4c7b-9489-4d7c9791b535_25\", \"run_number\": 94, \"metric\": null, \"status\": \"Completed\", \"run_type\": null, \"training_percent\": \"100\", \"start_time\": \"2021-04-20T00:48:34.777913Z\", \"end_time\": \"2021-04-20T00:49:00.90173Z\", \"created_time\": \"2021-04-20T00:48:34.516707Z\", \"created_time_dt\": \"2021-04-20T00:48:34.516707Z\", \"duration\": \"0:00:26\", \"iteration\": \"25\", \"goal\": \"accuracy_max\", \"run_name\": \"PCA, LightGBM\", \"run_properties\": \"copy=True, iterated_power='auto', n_components=0.15842105263157896,\\n    random_state=None, svd_solver='auto', tol=0.0, whiten=True\", \"primary_metric\": 0.89327556, \"best_metric\": 1.0}, {\"run_id\": \"AutoML_92f091ad-ff17-4c7b-9489-4d7c9791b535_26\", \"run_number\": 95, \"metric\": null, \"status\": \"Completed\", \"run_type\": null, \"training_percent\": \"100\", \"start_time\": \"2021-04-20T00:49:02.844723Z\", \"end_time\": \"2021-04-20T00:49:34.053026Z\", \"created_time\": \"2021-04-20T00:49:02.607682Z\", \"created_time_dt\": \"2021-04-20T00:49:02.607682Z\", \"duration\": \"0:00:31\", \"iteration\": \"26\", \"goal\": \"accuracy_max\", \"run_name\": \"RobustScaler, LogisticRegression\", \"run_properties\": \"copy=True, quantile_range=[10, 90], with_centering=True,\\n             with_scaling=True\", \"primary_metric\": 1.0, \"best_metric\": 1.0}, {\"run_id\": \"AutoML_92f091ad-ff17-4c7b-9489-4d7c9791b535_27\", \"run_number\": 96, \"metric\": null, \"status\": \"Completed\", \"run_type\": null, \"training_percent\": \"100\", \"start_time\": \"2021-04-20T00:49:35.370147Z\", \"end_time\": \"2021-04-20T00:50:04.336676Z\", \"created_time\": \"2021-04-20T00:49:35.230377Z\", \"created_time_dt\": \"2021-04-20T00:49:35.230377Z\", \"duration\": \"0:00:29\", \"iteration\": \"27\", \"goal\": \"accuracy_max\", \"run_name\": \"StandardScalerWrapper, LogisticRegression\", \"run_properties\": \"<azureml.automl.runtime.shared.model_wrappers.StandardScalerWrapper object at 0x7f5f0bb360b8\", \"primary_metric\": 0.99963077, \"best_metric\": 1.0}, {\"run_id\": \"AutoML_92f091ad-ff17-4c7b-9489-4d7c9791b535_28\", \"run_number\": 97, \"metric\": null, \"status\": \"Completed\", \"run_type\": null, \"training_percent\": \"100\", \"start_time\": \"2021-04-20T00:50:05.724148Z\", \"end_time\": \"2021-04-20T00:50:36.769491Z\", \"created_time\": \"2021-04-20T00:50:05.603116Z\", \"created_time_dt\": \"2021-04-20T00:50:05.603116Z\", \"duration\": \"0:00:31\", \"iteration\": \"28\", \"goal\": \"accuracy_max\", \"run_name\": \"RobustScaler, LogisticRegression\", \"run_properties\": \"copy=True, quantile_range=[25, 75], with_centering=True,\\n             with_scaling=True\", \"primary_metric\": 1.0, \"best_metric\": 1.0}, {\"run_id\": \"AutoML_92f091ad-ff17-4c7b-9489-4d7c9791b535_29\", \"run_number\": 98, \"metric\": null, \"status\": \"Completed\", \"run_type\": null, \"training_percent\": \"100\", \"start_time\": \"2021-04-20T00:50:38.190517Z\", \"end_time\": \"2021-04-20T00:51:14.241067Z\", \"created_time\": \"2021-04-20T00:50:38.04328Z\", \"created_time_dt\": \"2021-04-20T00:50:38.04328Z\", \"duration\": \"0:00:36\", \"iteration\": \"29\", \"goal\": \"accuracy_max\", \"run_name\": \"RobustScaler, LogisticRegression\", \"run_properties\": \"copy=True, quantile_range=[10, 90], with_centering=True,\\n             with_scaling=True\", \"primary_metric\": 1.0, \"best_metric\": 1.0}, {\"run_id\": \"AutoML_92f091ad-ff17-4c7b-9489-4d7c9791b535_30\", \"run_number\": 99, \"metric\": null, \"status\": \"Completed\", \"run_type\": null, \"training_percent\": \"100\", \"start_time\": \"2021-04-20T00:51:16.424555Z\", \"end_time\": \"2021-04-20T00:51:45.440236Z\", \"created_time\": \"2021-04-20T00:51:16.283391Z\", \"created_time_dt\": \"2021-04-20T00:51:16.283391Z\", \"duration\": \"0:00:29\", \"iteration\": \"30\", \"goal\": \"accuracy_max\", \"run_name\": \"PCA, LightGBM\", \"run_properties\": \"copy=True, iterated_power='auto', n_components=0.15842105263157896,\\n    random_state=None, svd_solver='auto', tol=0.0, whiten=False\", \"primary_metric\": 0.89955582, \"best_metric\": 1.0}, {\"run_id\": \"AutoML_92f091ad-ff17-4c7b-9489-4d7c9791b535_31\", \"run_number\": 100, \"metric\": null, \"status\": \"Completed\", \"run_type\": null, \"training_percent\": \"100\", \"start_time\": \"2021-04-20T00:51:45.927025Z\", \"end_time\": \"2021-04-20T00:52:19.739755Z\", \"created_time\": \"2021-04-20T00:51:45.767773Z\", \"created_time_dt\": \"2021-04-20T00:51:45.767773Z\", \"duration\": \"0:00:33\", \"iteration\": \"31\", \"goal\": \"accuracy_max\", \"run_name\": \"VotingEnsemble\", \"run_properties\": \"classification_labels=None,\\n                              estimators=[('29',\\n                                           Pipeline(memory=None,\\n                                                    steps=[('robustscaler',\\n                                                            RobustScaler(copy=True,\\n                                                                         quantile_range=[10,\\n                                                                                         90],\\n                                                                         with_centering=True,\\n                                                                         with_scaling=True\", \"primary_metric\": 1.0, \"best_metric\": 1.0}], \"children_metrics\": {\"categories\": [0], \"series\": {\"f1_score_micro\": [{\"categories\": [\"0\", \"2\", \"3\", \"4\", \"6\", \"7\", \"8\", \"9\", \"10\", \"11\", \"13\", \"14\", \"16\", \"17\", \"18\", \"19\", \"21\", \"22\", \"23\", \"24\", \"25\", \"26\", \"27\", \"28\", \"29\", \"30\", \"31\"], \"mode\": \"markers\", \"name\": \"f1_score_micro\", \"stepped\": false, \"type\": \"scatter\", \"data\": [1.0, 0.9817826449412657, 0.9379593027661993, 0.9827673361121636, 0.9331600606290262, 0.9935992421371731, 0.9759968169761273, 0.9825211822660098, 0.9996307692307692, 0.9714438802576734, 1.0, 1.0, 0.9996307692307692, 0.986951951496779, 0.9995076923076922, 0.975627737779462, 0.9996307692307692, 0.9996307692307692, 0.9774741189844638, 0.999138385752179, 0.8932755589238347, 1.0, 0.9996307692307692, 1.0, 1.0, 0.8995558165971959, 1.0]}, {\"categories\": [\"0\", \"2\", \"3\", \"4\", \"6\", \"7\", \"8\", \"9\", \"10\", \"11\", \"13\", \"14\", \"16\", \"17\", \"18\", \"19\", \"21\", \"22\", \"23\", \"24\", \"25\", \"26\", \"27\", \"28\", \"29\", \"30\", \"31\"], \"mode\": \"lines\", \"name\": \"f1_score_micro_max\", \"stepped\": true, \"type\": \"scatter\", \"data\": [1.0, 1.0, 1.0, 1.0, 1.0, 1.0, 1.0, 1.0, 1.0, 1.0, 1.0, 1.0, 1.0, 1.0, 1.0, 1.0, 1.0, 1.0, 1.0, 1.0, 1.0, 1.0, 1.0, 1.0, 1.0, 1.0, 1.0]}], \"precision_score_micro\": [{\"categories\": [\"0\", \"2\", \"3\", \"4\", \"6\", \"7\", \"8\", \"9\", \"10\", \"11\", \"13\", \"14\", \"16\", \"17\", \"18\", \"19\", \"21\", \"22\", \"23\", \"24\", \"25\", \"26\", \"27\", \"28\", \"29\", \"30\", \"31\"], \"mode\": \"markers\", \"name\": \"precision_score_micro\", \"stepped\": false, \"type\": \"scatter\", \"data\": [1.0, 0.9817826449412657, 0.9379593027661993, 0.9827673361121636, 0.9331600606290262, 0.9935992421371731, 0.9759968169761273, 0.9825211822660098, 0.9996307692307692, 0.9714438802576734, 1.0, 1.0, 0.9996307692307692, 0.986951951496779, 0.9995076923076922, 0.975627737779462, 0.9996307692307692, 0.9996307692307692, 0.9774741189844638, 0.999138385752179, 0.8932755589238347, 1.0, 0.9996307692307692, 1.0, 1.0, 0.8995558165971959, 1.0]}, {\"categories\": [\"0\", \"2\", \"3\", \"4\", \"6\", \"7\", \"8\", \"9\", \"10\", \"11\", \"13\", \"14\", \"16\", \"17\", \"18\", \"19\", \"21\", \"22\", \"23\", \"24\", \"25\", \"26\", \"27\", \"28\", \"29\", \"30\", \"31\"], \"mode\": \"lines\", \"name\": \"precision_score_micro_max\", \"stepped\": true, \"type\": \"scatter\", \"data\": [1.0, 1.0, 1.0, 1.0, 1.0, 1.0, 1.0, 1.0, 1.0, 1.0, 1.0, 1.0, 1.0, 1.0, 1.0, 1.0, 1.0, 1.0, 1.0, 1.0, 1.0, 1.0, 1.0, 1.0, 1.0, 1.0, 1.0]}], \"precision_score_macro\": [{\"categories\": [\"0\", \"2\", \"3\", \"4\", \"6\", \"7\", \"8\", \"9\", \"10\", \"11\", \"13\", \"14\", \"16\", \"17\", \"18\", \"19\", \"21\", \"22\", \"23\", \"24\", \"25\", \"26\", \"27\", \"28\", \"29\", \"30\", \"31\"], \"mode\": \"markers\", \"name\": \"precision_score_macro\", \"stepped\": false, \"type\": \"scatter\", \"data\": [1.0, 0.9824435951460204, 0.9449811376019074, 0.9829131835724366, 0.9408816370335957, 0.9939324024754571, 0.9772559974617131, 0.982538469419929, 0.99964136106402, 0.9723570316482967, 1.0, 1.0, 0.99964136106402, 0.987409792785271, 0.9995282388920744, 0.9757667529044645, 0.99964136106402, 0.99964136106402, 0.9776504346891896, 0.9991788178371088, 0.9029259137302932, 1.0, 0.99964136106402, 1.0, 1.0, 0.9044002282016201, 1.0]}, {\"categories\": [\"0\", \"2\", \"3\", \"4\", \"6\", \"7\", \"8\", \"9\", \"10\", \"11\", \"13\", \"14\", \"16\", \"17\", \"18\", \"19\", \"21\", \"22\", \"23\", \"24\", \"25\", \"26\", \"27\", \"28\", \"29\", \"30\", \"31\"], \"mode\": \"lines\", \"name\": \"precision_score_macro_max\", \"stepped\": true, \"type\": \"scatter\", \"data\": [1.0, 1.0, 1.0, 1.0, 1.0, 1.0, 1.0, 1.0, 1.0, 1.0, 1.0, 1.0, 1.0, 1.0, 1.0, 1.0, 1.0, 1.0, 1.0, 1.0, 1.0, 1.0, 1.0, 1.0, 1.0, 1.0, 1.0]}], \"recall_score_micro\": [{\"categories\": [\"0\", \"2\", \"3\", \"4\", \"6\", \"7\", \"8\", \"9\", \"10\", \"11\", \"13\", \"14\", \"16\", \"17\", \"18\", \"19\", \"21\", \"22\", \"23\", \"24\", \"25\", \"26\", \"27\", \"28\", \"29\", \"30\", \"31\"], \"mode\": \"markers\", \"name\": \"recall_score_micro\", \"stepped\": false, \"type\": \"scatter\", \"data\": [1.0, 0.9817826449412657, 0.9379593027661993, 0.9827673361121636, 0.9331600606290262, 0.9935992421371731, 0.9759968169761273, 0.9825211822660098, 0.9996307692307692, 0.9714438802576734, 1.0, 1.0, 0.9996307692307692, 0.986951951496779, 0.9995076923076922, 0.975627737779462, 0.9996307692307692, 0.9996307692307692, 0.9774741189844638, 0.999138385752179, 0.8932755589238347, 1.0, 0.9996307692307692, 1.0, 1.0, 0.8995558165971959, 1.0]}, {\"categories\": [\"0\", \"2\", \"3\", \"4\", \"6\", \"7\", \"8\", \"9\", \"10\", \"11\", \"13\", \"14\", \"16\", \"17\", \"18\", \"19\", \"21\", \"22\", \"23\", \"24\", \"25\", \"26\", \"27\", \"28\", \"29\", \"30\", \"31\"], \"mode\": \"lines\", \"name\": \"recall_score_micro_max\", \"stepped\": true, \"type\": \"scatter\", \"data\": [1.0, 1.0, 1.0, 1.0, 1.0, 1.0, 1.0, 1.0, 1.0, 1.0, 1.0, 1.0, 1.0, 1.0, 1.0, 1.0, 1.0, 1.0, 1.0, 1.0, 1.0, 1.0, 1.0, 1.0, 1.0, 1.0, 1.0]}], \"recall_score_macro\": [{\"categories\": [\"0\", \"2\", \"3\", \"4\", \"6\", \"7\", \"8\", \"9\", \"10\", \"11\", \"13\", \"14\", \"16\", \"17\", \"18\", \"19\", \"21\", \"22\", \"23\", \"24\", \"25\", \"26\", \"27\", \"28\", \"29\", \"30\", \"31\"], \"mode\": \"markers\", \"name\": \"recall_score_macro\", \"stepped\": false, \"type\": \"scatter\", \"data\": [1.0, 0.9812810351392096, 0.9358555970197932, 0.9826154953276653, 0.9309756079804753, 0.993316033705127, 0.9751661596409431, 0.9824557801671296, 0.9996198468955246, 0.970855067425126, 1.0, 1.0, 0.9996198468955246, 0.9865842529989743, 0.999485076006037, 0.9754086113376141, 0.9996198468955246, 0.9996198468955246, 0.9772174199540444, 0.9990948772749142, 0.8912844034641516, 1.0, 0.9996198468955246, 1.0, 1.0, 0.8977312765027741, 1.0]}, {\"categories\": [\"0\", \"2\", \"3\", \"4\", \"6\", \"7\", \"8\", \"9\", \"10\", \"11\", \"13\", \"14\", \"16\", \"17\", \"18\", \"19\", \"21\", \"22\", \"23\", \"24\", \"25\", \"26\", \"27\", \"28\", \"29\", \"30\", \"31\"], \"mode\": \"lines\", \"name\": \"recall_score_macro_max\", \"stepped\": true, \"type\": \"scatter\", \"data\": [1.0, 1.0, 1.0, 1.0, 1.0, 1.0, 1.0, 1.0, 1.0, 1.0, 1.0, 1.0, 1.0, 1.0, 1.0, 1.0, 1.0, 1.0, 1.0, 1.0, 1.0, 1.0, 1.0, 1.0, 1.0, 1.0, 1.0]}], \"average_precision_score_weighted\": [{\"categories\": [\"0\", \"2\", \"3\", \"4\", \"6\", \"7\", \"8\", \"9\", \"10\", \"11\", \"13\", \"14\", \"16\", \"17\", \"18\", \"19\", \"21\", \"22\", \"23\", \"24\", \"25\", \"26\", \"27\", \"28\", \"29\", \"30\", \"31\"], \"mode\": \"markers\", \"name\": \"average_precision_score_weighted\", \"stepped\": false, \"type\": \"scatter\", \"data\": [1.0, 0.9981157857345433, 0.9916149315695675, 0.9980924825508861, 0.9904930721458026, 0.9998338591150269, 0.9959972226509674, 0.9992527992974909, 1.0, 0.9919303102274751, 1.0, 1.0, 1.0, 0.9994261367877346, 1.0, 0.9968528549989294, 1.0, 1.0, 0.9986294722539035, 1.0, 0.902146033596237, 1.0, 0.9999993940319871, 1.0, 1.0, 0.9188681901560335, 1.0]}, {\"categories\": [\"0\", \"2\", \"3\", \"4\", \"6\", \"7\", \"8\", \"9\", \"10\", \"11\", \"13\", \"14\", \"16\", \"17\", \"18\", \"19\", \"21\", \"22\", \"23\", \"24\", \"25\", \"26\", \"27\", \"28\", \"29\", \"30\", \"31\"], \"mode\": \"lines\", \"name\": \"average_precision_score_weighted_max\", \"stepped\": true, \"type\": \"scatter\", \"data\": [1.0, 1.0, 1.0, 1.0, 1.0, 1.0, 1.0, 1.0, 1.0, 1.0, 1.0, 1.0, 1.0, 1.0, 1.0, 1.0, 1.0, 1.0, 1.0, 1.0, 1.0, 1.0, 1.0, 1.0, 1.0, 1.0, 1.0]}], \"matthews_correlation\": [{\"categories\": [\"0\", \"2\", \"3\", \"4\", \"6\", \"7\", \"8\", \"9\", \"10\", \"11\", \"13\", \"14\", \"16\", \"17\", \"18\", \"19\", \"21\", \"22\", \"23\", \"24\", \"25\", \"26\", \"27\", \"28\", \"29\", \"30\", \"31\"], \"mode\": \"markers\", \"name\": \"matthews_correlation\", \"stepped\": false, \"type\": \"scatter\", \"data\": [1.0, 0.9637235763983737, 0.8807742637271833, 0.9655285825631248, 0.8717981491590256, 0.9872481251408723, 0.9524179238509876, 0.9649942192748846, 0.9992612074756313, 0.9432100632029332, 1.0, 1.0, 0.9992612074756313, 0.9739934744020291, 0.9990133132410761, 0.9511751263666355, 0.9992612074756313, 0.9992612074756313, 0.9548675794151971, 0.9982736880994454, 0.7940767757665875, 1.0, 0.9992612074756313, 1.0, 1.0, 0.8021014849462006, 1.0]}, {\"categories\": [\"0\", \"2\", \"3\", \"4\", \"6\", \"7\", \"8\", \"9\", \"10\", \"11\", \"13\", \"14\", \"16\", \"17\", \"18\", \"19\", \"21\", \"22\", \"23\", \"24\", \"25\", \"26\", \"27\", \"28\", \"29\", \"30\", \"31\"], \"mode\": \"lines\", \"name\": \"matthews_correlation_max\", \"stepped\": true, \"type\": \"scatter\", \"data\": [1.0, 1.0, 1.0, 1.0, 1.0, 1.0, 1.0, 1.0, 1.0, 1.0, 1.0, 1.0, 1.0, 1.0, 1.0, 1.0, 1.0, 1.0, 1.0, 1.0, 1.0, 1.0, 1.0, 1.0, 1.0, 1.0, 1.0]}], \"norm_macro_recall\": [{\"categories\": [\"0\", \"2\", \"3\", \"4\", \"6\", \"7\", \"8\", \"9\", \"10\", \"11\", \"13\", \"14\", \"16\", \"17\", \"18\", \"19\", \"21\", \"22\", \"23\", \"24\", \"25\", \"26\", \"27\", \"28\", \"29\", \"30\", \"31\"], \"mode\": \"markers\", \"name\": \"norm_macro_recall\", \"stepped\": false, \"type\": \"scatter\", \"data\": [1.0, 0.9625620702784194, 0.8717111940395862, 0.9652309906553306, 0.8619512159609505, 0.9866320674102539, 0.9503323192818861, 0.9649115603342592, 0.9992396937910495, 0.9417101348502521, 1.0, 1.0, 0.9992396937910495, 0.9731685059979489, 0.9989701520120737, 0.9508172226752283, 0.9992396937910495, 0.9992396937910495, 0.9544348399080889, 0.9981897545498285, 0.7825688069283034, 1.0, 0.9992396937910495, 1.0, 1.0, 0.7954625530055482, 1.0]}, {\"categories\": [\"0\", \"2\", \"3\", \"4\", \"6\", \"7\", \"8\", \"9\", \"10\", \"11\", \"13\", \"14\", \"16\", \"17\", \"18\", \"19\", \"21\", \"22\", \"23\", \"24\", \"25\", \"26\", \"27\", \"28\", \"29\", \"30\", \"31\"], \"mode\": \"lines\", \"name\": \"norm_macro_recall_max\", \"stepped\": true, \"type\": \"scatter\", \"data\": [1.0, 1.0, 1.0, 1.0, 1.0, 1.0, 1.0, 1.0, 1.0, 1.0, 1.0, 1.0, 1.0, 1.0, 1.0, 1.0, 1.0, 1.0, 1.0, 1.0, 1.0, 1.0, 1.0, 1.0, 1.0, 1.0, 1.0]}], \"AUC_micro\": [{\"categories\": [\"0\", \"2\", \"3\", \"4\", \"6\", \"7\", \"8\", \"9\", \"10\", \"11\", \"13\", \"14\", \"16\", \"17\", \"18\", \"19\", \"21\", \"22\", \"23\", \"24\", \"25\", \"26\", \"27\", \"28\", \"29\", \"30\", \"31\"], \"mode\": \"markers\", \"name\": \"AUC_micro\", \"stepped\": false, \"type\": \"scatter\", \"data\": [1.0, 0.9977033204571703, 0.9895192919209498, 0.9974463825638422, 0.9875421024942129, 0.9996774194171119, 0.9953345840542388, 0.9992888113116841, 0.9999997727810651, 0.9927497637737261, 1.0, 1.0, 0.9999997727810651, 0.9994279862799258, 0.9999996970414202, 0.9967340649886184, 0.9999997727810651, 0.9999997727810651, 0.9986473528745158, 0.9999984093741515, 0.8938542013902577, 1.0, 0.9999994698224853, 1.0, 1.0, 0.9486173487740441, 1.0]}, {\"categories\": [\"0\", \"2\", \"3\", \"4\", \"6\", \"7\", \"8\", \"9\", \"10\", \"11\", \"13\", \"14\", \"16\", \"17\", \"18\", \"19\", \"21\", \"22\", \"23\", \"24\", \"25\", \"26\", \"27\", \"28\", \"29\", \"30\", \"31\"], \"mode\": \"lines\", \"name\": \"AUC_micro_max\", \"stepped\": true, \"type\": \"scatter\", \"data\": [1.0, 1.0, 1.0, 1.0, 1.0, 1.0, 1.0, 1.0, 1.0, 1.0, 1.0, 1.0, 1.0, 1.0, 1.0, 1.0, 1.0, 1.0, 1.0, 1.0, 1.0, 1.0, 1.0, 1.0, 1.0, 1.0, 1.0]}], \"accuracy\": [{\"categories\": [\"0\", \"2\", \"3\", \"4\", \"6\", \"7\", \"8\", \"9\", \"10\", \"11\", \"13\", \"14\", \"16\", \"17\", \"18\", \"19\", \"21\", \"22\", \"23\", \"24\", \"25\", \"26\", \"27\", \"28\", \"29\", \"30\", \"31\"], \"mode\": \"markers\", \"name\": \"accuracy\", \"stepped\": false, \"type\": \"scatter\", \"data\": [1.0, 0.9817826449412657, 0.9379593027661993, 0.9827673361121636, 0.9331600606290262, 0.9935992421371731, 0.9759968169761273, 0.9825211822660098, 0.9996307692307692, 0.9714438802576734, 1.0, 1.0, 0.9996307692307692, 0.986951951496779, 0.9995076923076922, 0.975627737779462, 0.9996307692307692, 0.9996307692307692, 0.9774741189844638, 0.999138385752179, 0.8932755589238347, 1.0, 0.9996307692307692, 1.0, 1.0, 0.8995558165971959, 1.0]}, {\"categories\": [\"0\", \"2\", \"3\", \"4\", \"6\", \"7\", \"8\", \"9\", \"10\", \"11\", \"13\", \"14\", \"16\", \"17\", \"18\", \"19\", \"21\", \"22\", \"23\", \"24\", \"25\", \"26\", \"27\", \"28\", \"29\", \"30\", \"31\"], \"mode\": \"lines\", \"name\": \"accuracy_max\", \"stepped\": true, \"type\": \"scatter\", \"data\": [1.0, 1.0, 1.0, 1.0, 1.0, 1.0, 1.0, 1.0, 1.0, 1.0, 1.0, 1.0, 1.0, 1.0, 1.0, 1.0, 1.0, 1.0, 1.0, 1.0, 1.0, 1.0, 1.0, 1.0, 1.0, 1.0, 1.0]}], \"f1_score_weighted\": [{\"categories\": [\"0\", \"2\", \"3\", \"4\", \"6\", \"7\", \"8\", \"9\", \"10\", \"11\", \"13\", \"14\", \"16\", \"17\", \"18\", \"19\", \"21\", \"22\", \"23\", \"24\", \"25\", \"26\", \"27\", \"28\", \"29\", \"30\", \"31\"], \"mode\": \"markers\", \"name\": \"f1_score_weighted\", \"stepped\": false, \"type\": \"scatter\", \"data\": [1.0, 0.9817712123190818, 0.9375900140464946, 0.9827650086328242, 0.9327840800236643, 0.9935968713856191, 0.9759676234813357, 0.982520617213992, 0.9996307626028637, 0.9714159663494888, 1.0, 1.0, 0.9996307626028637, 0.9869465897184139, 0.999507679010379, 0.9756230378217801, 0.9996307626028637, 0.9996307626028637, 0.9774686203510724, 0.9991383290559621, 0.8924047462992544, 1.0, 0.9996307626028637, 1.0, 1.0, 0.8991404709287336, 1.0]}, {\"categories\": [\"0\", \"2\", \"3\", \"4\", \"6\", \"7\", \"8\", \"9\", \"10\", \"11\", \"13\", \"14\", \"16\", \"17\", \"18\", \"19\", \"21\", \"22\", \"23\", \"24\", \"25\", \"26\", \"27\", \"28\", \"29\", \"30\", \"31\"], \"mode\": \"lines\", \"name\": \"f1_score_weighted_max\", \"stepped\": true, \"type\": \"scatter\", \"data\": [1.0, 1.0, 1.0, 1.0, 1.0, 1.0, 1.0, 1.0, 1.0, 1.0, 1.0, 1.0, 1.0, 1.0, 1.0, 1.0, 1.0, 1.0, 1.0, 1.0, 1.0, 1.0, 1.0, 1.0, 1.0, 1.0, 1.0]}], \"weighted_accuracy\": [{\"categories\": [\"0\", \"2\", \"3\", \"4\", \"6\", \"7\", \"8\", \"9\", \"10\", \"11\", \"13\", \"14\", \"16\", \"17\", \"18\", \"19\", \"21\", \"22\", \"23\", \"24\", \"25\", \"26\", \"27\", \"28\", \"29\", \"30\", \"31\"], \"mode\": \"markers\", \"name\": \"weighted_accuracy\", \"stepped\": false, \"type\": \"scatter\", \"data\": [1.0, 0.982280083644674, 0.9400446361782195, 0.9829184887167066, 0.9353263165021055, 0.9938799538077804, 0.9768193585517053, 0.9825860001952877, 0.9996416612649712, 0.9720289102201971, 1.0, 1.0, 0.9996416612649712, 0.9873162406464446, 0.9995301035387343, 0.9758440476337613, 0.9996416612649712, 0.9996416612649712, 0.9777278186618418, 0.9991814899975207, 0.8952524732074923, 1.0, 0.9996416612649712, 1.0, 1.0, 0.9013662597392754, 1.0]}, {\"categories\": [\"0\", \"2\", \"3\", \"4\", \"6\", \"7\", \"8\", \"9\", \"10\", \"11\", \"13\", \"14\", \"16\", \"17\", \"18\", \"19\", \"21\", \"22\", \"23\", \"24\", \"25\", \"26\", \"27\", \"28\", \"29\", \"30\", \"31\"], \"mode\": \"lines\", \"name\": \"weighted_accuracy_max\", \"stepped\": true, \"type\": \"scatter\", \"data\": [1.0, 1.0, 1.0, 1.0, 1.0, 1.0, 1.0, 1.0, 1.0, 1.0, 1.0, 1.0, 1.0, 1.0, 1.0, 1.0, 1.0, 1.0, 1.0, 1.0, 1.0, 1.0, 1.0, 1.0, 1.0, 1.0, 1.0]}], \"precision_score_weighted\": [{\"categories\": [\"0\", \"2\", \"3\", \"4\", \"6\", \"7\", \"8\", \"9\", \"10\", \"11\", \"13\", \"14\", \"16\", \"17\", \"18\", \"19\", \"21\", \"22\", \"23\", \"24\", \"25\", \"26\", \"27\", \"28\", \"29\", \"30\", \"31\"], \"mode\": \"markers\", \"name\": \"precision_score_weighted\", \"stepped\": false, \"type\": \"scatter\", \"data\": [1.0, 0.9820484781291874, 0.943375081071191, 0.9828493549381419, 0.9391862952149751, 0.9936851138272862, 0.9765776932576941, 0.9825563852913792, 0.9996312106325366, 0.971930604652292, 1.0, 1.0, 0.9996312106325366, 0.9871004196590774, 0.9995082729367482, 0.9756686255361201, 0.9996312106325366, 0.9996312106325366, 0.977507063289986, 0.9991405485893725, 0.9016827441105011, 1.0, 0.9996312106325366, 1.0, 1.0, 0.903284812400344, 1.0]}, {\"categories\": [\"0\", \"2\", \"3\", \"4\", \"6\", \"7\", \"8\", \"9\", \"10\", \"11\", \"13\", \"14\", \"16\", \"17\", \"18\", \"19\", \"21\", \"22\", \"23\", \"24\", \"25\", \"26\", \"27\", \"28\", \"29\", \"30\", \"31\"], \"mode\": \"lines\", \"name\": \"precision_score_weighted_max\", \"stepped\": true, \"type\": \"scatter\", \"data\": [1.0, 1.0, 1.0, 1.0, 1.0, 1.0, 1.0, 1.0, 1.0, 1.0, 1.0, 1.0, 1.0, 1.0, 1.0, 1.0, 1.0, 1.0, 1.0, 1.0, 1.0, 1.0, 1.0, 1.0, 1.0, 1.0, 1.0]}], \"average_precision_score_micro\": [{\"categories\": [\"0\", \"2\", \"3\", \"4\", \"6\", \"7\", \"8\", \"9\", \"10\", \"11\", \"13\", \"14\", \"16\", \"17\", \"18\", \"19\", \"21\", \"22\", \"23\", \"24\", \"25\", \"26\", \"27\", \"28\", \"29\", \"30\", \"31\"], \"mode\": \"markers\", \"name\": \"average_precision_score_micro\", \"stepped\": false, \"type\": \"scatter\", \"data\": [1.0, 0.9977576651935308, 0.9898811542210488, 0.9975111145220412, 0.9879553177959156, 0.9996827605117116, 0.9954733149434393, 0.9992991005821462, 0.9999997729208061, 0.9929968320099274, 1.0, 1.0, 0.9999997729208061, 0.9994353582376799, 0.9999996972277415, 0.9968213196108302, 0.9999997729208061, 0.9999997729208061, 0.9986702601670704, 0.9999984114200563, 0.8697261012771579, 1.0, 0.9999994702877164, 1.0, 1.0, 0.9481092756014983, 1.0]}, {\"categories\": [\"0\", \"2\", \"3\", \"4\", \"6\", \"7\", \"8\", \"9\", \"10\", \"11\", \"13\", \"14\", \"16\", \"17\", \"18\", \"19\", \"21\", \"22\", \"23\", \"24\", \"25\", \"26\", \"27\", \"28\", \"29\", \"30\", \"31\"], \"mode\": \"lines\", \"name\": \"average_precision_score_micro_max\", \"stepped\": true, \"type\": \"scatter\", \"data\": [1.0, 1.0, 1.0, 1.0, 1.0, 1.0, 1.0, 1.0, 1.0, 1.0, 1.0, 1.0, 1.0, 1.0, 1.0, 1.0, 1.0, 1.0, 1.0, 1.0, 1.0, 1.0, 1.0, 1.0, 1.0, 1.0, 1.0]}], \"f1_score_macro\": [{\"categories\": [\"0\", \"2\", \"3\", \"4\", \"6\", \"7\", \"8\", \"9\", \"10\", \"11\", \"13\", \"14\", \"16\", \"17\", \"18\", \"19\", \"21\", \"22\", \"23\", \"24\", \"25\", \"26\", \"27\", \"28\", \"29\", \"30\", \"31\"], \"mode\": \"markers\", \"name\": \"f1_score_macro\", \"stepped\": false, \"type\": \"scatter\", \"data\": [1.0, 0.9817171392047364, 0.9373166766572364, 0.9827209261368622, 0.9325148263263243, 0.9935786355021492, 0.9758883012182189, 0.982478930104506, 0.9996303761750823, 0.9713334483854048, 1.0, 1.0, 0.9996303761750823, 0.9869169341685851, 0.9995063521960954, 0.9755623178966083, 0.9996303761750823, 0.9996303761750823, 0.9774117030252484, 0.9991357025910238, 0.8920110564563813, 1.0, 0.9996303761750823, 1.0, 1.0, 0.8987726827237313, 1.0]}, {\"categories\": [\"0\", \"2\", \"3\", \"4\", \"6\", \"7\", \"8\", \"9\", \"10\", \"11\", \"13\", \"14\", \"16\", \"17\", \"18\", \"19\", \"21\", \"22\", \"23\", \"24\", \"25\", \"26\", \"27\", \"28\", \"29\", \"30\", \"31\"], \"mode\": \"lines\", \"name\": \"f1_score_macro_max\", \"stepped\": true, \"type\": \"scatter\", \"data\": [1.0, 1.0, 1.0, 1.0, 1.0, 1.0, 1.0, 1.0, 1.0, 1.0, 1.0, 1.0, 1.0, 1.0, 1.0, 1.0, 1.0, 1.0, 1.0, 1.0, 1.0, 1.0, 1.0, 1.0, 1.0, 1.0, 1.0]}], \"log_loss\": [{\"categories\": [\"0\", \"2\", \"3\", \"4\", \"6\", \"7\", \"8\", \"9\", \"10\", \"11\", \"13\", \"14\", \"16\", \"17\", \"18\", \"19\", \"21\", \"22\", \"23\", \"24\", \"25\", \"26\", \"27\", \"28\", \"29\", \"30\", \"31\"], \"mode\": \"markers\", \"name\": \"log_loss\", \"stepped\": false, \"type\": \"scatter\", \"data\": [3.2709335165115044e-05, 0.10928501726145731, 0.21385901107025615, 0.12990389696750504, 0.28657374007994313, 0.2808018902011368, 0.25882733021868665, 0.0476296885358527, 0.0018672852936637626, 0.14221600514304722, 0.0006816601870653589, 1.7930690287438964e-05, 0.0019829244672189784, 0.059574580816342794, 0.0023703910157146005, 0.10129879461593286, 0.002046175682994462, 0.0018671736765482987, 0.0697747190044236, 0.008880046795848152, 0.6290290774533716, 0.00048695190749881476, 0.006964258157181863, 0.0003731381949098312, 0.00019003174277561403, 0.27180405669963903, 0.0003492569090339465]}, {\"categories\": [\"0\", \"2\", \"3\", \"4\", \"6\", \"7\", \"8\", \"9\", \"10\", \"11\", \"13\", \"14\", \"16\", \"17\", \"18\", \"19\", \"21\", \"22\", \"23\", \"24\", \"25\", \"26\", \"27\", \"28\", \"29\", \"30\", \"31\"], \"mode\": \"lines\", \"name\": \"log_loss_min\", \"stepped\": true, \"type\": \"scatter\", \"data\": [3.2709335165115044e-05, 3.2709335165115044e-05, 3.2709335165115044e-05, 3.2709335165115044e-05, 3.2709335165115044e-05, 3.2709335165115044e-05, 3.2709335165115044e-05, 3.2709335165115044e-05, 3.2709335165115044e-05, 3.2709335165115044e-05, 3.2709335165115044e-05, 1.7930690287438964e-05, 1.7930690287438964e-05, 1.7930690287438964e-05, 1.7930690287438964e-05, 1.7930690287438964e-05, 1.7930690287438964e-05, 1.7930690287438964e-05, 1.7930690287438964e-05, 1.7930690287438964e-05, 1.7930690287438964e-05, 1.7930690287438964e-05, 1.7930690287438964e-05, 1.7930690287438964e-05, 1.7930690287438964e-05, 1.7930690287438964e-05, 1.7930690287438964e-05]}], \"average_precision_score_macro\": [{\"categories\": [\"0\", \"2\", \"3\", \"4\", \"6\", \"7\", \"8\", \"9\", \"10\", \"11\", \"13\", \"14\", \"16\", \"17\", \"18\", \"19\", \"21\", \"22\", \"23\", \"24\", \"25\", \"26\", \"27\", \"28\", \"29\", \"30\", \"31\"], \"mode\": \"markers\", \"name\": \"average_precision_score_macro\", \"stepped\": false, \"type\": \"scatter\", \"data\": [1.0, 0.9981114068110919, 0.9916065005771992, 0.9980882600990381, 0.9905110331186766, 0.9998330931472095, 0.9959940733506027, 0.99924868870347, 1.0, 0.991933128418472, 1.0, 1.0, 1.0, 0.9994235721269072, 1.0, 0.9968461113794127, 1.0, 1.0, 0.9986231648204358, 1.0, 0.9027660116491063, 1.0, 0.9999993919928721, 1.0, 1.0, 0.9197507110162402, 1.0]}, {\"categories\": [\"0\", \"2\", \"3\", \"4\", \"6\", \"7\", \"8\", \"9\", \"10\", \"11\", \"13\", \"14\", \"16\", \"17\", \"18\", \"19\", \"21\", \"22\", \"23\", \"24\", \"25\", \"26\", \"27\", \"28\", \"29\", \"30\", \"31\"], \"mode\": \"lines\", \"name\": \"average_precision_score_macro_max\", \"stepped\": true, \"type\": \"scatter\", \"data\": [1.0, 1.0, 1.0, 1.0, 1.0, 1.0, 1.0, 1.0, 1.0, 1.0, 1.0, 1.0, 1.0, 1.0, 1.0, 1.0, 1.0, 1.0, 1.0, 1.0, 1.0, 1.0, 1.0, 1.0, 1.0, 1.0, 1.0]}], \"AUC_macro\": [{\"categories\": [\"0\", \"2\", \"3\", \"4\", \"6\", \"7\", \"8\", \"9\", \"10\", \"11\", \"13\", \"14\", \"16\", \"17\", \"18\", \"19\", \"21\", \"22\", \"23\", \"24\", \"25\", \"26\", \"27\", \"28\", \"29\", \"30\", \"31\"], \"mode\": \"markers\", \"name\": \"AUC_macro\", \"stepped\": false, \"type\": \"scatter\", \"data\": [1.0, 0.9980574650253761, 0.9913135355085305, 0.9980365735102008, 0.9901303970139006, 0.9998313048980201, 0.9958444900462247, 0.9992415684112007, 1.0, 0.9915022310823408, 1.0, 1.0, 1.0, 0.9994170701966795, 1.0, 0.9967483538340123, 1.0, 1.0, 0.9986058298141275, 1.0, 0.9251882989837756, 1.0, 0.9999993930510414, 1.0, 1.0, 0.9293003865961234, 1.0]}, {\"categories\": [\"0\", \"2\", \"3\", \"4\", \"6\", \"7\", \"8\", \"9\", \"10\", \"11\", \"13\", \"14\", \"16\", \"17\", \"18\", \"19\", \"21\", \"22\", \"23\", \"24\", \"25\", \"26\", \"27\", \"28\", \"29\", \"30\", \"31\"], \"mode\": \"lines\", \"name\": \"AUC_macro_max\", \"stepped\": true, \"type\": \"scatter\", \"data\": [1.0, 1.0, 1.0, 1.0, 1.0, 1.0, 1.0, 1.0, 1.0, 1.0, 1.0, 1.0, 1.0, 1.0, 1.0, 1.0, 1.0, 1.0, 1.0, 1.0, 1.0, 1.0, 1.0, 1.0, 1.0, 1.0, 1.0]}], \"AUC_weighted\": [{\"categories\": [\"0\", \"2\", \"3\", \"4\", \"6\", \"7\", \"8\", \"9\", \"10\", \"11\", \"13\", \"14\", \"16\", \"17\", \"18\", \"19\", \"21\", \"22\", \"23\", \"24\", \"25\", \"26\", \"27\", \"28\", \"29\", \"30\", \"31\"], \"mode\": \"markers\", \"name\": \"AUC_weighted\", \"stepped\": false, \"type\": \"scatter\", \"data\": [1.0, 0.9980574650253761, 0.9913135355085305, 0.9980365735102008, 0.9901303970139006, 0.9998313048980199, 0.9958444900462247, 0.9992415684112007, 1.0, 0.9915022310823408, 1.0, 1.0, 1.0, 0.9994170701966795, 1.0, 0.9967483538340121, 1.0, 1.0, 0.9986058298141275, 1.0, 0.9251882989837756, 1.0, 0.9999993930510414, 1.0, 1.0, 0.9293003865961234, 1.0]}, {\"categories\": [\"0\", \"2\", \"3\", \"4\", \"6\", \"7\", \"8\", \"9\", \"10\", \"11\", \"13\", \"14\", \"16\", \"17\", \"18\", \"19\", \"21\", \"22\", \"23\", \"24\", \"25\", \"26\", \"27\", \"28\", \"29\", \"30\", \"31\"], \"mode\": \"lines\", \"name\": \"AUC_weighted_max\", \"stepped\": true, \"type\": \"scatter\", \"data\": [1.0, 1.0, 1.0, 1.0, 1.0, 1.0, 1.0, 1.0, 1.0, 1.0, 1.0, 1.0, 1.0, 1.0, 1.0, 1.0, 1.0, 1.0, 1.0, 1.0, 1.0, 1.0, 1.0, 1.0, 1.0, 1.0, 1.0]}], \"balanced_accuracy\": [{\"categories\": [\"0\", \"2\", \"3\", \"4\", \"6\", \"7\", \"8\", \"9\", \"10\", \"11\", \"13\", \"14\", \"16\", \"17\", \"18\", \"19\", \"21\", \"22\", \"23\", \"24\", \"25\", \"26\", \"27\", \"28\", \"29\", \"30\", \"31\"], \"mode\": \"markers\", \"name\": \"balanced_accuracy\", \"stepped\": false, \"type\": \"scatter\", \"data\": [1.0, 0.9812810351392096, 0.9358555970197932, 0.9826154953276653, 0.9309756079804753, 0.993316033705127, 0.9751661596409431, 0.9824557801671296, 0.9996198468955246, 0.970855067425126, 1.0, 1.0, 0.9996198468955246, 0.9865842529989743, 0.999485076006037, 0.9754086113376141, 0.9996198468955246, 0.9996198468955246, 0.9772174199540444, 0.9990948772749142, 0.8912844034641516, 1.0, 0.9996198468955246, 1.0, 1.0, 0.8977312765027741, 1.0]}, {\"categories\": [\"0\", \"2\", \"3\", \"4\", \"6\", \"7\", \"8\", \"9\", \"10\", \"11\", \"13\", \"14\", \"16\", \"17\", \"18\", \"19\", \"21\", \"22\", \"23\", \"24\", \"25\", \"26\", \"27\", \"28\", \"29\", \"30\", \"31\"], \"mode\": \"lines\", \"name\": \"balanced_accuracy_max\", \"stepped\": true, \"type\": \"scatter\", \"data\": [1.0, 1.0, 1.0, 1.0, 1.0, 1.0, 1.0, 1.0, 1.0, 1.0, 1.0, 1.0, 1.0, 1.0, 1.0, 1.0, 1.0, 1.0, 1.0, 1.0, 1.0, 1.0, 1.0, 1.0, 1.0, 1.0, 1.0]}], \"recall_score_weighted\": [{\"categories\": [\"0\", \"2\", \"3\", \"4\", \"6\", \"7\", \"8\", \"9\", \"10\", \"11\", \"13\", \"14\", \"16\", \"17\", \"18\", \"19\", \"21\", \"22\", \"23\", \"24\", \"25\", \"26\", \"27\", \"28\", \"29\", \"30\", \"31\"], \"mode\": \"markers\", \"name\": \"recall_score_weighted\", \"stepped\": false, \"type\": \"scatter\", \"data\": [1.0, 0.9817826449412657, 0.9379593027661993, 0.9827673361121636, 0.9331600606290262, 0.9935992421371731, 0.9759968169761273, 0.9825211822660098, 0.9996307692307692, 0.9714438802576734, 1.0, 1.0, 0.9996307692307692, 0.986951951496779, 0.9995076923076922, 0.975627737779462, 0.9996307692307692, 0.9996307692307692, 0.9774741189844638, 0.999138385752179, 0.8932755589238347, 1.0, 0.9996307692307692, 1.0, 1.0, 0.8995558165971959, 1.0]}, {\"categories\": [\"0\", \"2\", \"3\", \"4\", \"6\", \"7\", \"8\", \"9\", \"10\", \"11\", \"13\", \"14\", \"16\", \"17\", \"18\", \"19\", \"21\", \"22\", \"23\", \"24\", \"25\", \"26\", \"27\", \"28\", \"29\", \"30\", \"31\"], \"mode\": \"lines\", \"name\": \"recall_score_weighted_max\", \"stepped\": true, \"type\": \"scatter\", \"data\": [1.0, 1.0, 1.0, 1.0, 1.0, 1.0, 1.0, 1.0, 1.0, 1.0, 1.0, 1.0, 1.0, 1.0, 1.0, 1.0, 1.0, 1.0, 1.0, 1.0, 1.0, 1.0, 1.0, 1.0, 1.0, 1.0, 1.0]}]}, \"metricName\": null, \"primaryMetricName\": \"accuracy\", \"showLegend\": false}, \"run_metrics\": [{\"name\": \"weighted_accuracy\", \"run_id\": \"AutoML_92f091ad-ff17-4c7b-9489-4d7c9791b535\", \"categories\": [0], \"series\": [{\"data\": [1.0]}]}, {\"name\": \"recall_score_micro\", \"run_id\": \"AutoML_92f091ad-ff17-4c7b-9489-4d7c9791b535\", \"categories\": [0], \"series\": [{\"data\": [1.0]}]}, {\"name\": \"AUC_micro\", \"run_id\": \"AutoML_92f091ad-ff17-4c7b-9489-4d7c9791b535\", \"categories\": [0], \"series\": [{\"data\": [1.0]}]}, {\"name\": \"AUC_weighted\", \"run_id\": \"AutoML_92f091ad-ff17-4c7b-9489-4d7c9791b535\", \"categories\": [0], \"series\": [{\"data\": [1.0]}]}, {\"name\": \"recall_score_macro\", \"run_id\": \"AutoML_92f091ad-ff17-4c7b-9489-4d7c9791b535\", \"categories\": [0], \"series\": [{\"data\": [1.0]}]}, {\"name\": \"recall_score_weighted\", \"run_id\": \"AutoML_92f091ad-ff17-4c7b-9489-4d7c9791b535\", \"categories\": [0], \"series\": [{\"data\": [1.0]}]}, {\"name\": \"AUC_macro\", \"run_id\": \"AutoML_92f091ad-ff17-4c7b-9489-4d7c9791b535\", \"categories\": [0], \"series\": [{\"data\": [1.0]}]}, {\"name\": \"balanced_accuracy\", \"run_id\": \"AutoML_92f091ad-ff17-4c7b-9489-4d7c9791b535\", \"categories\": [0], \"series\": [{\"data\": [1.0]}]}, {\"name\": \"f1_score_macro\", \"run_id\": \"AutoML_92f091ad-ff17-4c7b-9489-4d7c9791b535\", \"categories\": [0], \"series\": [{\"data\": [1.0]}]}, {\"name\": \"log_loss\", \"run_id\": \"AutoML_92f091ad-ff17-4c7b-9489-4d7c9791b535\", \"categories\": [0], \"series\": [{\"data\": [3.2709335165115044e-05]}]}, {\"name\": \"average_precision_score_macro\", \"run_id\": \"AutoML_92f091ad-ff17-4c7b-9489-4d7c9791b535\", \"categories\": [0], \"series\": [{\"data\": [1.0]}]}, {\"name\": \"average_precision_score_micro\", \"run_id\": \"AutoML_92f091ad-ff17-4c7b-9489-4d7c9791b535\", \"categories\": [0], \"series\": [{\"data\": [1.0]}]}, {\"name\": \"precision_score_weighted\", \"run_id\": \"AutoML_92f091ad-ff17-4c7b-9489-4d7c9791b535\", \"categories\": [0], \"series\": [{\"data\": [1.0]}]}, {\"name\": \"precision_score_macro\", \"run_id\": \"AutoML_92f091ad-ff17-4c7b-9489-4d7c9791b535\", \"categories\": [0], \"series\": [{\"data\": [1.0]}]}, {\"name\": \"f1_score_weighted\", \"run_id\": \"AutoML_92f091ad-ff17-4c7b-9489-4d7c9791b535\", \"categories\": [0], \"series\": [{\"data\": [1.0]}]}, {\"name\": \"accuracy\", \"run_id\": \"AutoML_92f091ad-ff17-4c7b-9489-4d7c9791b535\", \"categories\": [0], \"series\": [{\"data\": [1.0]}]}, {\"name\": \"precision_score_micro\", \"run_id\": \"AutoML_92f091ad-ff17-4c7b-9489-4d7c9791b535\", \"categories\": [0], \"series\": [{\"data\": [1.0]}]}, {\"name\": \"average_precision_score_weighted\", \"run_id\": \"AutoML_92f091ad-ff17-4c7b-9489-4d7c9791b535\", \"categories\": [0], \"series\": [{\"data\": [1.0]}]}, {\"name\": \"norm_macro_recall\", \"run_id\": \"AutoML_92f091ad-ff17-4c7b-9489-4d7c9791b535\", \"categories\": [0], \"series\": [{\"data\": [1.0]}]}, {\"name\": \"matthews_correlation\", \"run_id\": \"AutoML_92f091ad-ff17-4c7b-9489-4d7c9791b535\", \"categories\": [0], \"series\": [{\"data\": [1.0]}]}, {\"name\": \"f1_score_micro\", \"run_id\": \"AutoML_92f091ad-ff17-4c7b-9489-4d7c9791b535\", \"categories\": [0], \"series\": [{\"data\": [1.0]}]}], \"run_logs\": \"\\nRun is completed.\", \"graph\": {}, \"widget_settings\": {\"childWidgetDisplay\": \"popup\", \"send_telemetry\": false, \"log_level\": \"INFO\", \"sdk_version\": \"1.22.0\"}, \"loading\": false}"
          },
          "metadata": {}
        },
        {
          "output_type": "execute_result",
          "execution_count": 17,
          "data": {
            "text/plain": "{'runId': 'AutoML_92f091ad-ff17-4c7b-9489-4d7c9791b535',\n 'target': 'local',\n 'status': 'Completed',\n 'startTimeUtc': '2021-04-20T00:36:37.576239Z',\n 'endTimeUtc': '2021-04-20T00:52:20.251737Z',\n 'properties': {'num_iterations': '1000',\n  'training_type': 'TrainFull',\n  'acquisition_function': 'EI',\n  'primary_metric': 'accuracy',\n  'train_split': '0',\n  'acquisition_parameter': '0',\n  'num_cross_validation': '5',\n  'target': 'local',\n  'AMLSettingsJsonString': '{\"path\":null,\"name\":\"mushroom-classification-final\",\"subscription_id\":\"095d396f-a6aa-423a-90bb-d2146baff999\",\"resource_group\":\"main-workspace\",\"workspace_name\":\"sandbox-main\",\"region\":\"westus2\",\"compute_target\":\"local\",\"spark_service\":null,\"azure_service\":\"Microsoft.AzureNotebookVM\",\"many_models\":false,\"pipeline_fetch_max_batch_size\":1,\"iterations\":1000,\"primary_metric\":\"accuracy\",\"task_type\":\"classification\",\"data_script\":null,\"validation_size\":0.0,\"n_cross_validations\":5,\"y_min\":null,\"y_max\":null,\"num_classes\":2,\"featurization\":\"auto\",\"_ignore_package_version_incompatibilities\":false,\"is_timeseries\":false,\"max_cores_per_iteration\":-1,\"max_concurrent_iterations\":2,\"iteration_timeout_minutes\":5,\"mem_in_mb\":null,\"enforce_time_on_windows\":false,\"experiment_timeout_minutes\":30,\"experiment_exit_score\":null,\"whitelist_models\":null,\"blacklist_algos\":[\"TensorFlowLinearClassifier\",\"TensorFlowDNN\"],\"supported_models\":[\"TensorFlowDNN\",\"ExtremeRandomTrees\",\"LightGBM\",\"SGD\",\"MultinomialNaiveBayes\",\"LogisticRegression\",\"DecisionTree\",\"AveragedPerceptronClassifier\",\"TensorFlowLinearClassifier\",\"XGBoostClassifier\",\"SVM\",\"LinearSVM\",\"RandomForest\",\"KNN\",\"GradientBoosting\",\"BernoulliNaiveBayes\"],\"private_models\":[],\"auto_blacklist\":true,\"blacklist_samples_reached\":false,\"exclude_nan_labels\":true,\"verbosity\":20,\"_debug_log\":\"automl.log\",\"show_warnings\":false,\"model_explainability\":true,\"service_url\":null,\"sdk_url\":null,\"sdk_packages\":null,\"enable_onnx_compatible_models\":true,\"enable_split_onnx_featurizer_estimator_models\":false,\"vm_type\":null,\"telemetry_verbosity\":20,\"send_telemetry\":true,\"enable_dnn\":false,\"scenario\":\"SDK-1.13.0\",\"environment_label\":null,\"force_text_dnn\":false,\"enable_feature_sweeping\":false,\"enable_early_stopping\":true,\"early_stopping_n_iters\":10,\"metrics\":null,\"enable_ensembling\":true,\"enable_stack_ensembling\":false,\"ensemble_iterations\":15,\"enable_tf\":false,\"enable_subsampling\":null,\"subsample_seed\":null,\"enable_nimbusml\":false,\"enable_streaming\":false,\"force_streaming\":false,\"track_child_runs\":true,\"allowed_private_models\":[],\"label_column_name\":\"class_p\",\"weight_column_name\":null,\"cv_split_column_names\":null,\"enable_local_managed\":false,\"_local_managed_run_id\":null,\"cost_mode\":1,\"lag_length\":0,\"metric_operation\":\"maximize\",\"preprocess\":true}',\n  'DataPrepJsonString': None,\n  'EnableSubsampling': None,\n  'runTemplate': 'AutoML',\n  'azureml.runsource': 'automl',\n  'display_task_type': 'classification',\n  'dependencies_versions': '{\"azureml-widgets\": \"1.22.0\", \"azureml-train\": \"1.22.0\", \"azureml-train-restclients-hyperdrive\": \"1.22.0\", \"azureml-train-core\": \"1.22.0\", \"azureml-train-automl\": \"1.22.0\", \"azureml-train-automl-runtime\": \"1.22.0\", \"azureml-train-automl-client\": \"1.22.0\", \"azureml-tensorboard\": \"1.22.0\", \"azureml-telemetry\": \"1.22.0\", \"azureml-sdk\": \"1.22.0\", \"azureml-samples\": \"0+unknown\", \"azureml-pipeline\": \"1.22.0\", \"azureml-pipeline-steps\": \"1.22.0\", \"azureml-pipeline-core\": \"1.22.0\", \"azureml-opendatasets\": \"1.22.0\", \"azureml-model-management-sdk\": \"1.0.1b6.post1\", \"azureml-mlflow\": \"1.22.0\", \"azureml-interpret\": \"1.22.0\", \"azureml-explain-model\": \"1.22.0\", \"azureml-defaults\": \"1.22.0\", \"azureml-dataset-runtime\": \"1.22.0\", \"azureml-dataprep\": \"2.9.1\", \"azureml-dataprep-rslex\": \"1.7.0\", \"azureml-dataprep-native\": \"29.0.0\", \"azureml-datadrift\": \"1.22.0\", \"azureml-core\": \"1.22.0\", \"azureml-contrib-services\": \"1.22.0\", \"azureml-contrib-server\": \"1.22.0\", \"azureml-contrib-reinforcementlearning\": \"1.22.0\", \"azureml-contrib-pipeline-steps\": \"1.22.0\", \"azureml-contrib-notebook\": \"1.22.0\", \"azureml-contrib-interpret\": \"1.22.0\", \"azureml-contrib-gbdt\": \"1.22.0\", \"azureml-contrib-fairness\": \"1.22.0\", \"azureml-contrib-dataset\": \"1.22.0\", \"azureml-cli-common\": \"1.22.0\", \"azureml-automl-runtime\": \"1.22.0\", \"azureml-automl-core\": \"1.22.0\", \"azureml-accel-models\": \"1.22.0\"}',\n  '_aml_system_scenario_identification': 'Local.Parent',\n  'ClientSdkVersion': '1.22.0',\n  'ClientType': 'SDK',\n  'environment_cpu_name': 'AzureML-AutoML',\n  'environment_cpu_label': 'prod',\n  'environment_gpu_name': 'AzureML-AutoML-GPU',\n  'environment_gpu_label': 'prod',\n  'root_attribution': 'automl',\n  'attribution': 'AutoML',\n  'Orchestrator': 'AutoML',\n  '_azureml.ComputeTargetType': 'local',\n  'ProblemInfoJsonString': '{\"dataset_num_categorical\": 0, \"is_sparse\": false, \"subsampling\": false, \"dataset_classes\": 2, \"dataset_features\": 94, \"dataset_samples\": 8124, \"single_frequency_class_detected\": false}',\n  'feature_skus': 'automatedml_sdk_guardrails'},\n 'inputDatasets': [],\n 'outputDatasets': [],\n 'logFiles': {},\n 'submittedBy': 'Frenc Hu'}"
          },
          "metadata": {}
        }
      ],
      "execution_count": 17,
      "metadata": {
        "collapsed": true,
        "jupyter": {
          "source_hidden": false,
          "outputs_hidden": false
        },
        "nteract": {
          "transient": {
            "deleting": false
          }
        },
        "gather": {
          "logged": 1618880111846
        }
      }
    },
    {
      "cell_type": "code",
      "source": [
        "#AutoML Run with Label Encoded Data\r\n",
        "\r\n",
        "label_config = AutoMLConfig(\r\n",
        "    task=\"classification\",\r\n",
        "    primary_metric='accuracy',\r\n",
        "    training_data=lc,\r\n",
        "    label_column_name='class',\r\n",
        "    enable_onxx_compatible_models=True,\r\n",
        "    n_cross_validations=5,\r\n",
        "    **automl_settings\r\n",
        "    )"
      ],
      "outputs": [],
      "execution_count": 18,
      "metadata": {
        "collapsed": true,
        "jupyter": {
          "source_hidden": false,
          "outputs_hidden": false
        },
        "nteract": {
          "transient": {
            "deleting": false
          }
        },
        "gather": {
          "logged": 1618880111949
        }
      }
    },
    {
      "cell_type": "code",
      "source": [
        "exp = Experiment(ws,\"mushroom_lc_automl\")\r\n",
        "label_run = experiment.submit(label_config, show_output = True)"
      ],
      "outputs": [
        {
          "output_type": "stream",
          "name": "stderr",
          "text": [
            "WARNING:root:Received unrecognized parameter enable_onxx_compatible_models\n",
            "WARNING:root:Received unrecognized parameter enable_onxx_compatible_models\n",
            "WARNING:root:Received unrecognized parameter enable_onxx_compatible_models\n"
          ]
        },
        {
          "output_type": "stream",
          "name": "stdout",
          "text": [
            "No run_configuration provided, running on local with default configuration\n",
            "Running on local machine\n",
            "Parent Run ID: AutoML_0f0242a2-125f-4e57-b0f1-4e024d00d463\n",
            "\n",
            "Current status: DatasetEvaluation. Gathering dataset statistics.\n",
            "Current status: FeaturesGeneration. Generating features for the dataset.\n",
            "Current status: DatasetFeaturization. Beginning to fit featurizers and featurize the dataset.\n",
            "Current status: DatasetFeaturizationCompleted. Completed fit featurizers and featurizing the dataset.\n",
            "Current status: DatasetCrossValidationSplit. Generating individually featurized CV splits.\n",
            "\n",
            "****************************************************************************************************\n",
            "DATA GUARDRAILS: \n",
            "\n",
            "TYPE:         Class balancing detection\n",
            "STATUS:       PASSED\n",
            "DESCRIPTION:  Your inputs were analyzed, and all classes are balanced in your training data.\n",
            "              Learn more about imbalanced data: https://aka.ms/AutomatedMLImbalancedData\n",
            "\n",
            "****************************************************************************************************\n",
            "\n",
            "TYPE:         Missing feature values imputation\n",
            "STATUS:       PASSED\n",
            "DESCRIPTION:  No feature missing values were detected in the training data.\n",
            "              Learn more about missing value imputation: https://aka.ms/AutomatedMLFeaturization\n",
            "\n",
            "****************************************************************************************************\n",
            "\n",
            "TYPE:         High cardinality feature detection\n",
            "STATUS:       PASSED\n",
            "DESCRIPTION:  Your inputs were analyzed, and no high cardinality features were detected.\n",
            "              Learn more about high cardinality feature handling: https://aka.ms/AutomatedMLFeaturization\n",
            "\n",
            "****************************************************************************************************\n",
            "Current status: ModelSelection. Beginning model selection.\n",
            "\n",
            "****************************************************************************************************\n",
            "ITERATION: The iteration being evaluated.\n",
            "PIPELINE: A summary description of the pipeline being evaluated.\n",
            "DURATION: Time taken for the current iteration.\n",
            "METRIC: The result of computing score on the fitted pipeline.\n",
            "BEST: The best observed score thus far.\n",
            "****************************************************************************************************\n",
            "\n",
            " ITERATION   PIPELINE                                       DURATION      METRIC      BEST\n",
            "         0   MaxAbsScaler LightGBM                          0:01:05       0.9999    0.9999\n",
            "         1                                                  0:00:12          nan    0.9999\n",
            "ERROR: FitException:\n",
            "\tMessage: /anaconda/envs/azureml_py36/lib/libxgboost.so: undefined symbol: XGDMatrixSetDenseInfo\n",
            "\tInnerException: AttributeError: /anaconda/envs/azureml_py36/lib/libxgboost.so: undefined symbol: XGDMatrixSetDenseInfo\n",
            "\tErrorResponse \n",
            "{\n",
            "    \"error\": {\n",
            "        \"code\": \"SystemError\",\n",
            "        \"message\": \"Encountered an internal AutoML error. Error Message/Code: FitException. Additional Info: FitException:\\n\\tMessage: /anaconda/envs/azureml_py36/lib/libxgboost.so: undefined symbol: XGDMatrixSetDenseInfo\\n\\tInnerException: None\\n\\tErrorResponse \\n{\\n    \\\"error\\\": {\\n        \\\"message\\\": \\\"/anaconda/envs/azureml_py36/lib/libxgboost.so: undefined symbol: XGDMatrixSetDenseInfo\\\",\\n        \\\"target\\\": \\\"Xgboost\\\",\\n        \\\"reference_code\\\": \\\"Xgboost\\\"\\n    }\\n}\",\n",
            "        \"details_uri\": \"https://docs.microsoft.com/azure/machine-learning/resource-known-issues#automated-machine-learning\",\n",
            "        \"target\": \"Xgboost\",\n",
            "        \"inner_error\": {\n",
            "            \"code\": \"ClientError\",\n",
            "            \"inner_error\": {\n",
            "                \"code\": \"AutoMLInternal\"\n",
            "            }\n",
            "        },\n",
            "        \"reference_code\": \"Xgboost\"\n",
            "    }\n",
            "}\n",
            "         2   MinMaxScaler RandomForest                      0:00:28       0.9785    0.9999\n",
            "         3   MinMaxScaler RandomForest                      0:00:28       0.9494    0.9999\n",
            "         4   MinMaxScaler RandomForest                      0:00:28       0.9867    0.9999\n",
            "         5                                                  0:00:08          nan    0.9999\n",
            "ERROR: FitException:\n",
            "\tMessage: /anaconda/envs/azureml_py36/lib/libxgboost.so: undefined symbol: XGDMatrixSetDenseInfo\n",
            "\tInnerException: AttributeError: /anaconda/envs/azureml_py36/lib/libxgboost.so: undefined symbol: XGDMatrixSetDenseInfo\n",
            "\tErrorResponse \n",
            "{\n",
            "    \"error\": {\n",
            "        \"code\": \"SystemError\",\n",
            "        \"message\": \"Encountered an internal AutoML error. Error Message/Code: FitException. Additional Info: FitException:\\n\\tMessage: /anaconda/envs/azureml_py36/lib/libxgboost.so: undefined symbol: XGDMatrixSetDenseInfo\\n\\tInnerException: None\\n\\tErrorResponse \\n{\\n    \\\"error\\\": {\\n        \\\"message\\\": \\\"/anaconda/envs/azureml_py36/lib/libxgboost.so: undefined symbol: XGDMatrixSetDenseInfo\\\",\\n        \\\"target\\\": \\\"Xgboost\\\",\\n        \\\"reference_code\\\": \\\"Xgboost\\\"\\n    }\\n}\",\n",
            "        \"details_uri\": \"https://docs.microsoft.com/azure/machine-learning/resource-known-issues#automated-machine-learning\",\n",
            "        \"target\": \"Xgboost\",\n",
            "        \"inner_error\": {\n",
            "            \"code\": \"ClientError\",\n",
            "            \"inner_error\": {\n",
            "                \"code\": \"AutoMLInternal\"\n",
            "            }\n",
            "        },\n",
            "        \"reference_code\": \"Xgboost\"\n",
            "    }\n",
            "}\n",
            "         6   MinMaxScaler LightGBM                          0:00:27       0.9501    0.9999\n",
            "         7   MaxAbsScaler LightGBM                          0:00:24       0.9934    0.9999\n",
            "         8   StandardScalerWrapper LightGBM                 0:00:26       0.9786    0.9999\n",
            "         9   MaxAbsScaler LightGBM                          0:01:13       0.9978    0.9999\n",
            "        10   StandardScalerWrapper LogisticRegression       0:00:31       0.9778    0.9999\n",
            "        11   RobustScaler ExtremeRandomTrees                0:00:29       0.9371    0.9999\n",
            "        12                                                  0:00:09          nan    0.9999\n",
            "ERROR: FitException:\n",
            "\tMessage: /anaconda/envs/azureml_py36/lib/libxgboost.so: undefined symbol: XGDMatrixSetDenseInfo\n",
            "\tInnerException: AttributeError: /anaconda/envs/azureml_py36/lib/libxgboost.so: undefined symbol: XGDMatrixSetDenseInfo\n",
            "\tErrorResponse \n",
            "{\n",
            "    \"error\": {\n",
            "        \"code\": \"SystemError\",\n",
            "        \"message\": \"Encountered an internal AutoML error. Error Message/Code: FitException. Additional Info: FitException:\\n\\tMessage: /anaconda/envs/azureml_py36/lib/libxgboost.so: undefined symbol: XGDMatrixSetDenseInfo\\n\\tInnerException: None\\n\\tErrorResponse \\n{\\n    \\\"error\\\": {\\n        \\\"message\\\": \\\"/anaconda/envs/azureml_py36/lib/libxgboost.so: undefined symbol: XGDMatrixSetDenseInfo\\\",\\n        \\\"target\\\": \\\"Xgboost\\\",\\n        \\\"reference_code\\\": \\\"Xgboost\\\"\\n    }\\n}\",\n",
            "        \"details_uri\": \"https://docs.microsoft.com/azure/machine-learning/resource-known-issues#automated-machine-learning\",\n",
            "        \"target\": \"Xgboost\",\n",
            "        \"inner_error\": {\n",
            "            \"code\": \"ClientError\",\n",
            "            \"inner_error\": {\n",
            "                \"code\": \"AutoMLInternal\"\n",
            "            }\n",
            "        },\n",
            "        \"reference_code\": \"Xgboost\"\n",
            "    }\n",
            "}\n",
            "        13   MinMaxScaler LogisticRegression                0:00:31       0.9628    0.9999\n",
            "        14   StandardScalerWrapper LightGBM                 0:00:51       0.9950    0.9999\n",
            "        15   SparseNormalizer LightGBM                      0:00:34       0.9748    0.9999\n",
            "        16   StandardScalerWrapper LogisticRegression       0:00:28       0.9732    0.9999\n",
            "        17                                                  0:00:08          nan    0.9999\n",
            "ERROR: FitException:\n",
            "\tMessage: /anaconda/envs/azureml_py36/lib/libxgboost.so: undefined symbol: XGDMatrixSetDenseInfo\n",
            "\tInnerException: AttributeError: /anaconda/envs/azureml_py36/lib/libxgboost.so: undefined symbol: XGDMatrixSetDenseInfo\n",
            "\tErrorResponse \n",
            "{\n",
            "    \"error\": {\n",
            "        \"code\": \"SystemError\",\n",
            "        \"message\": \"Encountered an internal AutoML error. Error Message/Code: FitException. Additional Info: FitException:\\n\\tMessage: /anaconda/envs/azureml_py36/lib/libxgboost.so: undefined symbol: XGDMatrixSetDenseInfo\\n\\tInnerException: None\\n\\tErrorResponse \\n{\\n    \\\"error\\\": {\\n        \\\"message\\\": \\\"/anaconda/envs/azureml_py36/lib/libxgboost.so: undefined symbol: XGDMatrixSetDenseInfo\\\",\\n        \\\"target\\\": \\\"Xgboost\\\",\\n        \\\"reference_code\\\": \\\"Xgboost\\\"\\n    }\\n}\",\n",
            "        \"details_uri\": \"https://docs.microsoft.com/azure/machine-learning/resource-known-issues#automated-machine-learning\",\n",
            "        \"target\": \"Xgboost\",\n",
            "        \"inner_error\": {\n",
            "            \"code\": \"ClientError\",\n",
            "            \"inner_error\": {\n",
            "                \"code\": \"AutoMLInternal\"\n",
            "            }\n",
            "        },\n",
            "        \"reference_code\": \"Xgboost\"\n",
            "    }\n",
            "}\n",
            "        18   SparseNormalizer LightGBM                      0:00:25       0.9728    0.9999\n",
            "        19   MinMaxScaler LightGBM                          0:00:29       0.9753    0.9999\n",
            "        20   StandardScalerWrapper RandomForest             0:00:26       0.9228    0.9999\n",
            "        21   StandardScalerWrapper LightGBM                 0:00:26       0.9948    0.9999\n",
            "        22   MinMaxScaler LightGBM                          0:00:25       0.9527    0.9999\n",
            "        23                                                  0:00:08          nan    0.9999\n",
            "ERROR: FitException:\n",
            "\tMessage: /anaconda/envs/azureml_py36/lib/libxgboost.so: undefined symbol: XGDMatrixSetDenseInfo\n",
            "\tInnerException: AttributeError: /anaconda/envs/azureml_py36/lib/libxgboost.so: undefined symbol: XGDMatrixSetDenseInfo\n",
            "\tErrorResponse \n",
            "{\n",
            "    \"error\": {\n",
            "        \"code\": \"SystemError\",\n",
            "        \"message\": \"Encountered an internal AutoML error. Error Message/Code: FitException. Additional Info: FitException:\\n\\tMessage: /anaconda/envs/azureml_py36/lib/libxgboost.so: undefined symbol: XGDMatrixSetDenseInfo\\n\\tInnerException: None\\n\\tErrorResponse \\n{\\n    \\\"error\\\": {\\n        \\\"message\\\": \\\"/anaconda/envs/azureml_py36/lib/libxgboost.so: undefined symbol: XGDMatrixSetDenseInfo\\\",\\n        \\\"target\\\": \\\"Xgboost\\\",\\n        \\\"reference_code\\\": \\\"Xgboost\\\"\\n    }\\n}\",\n",
            "        \"details_uri\": \"https://docs.microsoft.com/azure/machine-learning/resource-known-issues#automated-machine-learning\",\n",
            "        \"target\": \"Xgboost\",\n",
            "        \"inner_error\": {\n",
            "            \"code\": \"ClientError\",\n",
            "            \"inner_error\": {\n",
            "                \"code\": \"AutoMLInternal\"\n",
            "            }\n",
            "        },\n",
            "        \"reference_code\": \"Xgboost\"\n",
            "    }\n",
            "}\n",
            "        24   MinMaxScaler LightGBM                          0:00:34       0.9830    0.9999\n",
            "        25   SparseNormalizer LightGBM                      0:00:35       0.9775    0.9999\n",
            "        26   StandardScalerWrapper LightGBM                 0:00:27       0.9455    0.9999\n",
            "        27   StandardScalerWrapper LogisticRegression       0:00:27       0.9644    0.9999\n",
            "        28   StandardScalerWrapper LogisticRegression       0:00:29       0.9922    0.9999\n",
            "        29   StandardScalerWrapper LightGBM                 0:00:26       0.9778    0.9999\n",
            "        30   SparseNormalizer LightGBM                      0:00:26       0.5180    0.9999\n",
            "        31   VotingEnsemble                                 0:00:33       1.0000    1.0000\n",
            "        32   StackEnsemble                                  0:00:40       0.9998    1.0000\n",
            "Stopping criteria reached at iteration 33. Ending experiment.\n",
            "****************************************************************************************************\n",
            "Current status: BestRunExplainModel. Best run model explanations started\n",
            "Current status: ModelExplanationDataSetSetup. Model explanations data setup completed\n",
            "Current status: PickSurrogateModel. Choosing LightGBM as the surrogate model for explanations\n",
            "Current status: EngineeredFeatureExplanations. Computation of engineered features started\n",
            "Current status: EngineeredFeatureExplanations. Computation of engineered features completed\n",
            "Current status: RawFeaturesExplanations. Computation of raw features started\n",
            "Many to one/many maps found in input\n",
            "Many to one/many maps found in input\n",
            "Current status: RawFeaturesExplanations. Computation of raw features completed\n",
            "Current status: BestRunExplainModel. Best run model explanations completed\n",
            "****************************************************************************************************\n"
          ]
        }
      ],
      "execution_count": 19,
      "metadata": {
        "collapsed": true,
        "jupyter": {
          "source_hidden": false,
          "outputs_hidden": false
        },
        "nteract": {
          "transient": {
            "deleting": false
          }
        },
        "gather": {
          "logged": 1618881259757
        }
      }
    },
    {
      "cell_type": "markdown",
      "source": [
        "## Run Details"
      ],
      "metadata": {}
    },
    {
      "cell_type": "code",
      "source": [
        "RunDetails(label_run).show()\r\n",
        "label_run.wait_for_completion()"
      ],
      "outputs": [
        {
          "output_type": "display_data",
          "data": {
            "text/plain": "_AutoMLWidget(widget_settings={'childWidgetDisplay': 'popup', 'send_telemetry': False, 'log_level': 'INFO', 's…",
            "application/vnd.jupyter.widget-view+json": {
              "version_major": 2,
              "version_minor": 0,
              "model_id": "fcc440489b4b4b8ba7076248f7fd5b51"
            }
          },
          "metadata": {}
        },
        {
          "output_type": "display_data",
          "data": {
            "application/aml.mini.widget.v1": "{\"status\": \"Completed\", \"workbench_run_details_uri\": \"https://ml.azure.com/experiments/mushroom-classification-final/runs/AutoML_0f0242a2-125f-4e57-b0f1-4e024d00d463?wsid=/subscriptions/095d396f-a6aa-423a-90bb-d2146baff999/resourcegroups/main-workspace/workspaces/sandbox-main\", \"run_id\": \"AutoML_0f0242a2-125f-4e57-b0f1-4e024d00d463\", \"run_properties\": {\"run_id\": \"AutoML_0f0242a2-125f-4e57-b0f1-4e024d00d463\", \"created_utc\": \"2021-04-20T00:55:13.494976Z\", \"properties\": {\"num_iterations\": \"1000\", \"training_type\": \"TrainFull\", \"acquisition_function\": \"EI\", \"primary_metric\": \"accuracy\", \"train_split\": \"0\", \"acquisition_parameter\": \"0\", \"num_cross_validation\": \"5\", \"target\": \"local\", \"AMLSettingsJsonString\": \"{\\\"path\\\":null,\\\"name\\\":\\\"mushroom-classification-final\\\",\\\"subscription_id\\\":\\\"095d396f-a6aa-423a-90bb-d2146baff999\\\",\\\"resource_group\\\":\\\"main-workspace\\\",\\\"workspace_name\\\":\\\"sandbox-main\\\",\\\"region\\\":\\\"westus2\\\",\\\"compute_target\\\":\\\"local\\\",\\\"spark_service\\\":null,\\\"azure_service\\\":\\\"Microsoft.AzureNotebookVM\\\",\\\"many_models\\\":false,\\\"pipeline_fetch_max_batch_size\\\":1,\\\"iterations\\\":1000,\\\"primary_metric\\\":\\\"accuracy\\\",\\\"task_type\\\":\\\"classification\\\",\\\"data_script\\\":null,\\\"validation_size\\\":0.0,\\\"n_cross_validations\\\":5,\\\"y_min\\\":null,\\\"y_max\\\":null,\\\"num_classes\\\":2,\\\"featurization\\\":\\\"auto\\\",\\\"_ignore_package_version_incompatibilities\\\":false,\\\"is_timeseries\\\":false,\\\"max_cores_per_iteration\\\":-1,\\\"max_concurrent_iterations\\\":2,\\\"iteration_timeout_minutes\\\":5,\\\"mem_in_mb\\\":null,\\\"enforce_time_on_windows\\\":false,\\\"experiment_timeout_minutes\\\":30,\\\"experiment_exit_score\\\":null,\\\"whitelist_models\\\":null,\\\"blacklist_algos\\\":[\\\"TensorFlowLinearClassifier\\\",\\\"TensorFlowDNN\\\"],\\\"supported_models\\\":[\\\"TensorFlowDNN\\\",\\\"ExtremeRandomTrees\\\",\\\"LightGBM\\\",\\\"SGD\\\",\\\"MultinomialNaiveBayes\\\",\\\"LogisticRegression\\\",\\\"DecisionTree\\\",\\\"AveragedPerceptronClassifier\\\",\\\"TensorFlowLinearClassifier\\\",\\\"XGBoostClassifier\\\",\\\"SVM\\\",\\\"LinearSVM\\\",\\\"RandomForest\\\",\\\"KNN\\\",\\\"GradientBoosting\\\",\\\"BernoulliNaiveBayes\\\"],\\\"private_models\\\":[],\\\"auto_blacklist\\\":true,\\\"blacklist_samples_reached\\\":false,\\\"exclude_nan_labels\\\":true,\\\"verbosity\\\":20,\\\"_debug_log\\\":\\\"automl.log\\\",\\\"show_warnings\\\":false,\\\"model_explainability\\\":true,\\\"service_url\\\":null,\\\"sdk_url\\\":null,\\\"sdk_packages\\\":null,\\\"enable_onnx_compatible_models\\\":false,\\\"enable_split_onnx_featurizer_estimator_models\\\":false,\\\"vm_type\\\":null,\\\"telemetry_verbosity\\\":20,\\\"send_telemetry\\\":true,\\\"enable_dnn\\\":false,\\\"scenario\\\":\\\"SDK-1.13.0\\\",\\\"environment_label\\\":null,\\\"force_text_dnn\\\":false,\\\"enable_feature_sweeping\\\":true,\\\"enable_early_stopping\\\":true,\\\"early_stopping_n_iters\\\":10,\\\"metrics\\\":null,\\\"enable_ensembling\\\":true,\\\"enable_stack_ensembling\\\":true,\\\"ensemble_iterations\\\":15,\\\"enable_tf\\\":false,\\\"enable_subsampling\\\":null,\\\"subsample_seed\\\":null,\\\"enable_nimbusml\\\":false,\\\"enable_streaming\\\":false,\\\"force_streaming\\\":false,\\\"track_child_runs\\\":true,\\\"allowed_private_models\\\":[],\\\"label_column_name\\\":\\\"class\\\",\\\"weight_column_name\\\":null,\\\"cv_split_column_names\\\":null,\\\"enable_local_managed\\\":false,\\\"_local_managed_run_id\\\":null,\\\"cost_mode\\\":1,\\\"lag_length\\\":0,\\\"metric_operation\\\":\\\"maximize\\\",\\\"preprocess\\\":true,\\\"enable_onxx_compatible_models\\\":true}\", \"DataPrepJsonString\": null, \"EnableSubsampling\": null, \"runTemplate\": \"AutoML\", \"azureml.runsource\": \"automl\", \"display_task_type\": \"classification\", \"dependencies_versions\": \"{\\\"azureml-widgets\\\": \\\"1.22.0\\\", \\\"azureml-train\\\": \\\"1.22.0\\\", \\\"azureml-train-restclients-hyperdrive\\\": \\\"1.22.0\\\", \\\"azureml-train-core\\\": \\\"1.22.0\\\", \\\"azureml-train-automl\\\": \\\"1.22.0\\\", \\\"azureml-train-automl-runtime\\\": \\\"1.22.0\\\", \\\"azureml-train-automl-client\\\": \\\"1.22.0\\\", \\\"azureml-tensorboard\\\": \\\"1.22.0\\\", \\\"azureml-telemetry\\\": \\\"1.22.0\\\", \\\"azureml-sdk\\\": \\\"1.22.0\\\", \\\"azureml-samples\\\": \\\"0+unknown\\\", \\\"azureml-pipeline\\\": \\\"1.22.0\\\", \\\"azureml-pipeline-steps\\\": \\\"1.22.0\\\", \\\"azureml-pipeline-core\\\": \\\"1.22.0\\\", \\\"azureml-opendatasets\\\": \\\"1.22.0\\\", \\\"azureml-model-management-sdk\\\": \\\"1.0.1b6.post1\\\", \\\"azureml-mlflow\\\": \\\"1.22.0\\\", \\\"azureml-interpret\\\": \\\"1.22.0\\\", \\\"azureml-explain-model\\\": \\\"1.22.0\\\", \\\"azureml-defaults\\\": \\\"1.22.0\\\", \\\"azureml-dataset-runtime\\\": \\\"1.22.0\\\", \\\"azureml-dataprep\\\": \\\"2.9.1\\\", \\\"azureml-dataprep-rslex\\\": \\\"1.7.0\\\", \\\"azureml-dataprep-native\\\": \\\"29.0.0\\\", \\\"azureml-datadrift\\\": \\\"1.22.0\\\", \\\"azureml-core\\\": \\\"1.22.0\\\", \\\"azureml-contrib-services\\\": \\\"1.22.0\\\", \\\"azureml-contrib-server\\\": \\\"1.22.0\\\", \\\"azureml-contrib-reinforcementlearning\\\": \\\"1.22.0\\\", \\\"azureml-contrib-pipeline-steps\\\": \\\"1.22.0\\\", \\\"azureml-contrib-notebook\\\": \\\"1.22.0\\\", \\\"azureml-contrib-interpret\\\": \\\"1.22.0\\\", \\\"azureml-contrib-gbdt\\\": \\\"1.22.0\\\", \\\"azureml-contrib-fairness\\\": \\\"1.22.0\\\", \\\"azureml-contrib-dataset\\\": \\\"1.22.0\\\", \\\"azureml-cli-common\\\": \\\"1.22.0\\\", \\\"azureml-automl-runtime\\\": \\\"1.22.0\\\", \\\"azureml-automl-core\\\": \\\"1.22.0\\\", \\\"azureml-accel-models\\\": \\\"1.22.0\\\"}\", \"_aml_system_scenario_identification\": \"Local.Parent\", \"ClientSdkVersion\": \"1.22.0\", \"ClientType\": \"SDK\", \"environment_cpu_name\": \"AzureML-AutoML\", \"environment_cpu_label\": \"prod\", \"environment_gpu_name\": \"AzureML-AutoML-GPU\", \"environment_gpu_label\": \"prod\", \"root_attribution\": \"automl\", \"attribution\": \"AutoML\", \"Orchestrator\": \"AutoML\", \"_azureml.ComputeTargetType\": \"local\", \"ProblemInfoJsonString\": \"{\\\"dataset_num_categorical\\\": 0, \\\"is_sparse\\\": false, \\\"subsampling\\\": false, \\\"dataset_classes\\\": 2, \\\"dataset_features\\\": 28, \\\"dataset_samples\\\": 8124, \\\"single_frequency_class_detected\\\": false}\", \"feature_skus\": \"automatedml_sdk_guardrails\"}, \"tags\": {\"model_explain_run\": \"best_run\", \"best_score\": \"1.0\", \"best_pipeline\": \"VotingEnsemble\", \"automl_best_child_run_id\": \"AutoML_0f0242a2-125f-4e57-b0f1-4e024d00d463_31\", \"model_explain_best_run_child_id\": \"AutoML_0f0242a2-125f-4e57-b0f1-4e024d00d463_31\"}, \"end_time_utc\": \"2021-04-20T01:12:31.448908Z\", \"status\": \"Completed\", \"log_files\": {}, \"log_groups\": [], \"run_duration\": \"0:17:17\", \"run_number\": \"101\", \"run_queued_details\": {\"status\": \"Completed\", \"details\": null}}, \"child_runs\": [{\"run_id\": \"AutoML_0f0242a2-125f-4e57-b0f1-4e024d00d463_0\", \"run_number\": 102, \"metric\": null, \"status\": \"Completed\", \"run_type\": null, \"training_percent\": \"100\", \"start_time\": \"2021-04-20T00:55:30.913721Z\", \"end_time\": \"2021-04-20T00:56:34.633434Z\", \"created_time\": \"2021-04-20T00:55:30.495218Z\", \"created_time_dt\": \"2021-04-20T00:55:30.495218Z\", \"duration\": \"0:01:04\", \"iteration\": \"0\", \"goal\": \"accuracy_max\", \"run_name\": \"MaxAbsScaler, LightGBM\", \"run_properties\": \"copy=True\", \"primary_metric\": 0.99987692, \"best_metric\": 0.99987692}, {\"run_id\": \"AutoML_0f0242a2-125f-4e57-b0f1-4e024d00d463_1\", \"run_number\": 103, \"metric\": null, \"status\": \"Failed\", \"run_type\": null, \"training_percent\": \"100\", \"start_time\": \"2021-04-20T00:56:39.711987Z\", \"end_time\": \"2021-04-20T00:56:50.746788Z\", \"created_time\": \"2021-04-20T00:56:38.76486Z\", \"created_time_dt\": \"2021-04-20T00:56:38.76486Z\", \"duration\": \"0:00:11\", \"iteration\": \"1\", \"goal\": \"accuracy_max\", \"run_name\": \"MaxAbsScaler, XGBoostClassifier\", \"run_properties\": \"\"}, {\"run_id\": \"AutoML_0f0242a2-125f-4e57-b0f1-4e024d00d463_2\", \"run_number\": 104, \"metric\": null, \"status\": \"Completed\", \"run_type\": null, \"training_percent\": \"100\", \"start_time\": \"2021-04-20T00:56:52.524551Z\", \"end_time\": \"2021-04-20T00:57:20.564402Z\", \"created_time\": \"2021-04-20T00:56:52.355776Z\", \"created_time_dt\": \"2021-04-20T00:56:52.355776Z\", \"duration\": \"0:00:28\", \"iteration\": \"2\", \"goal\": \"accuracy_max\", \"run_name\": \"MinMaxScaler, RandomForest\", \"run_properties\": \"copy=True, feature_range=(0, 1\", \"primary_metric\": 0.97845934, \"best_metric\": 0.99987692}, {\"run_id\": \"AutoML_0f0242a2-125f-4e57-b0f1-4e024d00d463_3\", \"run_number\": 105, \"metric\": null, \"status\": \"Completed\", \"run_type\": null, \"training_percent\": \"100\", \"start_time\": \"2021-04-20T00:57:22.739376Z\", \"end_time\": \"2021-04-20T00:57:51.237604Z\", \"created_time\": \"2021-04-20T00:57:22.429465Z\", \"created_time_dt\": \"2021-04-20T00:57:22.429465Z\", \"duration\": \"0:00:28\", \"iteration\": \"3\", \"goal\": \"accuracy_max\", \"run_name\": \"MinMaxScaler, RandomForest\", \"run_properties\": \"copy=True, feature_range=(0, 1\", \"primary_metric\": 0.94940629, \"best_metric\": 0.99987692}, {\"run_id\": \"AutoML_0f0242a2-125f-4e57-b0f1-4e024d00d463_4\", \"run_number\": 106, \"metric\": null, \"status\": \"Completed\", \"run_type\": null, \"training_percent\": \"100\", \"start_time\": \"2021-04-20T00:57:52.994053Z\", \"end_time\": \"2021-04-20T00:58:21.212494Z\", \"created_time\": \"2021-04-20T00:57:52.80628Z\", \"created_time_dt\": \"2021-04-20T00:57:52.80628Z\", \"duration\": \"0:00:28\", \"iteration\": \"4\", \"goal\": \"accuracy_max\", \"run_name\": \"MinMaxScaler, RandomForest\", \"run_properties\": \"copy=True, feature_range=(0, 1\", \"primary_metric\": 0.98670565, \"best_metric\": 0.99987692}, {\"run_id\": \"AutoML_0f0242a2-125f-4e57-b0f1-4e024d00d463_5\", \"run_number\": 107, \"metric\": null, \"status\": \"Failed\", \"run_type\": null, \"training_percent\": \"100\", \"start_time\": \"2021-04-20T00:58:23.138137Z\", \"end_time\": \"2021-04-20T00:58:31.889279Z\", \"created_time\": \"2021-04-20T00:58:22.751585Z\", \"created_time_dt\": \"2021-04-20T00:58:22.751585Z\", \"duration\": \"0:00:09\", \"iteration\": \"5\", \"goal\": \"accuracy_max\", \"run_name\": \"SparseNormalizer, XGBoostClassifier\", \"run_properties\": \"\"}, {\"run_id\": \"AutoML_0f0242a2-125f-4e57-b0f1-4e024d00d463_6\", \"run_number\": 108, \"metric\": null, \"status\": \"Completed\", \"run_type\": null, \"training_percent\": \"100\", \"start_time\": \"2021-04-20T00:58:33.526648Z\", \"end_time\": \"2021-04-20T00:59:00.851037Z\", \"created_time\": \"2021-04-20T00:58:33.329095Z\", \"created_time_dt\": \"2021-04-20T00:58:33.329095Z\", \"duration\": \"0:00:27\", \"iteration\": \"6\", \"goal\": \"accuracy_max\", \"run_name\": \"MinMaxScaler, LightGBM\", \"run_properties\": \"copy=True, feature_range=(0, 1\", \"primary_metric\": 0.95014642, \"best_metric\": 0.99987692}, {\"run_id\": \"AutoML_0f0242a2-125f-4e57-b0f1-4e024d00d463_7\", \"run_number\": 109, \"metric\": null, \"status\": \"Completed\", \"run_type\": null, \"training_percent\": \"100\", \"start_time\": \"2021-04-20T00:59:02.211828Z\", \"end_time\": \"2021-04-20T00:59:26.437702Z\", \"created_time\": \"2021-04-20T00:59:02.074881Z\", \"created_time_dt\": \"2021-04-20T00:59:02.074881Z\", \"duration\": \"0:00:24\", \"iteration\": \"7\", \"goal\": \"accuracy_max\", \"run_name\": \"MaxAbsScaler, LightGBM\", \"run_properties\": \"copy=True\", \"primary_metric\": 0.99335316, \"best_metric\": 0.99987692}, {\"run_id\": \"AutoML_0f0242a2-125f-4e57-b0f1-4e024d00d463_8\", \"run_number\": 110, \"metric\": null, \"status\": \"Completed\", \"run_type\": null, \"training_percent\": \"100\", \"start_time\": \"2021-04-20T00:59:27.703437Z\", \"end_time\": \"2021-04-20T00:59:53.846973Z\", \"created_time\": \"2021-04-20T00:59:27.580693Z\", \"created_time_dt\": \"2021-04-20T00:59:27.580693Z\", \"duration\": \"0:00:26\", \"iteration\": \"8\", \"goal\": \"accuracy_max\", \"run_name\": \"StandardScalerWrapper, LightGBM\", \"run_properties\": \"<azureml.automl.runtime.shared.model_wrappers.StandardScalerWrapper object at 0x7f5f0b26bc88\", \"primary_metric\": 0.97858249, \"best_metric\": 0.99987692}, {\"run_id\": \"AutoML_0f0242a2-125f-4e57-b0f1-4e024d00d463_9\", \"run_number\": 111, \"metric\": null, \"status\": \"Completed\", \"run_type\": null, \"training_percent\": \"100\", \"start_time\": \"2021-04-20T00:59:55.208582Z\", \"end_time\": \"2021-04-20T01:01:08.44325Z\", \"created_time\": \"2021-04-20T00:59:55.090526Z\", \"created_time_dt\": \"2021-04-20T00:59:55.090526Z\", \"duration\": \"0:01:13\", \"iteration\": \"9\", \"goal\": \"accuracy_max\", \"run_name\": \"MaxAbsScaler, LightGBM\", \"run_properties\": \"copy=True\", \"primary_metric\": 0.99778416, \"best_metric\": 0.99987692}, {\"run_id\": \"AutoML_0f0242a2-125f-4e57-b0f1-4e024d00d463_10\", \"run_number\": 112, \"metric\": null, \"status\": \"Completed\", \"run_type\": null, \"training_percent\": \"100\", \"start_time\": \"2021-04-20T01:01:09.782236Z\", \"end_time\": \"2021-04-20T01:01:40.731311Z\", \"created_time\": \"2021-04-20T01:01:09.658987Z\", \"created_time_dt\": \"2021-04-20T01:01:09.658987Z\", \"duration\": \"0:00:31\", \"iteration\": \"10\", \"goal\": \"accuracy_max\", \"run_name\": \"StandardScalerWrapper, LogisticRegression\", \"run_properties\": \"<azureml.automl.runtime.shared.model_wrappers.StandardScalerWrapper object at 0x7f5f5e269e80\", \"primary_metric\": 0.9778435, \"best_metric\": 0.99987692}, {\"run_id\": \"AutoML_0f0242a2-125f-4e57-b0f1-4e024d00d463_11\", \"run_number\": 113, \"metric\": null, \"status\": \"Completed\", \"run_type\": null, \"training_percent\": \"100\", \"start_time\": \"2021-04-20T01:01:42.076025Z\", \"end_time\": \"2021-04-20T01:02:11.871335Z\", \"created_time\": \"2021-04-20T01:01:41.951015Z\", \"created_time_dt\": \"2021-04-20T01:01:41.951015Z\", \"duration\": \"0:00:29\", \"iteration\": \"11\", \"goal\": \"accuracy_max\", \"run_name\": \"RobustScaler, ExtremeRandomTrees\", \"run_properties\": \"copy=True, quantile_range=[25, 75], with_centering=True,\\n             with_scaling=True\", \"primary_metric\": 0.93709973, \"best_metric\": 0.99987692}, {\"run_id\": \"AutoML_0f0242a2-125f-4e57-b0f1-4e024d00d463_12\", \"run_number\": 114, \"metric\": null, \"status\": \"Failed\", \"run_type\": null, \"training_percent\": \"100\", \"start_time\": \"2021-04-20T01:02:13.270388Z\", \"end_time\": \"2021-04-20T01:02:22.872085Z\", \"created_time\": \"2021-04-20T01:02:13.093249Z\", \"created_time_dt\": \"2021-04-20T01:02:13.093249Z\", \"duration\": \"0:00:09\", \"iteration\": \"12\", \"goal\": \"accuracy_max\", \"run_name\": \"SparseNormalizer, XGBoostClassifier\", \"run_properties\": \"\"}, {\"run_id\": \"AutoML_0f0242a2-125f-4e57-b0f1-4e024d00d463_13\", \"run_number\": 115, \"metric\": null, \"status\": \"Completed\", \"run_type\": null, \"training_percent\": \"100\", \"start_time\": \"2021-04-20T01:02:24.230423Z\", \"end_time\": \"2021-04-20T01:02:56.021013Z\", \"created_time\": \"2021-04-20T01:02:24.111184Z\", \"created_time_dt\": \"2021-04-20T01:02:24.111184Z\", \"duration\": \"0:00:31\", \"iteration\": \"13\", \"goal\": \"accuracy_max\", \"run_name\": \"MinMaxScaler, LogisticRegression\", \"run_properties\": \"copy=True, feature_range=(0, 1\", \"primary_metric\": 0.96282622, \"best_metric\": 0.99987692}, {\"run_id\": \"AutoML_0f0242a2-125f-4e57-b0f1-4e024d00d463_14\", \"run_number\": 116, \"metric\": null, \"status\": \"Completed\", \"run_type\": null, \"training_percent\": \"100\", \"start_time\": \"2021-04-20T01:02:57.598896Z\", \"end_time\": \"2021-04-20T01:03:48.332034Z\", \"created_time\": \"2021-04-20T01:02:57.472345Z\", \"created_time_dt\": \"2021-04-20T01:02:57.472345Z\", \"duration\": \"0:00:50\", \"iteration\": \"14\", \"goal\": \"accuracy_max\", \"run_name\": \"StandardScalerWrapper, LightGBM\", \"run_properties\": \"<azureml.automl.runtime.shared.model_wrappers.StandardScalerWrapper object at 0x7f5ef0721f98\", \"primary_metric\": 0.99495294, \"best_metric\": 0.99987692}, {\"run_id\": \"AutoML_0f0242a2-125f-4e57-b0f1-4e024d00d463_15\", \"run_number\": 117, \"metric\": null, \"status\": \"Completed\", \"run_type\": null, \"training_percent\": \"100\", \"start_time\": \"2021-04-20T01:03:50.963411Z\", \"end_time\": \"2021-04-20T01:04:24.798897Z\", \"created_time\": \"2021-04-20T01:03:50.572518Z\", \"created_time_dt\": \"2021-04-20T01:03:50.572518Z\", \"duration\": \"0:00:34\", \"iteration\": \"15\", \"goal\": \"accuracy_max\", \"run_name\": \"SparseNormalizer, LightGBM\", \"run_properties\": \"<azureml.automl.runtime.shared.model_wrappers.SparseNormalizer object at 0x7f5ee123d668\", \"primary_metric\": 0.97476658, \"best_metric\": 0.99987692}, {\"run_id\": \"AutoML_0f0242a2-125f-4e57-b0f1-4e024d00d463_16\", \"run_number\": 118, \"metric\": null, \"status\": \"Completed\", \"run_type\": null, \"training_percent\": \"100\", \"start_time\": \"2021-04-20T01:04:27.450366Z\", \"end_time\": \"2021-04-20T01:04:55.991656Z\", \"created_time\": \"2021-04-20T01:04:26.993972Z\", \"created_time_dt\": \"2021-04-20T01:04:26.993972Z\", \"duration\": \"0:00:28\", \"iteration\": \"16\", \"goal\": \"accuracy_max\", \"run_name\": \"StandardScalerWrapper, LogisticRegression\", \"run_properties\": \"<azureml.automl.runtime.shared.model_wrappers.StandardScalerWrapper object at 0x7f5ef9b2dfd0\", \"primary_metric\": 0.97316582, \"best_metric\": 0.99987692}, {\"run_id\": \"AutoML_0f0242a2-125f-4e57-b0f1-4e024d00d463_17\", \"run_number\": 119, \"metric\": null, \"status\": \"Failed\", \"run_type\": null, \"training_percent\": \"100\", \"start_time\": \"2021-04-20T01:04:57.979115Z\", \"end_time\": \"2021-04-20T01:05:06.11678Z\", \"created_time\": \"2021-04-20T01:04:57.837412Z\", \"created_time_dt\": \"2021-04-20T01:04:57.837412Z\", \"duration\": \"0:00:08\", \"iteration\": \"17\", \"goal\": \"accuracy_max\", \"run_name\": \"SparseNormalizer, XGBoostClassifier\", \"run_properties\": \"\"}, {\"run_id\": \"AutoML_0f0242a2-125f-4e57-b0f1-4e024d00d463_18\", \"run_number\": 120, \"metric\": null, \"status\": \"Completed\", \"run_type\": null, \"training_percent\": \"100\", \"start_time\": \"2021-04-20T01:05:07.452065Z\", \"end_time\": \"2021-04-20T01:05:33.333686Z\", \"created_time\": \"2021-04-20T01:05:07.326119Z\", \"created_time_dt\": \"2021-04-20T01:05:07.326119Z\", \"duration\": \"0:00:26\", \"iteration\": \"18\", \"goal\": \"accuracy_max\", \"run_name\": \"SparseNormalizer, LightGBM\", \"run_properties\": \"<azureml.automl.runtime.shared.model_wrappers.SparseNormalizer object at 0x7f5f03310eb8\", \"primary_metric\": 0.97279667, \"best_metric\": 0.99987692}, {\"run_id\": \"AutoML_0f0242a2-125f-4e57-b0f1-4e024d00d463_19\", \"run_number\": 121, \"metric\": null, \"status\": \"Completed\", \"run_type\": null, \"training_percent\": \"100\", \"start_time\": \"2021-04-20T01:05:34.702516Z\", \"end_time\": \"2021-04-20T01:06:03.981443Z\", \"created_time\": \"2021-04-20T01:05:34.566694Z\", \"created_time_dt\": \"2021-04-20T01:05:34.566694Z\", \"duration\": \"0:00:29\", \"iteration\": \"19\", \"goal\": \"accuracy_max\", \"run_name\": \"MinMaxScaler, LightGBM\", \"run_properties\": \"copy=True, feature_range=(0, 1\", \"primary_metric\": 0.97525881, \"best_metric\": 0.99987692}, {\"run_id\": \"AutoML_0f0242a2-125f-4e57-b0f1-4e024d00d463_20\", \"run_number\": 122, \"metric\": null, \"status\": \"Completed\", \"run_type\": null, \"training_percent\": \"100\", \"start_time\": \"2021-04-20T01:06:05.375301Z\", \"end_time\": \"2021-04-20T01:06:31.764109Z\", \"created_time\": \"2021-04-20T01:06:05.246705Z\", \"created_time_dt\": \"2021-04-20T01:06:05.246705Z\", \"duration\": \"0:00:26\", \"iteration\": \"20\", \"goal\": \"accuracy_max\", \"run_name\": \"StandardScalerWrapper, RandomForest\", \"run_properties\": \"<azureml.automl.runtime.shared.model_wrappers.StandardScalerWrapper object at 0x7f5ef514a9e8\", \"primary_metric\": 0.92281842, \"best_metric\": 0.99987692}, {\"run_id\": \"AutoML_0f0242a2-125f-4e57-b0f1-4e024d00d463_21\", \"run_number\": 123, \"metric\": null, \"status\": \"Completed\", \"run_type\": null, \"training_percent\": \"100\", \"start_time\": \"2021-04-20T01:06:33.073986Z\", \"end_time\": \"2021-04-20T01:06:59.483385Z\", \"created_time\": \"2021-04-20T01:06:32.930824Z\", \"created_time_dt\": \"2021-04-20T01:06:32.930824Z\", \"duration\": \"0:00:26\", \"iteration\": \"21\", \"goal\": \"accuracy_max\", \"run_name\": \"StandardScalerWrapper, LightGBM\", \"run_properties\": \"<azureml.automl.runtime.shared.model_wrappers.StandardScalerWrapper object at 0x7f5f5e020e80\", \"primary_metric\": 0.99483016, \"best_metric\": 0.99987692}, {\"run_id\": \"AutoML_0f0242a2-125f-4e57-b0f1-4e024d00d463_22\", \"run_number\": 124, \"metric\": null, \"status\": \"Completed\", \"run_type\": null, \"training_percent\": \"100\", \"start_time\": \"2021-04-20T01:07:00.876412Z\", \"end_time\": \"2021-04-20T01:07:26.630287Z\", \"created_time\": \"2021-04-20T01:07:00.711479Z\", \"created_time_dt\": \"2021-04-20T01:07:00.711479Z\", \"duration\": \"0:00:25\", \"iteration\": \"22\", \"goal\": \"accuracy_max\", \"run_name\": \"MinMaxScaler, LightGBM\", \"run_properties\": \"copy=True, feature_range=(0, 1\", \"primary_metric\": 0.9527321, \"best_metric\": 0.99987692}, {\"run_id\": \"AutoML_0f0242a2-125f-4e57-b0f1-4e024d00d463_23\", \"run_number\": 125, \"metric\": null, \"status\": \"Failed\", \"run_type\": null, \"training_percent\": \"100\", \"start_time\": \"2021-04-20T01:07:27.919708Z\", \"end_time\": \"2021-04-20T01:07:36.572826Z\", \"created_time\": \"2021-04-20T01:07:27.795895Z\", \"created_time_dt\": \"2021-04-20T01:07:27.795895Z\", \"duration\": \"0:00:08\", \"iteration\": \"23\", \"goal\": \"accuracy_max\", \"run_name\": \"SparseNormalizer, XGBoostClassifier\", \"run_properties\": \"\"}, {\"run_id\": \"AutoML_0f0242a2-125f-4e57-b0f1-4e024d00d463_24\", \"run_number\": 126, \"metric\": null, \"status\": \"Completed\", \"run_type\": null, \"training_percent\": \"100\", \"start_time\": \"2021-04-20T01:07:37.936908Z\", \"end_time\": \"2021-04-20T01:08:12.285674Z\", \"created_time\": \"2021-04-20T01:07:37.799606Z\", \"created_time_dt\": \"2021-04-20T01:07:37.799606Z\", \"duration\": \"0:00:34\", \"iteration\": \"24\", \"goal\": \"accuracy_max\", \"run_name\": \"MinMaxScaler, LightGBM\", \"run_properties\": \"copy=True, feature_range=(0, 1\", \"primary_metric\": 0.98301326, \"best_metric\": 0.99987692}, {\"run_id\": \"AutoML_0f0242a2-125f-4e57-b0f1-4e024d00d463_25\", \"run_number\": 127, \"metric\": null, \"status\": \"Completed\", \"run_type\": null, \"training_percent\": \"100\", \"start_time\": \"2021-04-20T01:08:15.956697Z\", \"end_time\": \"2021-04-20T01:08:50.709285Z\", \"created_time\": \"2021-04-20T01:08:15.576891Z\", \"created_time_dt\": \"2021-04-20T01:08:15.576891Z\", \"duration\": \"0:00:35\", \"iteration\": \"25\", \"goal\": \"accuracy_max\", \"run_name\": \"SparseNormalizer, LightGBM\", \"run_properties\": \"<azureml.automl.runtime.shared.model_wrappers.SparseNormalizer object at 0x7f5f0363fc50\", \"primary_metric\": 0.97747404, \"best_metric\": 0.99987692}, {\"run_id\": \"AutoML_0f0242a2-125f-4e57-b0f1-4e024d00d463_26\", \"run_number\": 128, \"metric\": null, \"status\": \"Completed\", \"run_type\": null, \"training_percent\": \"100\", \"start_time\": \"2021-04-20T01:08:52.630639Z\", \"end_time\": \"2021-04-20T01:09:19.933105Z\", \"created_time\": \"2021-04-20T01:08:52.485628Z\", \"created_time_dt\": \"2021-04-20T01:08:52.485628Z\", \"duration\": \"0:00:27\", \"iteration\": \"26\", \"goal\": \"accuracy_max\", \"run_name\": \"StandardScalerWrapper, LightGBM\", \"run_properties\": \"<azureml.automl.runtime.shared.model_wrappers.StandardScalerWrapper object at 0x7f5f03625f60\", \"primary_metric\": 0.94547018, \"best_metric\": 0.99987692}, {\"run_id\": \"AutoML_0f0242a2-125f-4e57-b0f1-4e024d00d463_27\", \"run_number\": 129, \"metric\": null, \"status\": \"Completed\", \"run_type\": null, \"training_percent\": \"100\", \"start_time\": \"2021-04-20T01:09:21.199712Z\", \"end_time\": \"2021-04-20T01:09:49.058221Z\", \"created_time\": \"2021-04-20T01:09:21.075625Z\", \"created_time_dt\": \"2021-04-20T01:09:21.075625Z\", \"duration\": \"0:00:27\", \"iteration\": \"27\", \"goal\": \"accuracy_max\", \"run_name\": \"StandardScalerWrapper, LogisticRegression\", \"run_properties\": \"<azureml.automl.runtime.shared.model_wrappers.StandardScalerWrapper object at 0x7f5f069086a0\", \"primary_metric\": 0.96442637, \"best_metric\": 0.99987692}, {\"run_id\": \"AutoML_0f0242a2-125f-4e57-b0f1-4e024d00d463_28\", \"run_number\": 130, \"metric\": null, \"status\": \"Completed\", \"run_type\": null, \"training_percent\": \"100\", \"start_time\": \"2021-04-20T01:09:50.467685Z\", \"end_time\": \"2021-04-20T01:10:19.377545Z\", \"created_time\": \"2021-04-20T01:09:50.3482Z\", \"created_time_dt\": \"2021-04-20T01:09:50.3482Z\", \"duration\": \"0:00:29\", \"iteration\": \"28\", \"goal\": \"accuracy_max\", \"run_name\": \"StandardScalerWrapper, LogisticRegression\", \"run_properties\": \"<azureml.automl.runtime.shared.model_wrappers.StandardScalerWrapper object at 0x7f5ee6c349e8\", \"primary_metric\": 0.99224577, \"best_metric\": 0.99987692}, {\"run_id\": \"AutoML_0f0242a2-125f-4e57-b0f1-4e024d00d463_29\", \"run_number\": 131, \"metric\": null, \"status\": \"Completed\", \"run_type\": null, \"training_percent\": \"100\", \"start_time\": \"2021-04-20T01:10:20.921592Z\", \"end_time\": \"2021-04-20T01:10:47.205426Z\", \"created_time\": \"2021-04-20T01:10:20.80354Z\", \"created_time_dt\": \"2021-04-20T01:10:20.80354Z\", \"duration\": \"0:00:26\", \"iteration\": \"29\", \"goal\": \"accuracy_max\", \"run_name\": \"StandardScalerWrapper, LightGBM\", \"run_properties\": \"<azureml.automl.runtime.shared.model_wrappers.StandardScalerWrapper object at 0x7f5f0607ab38\", \"primary_metric\": 0.97784365, \"best_metric\": 0.99987692}, {\"run_id\": \"AutoML_0f0242a2-125f-4e57-b0f1-4e024d00d463_30\", \"run_number\": 132, \"metric\": null, \"status\": \"Completed\", \"run_type\": null, \"training_percent\": \"100\", \"start_time\": \"2021-04-20T01:10:49.486754Z\", \"end_time\": \"2021-04-20T01:11:15.963529Z\", \"created_time\": \"2021-04-20T01:10:49.356558Z\", \"created_time_dt\": \"2021-04-20T01:10:49.356558Z\", \"duration\": \"0:00:26\", \"iteration\": \"30\", \"goal\": \"accuracy_max\", \"run_name\": \"SparseNormalizer, LightGBM\", \"run_properties\": \"<azureml.automl.runtime.shared.model_wrappers.SparseNormalizer object at 0x7f5f05f4dcc0\", \"primary_metric\": 0.51796969, \"best_metric\": 0.99987692}, {\"run_id\": \"AutoML_0f0242a2-125f-4e57-b0f1-4e024d00d463_31\", \"run_number\": 133, \"metric\": null, \"status\": \"Completed\", \"run_type\": null, \"training_percent\": \"100\", \"start_time\": \"2021-04-20T01:11:16.379557Z\", \"end_time\": \"2021-04-20T01:11:49.940802Z\", \"created_time\": \"2021-04-20T01:11:16.252079Z\", \"created_time_dt\": \"2021-04-20T01:11:16.252079Z\", \"duration\": \"0:00:33\", \"iteration\": \"31\", \"goal\": \"accuracy_max\", \"run_name\": \"VotingEnsemble\", \"run_properties\": \"classification_labels=None,\\n                              estimators=[('0',\\n                                           Pipeline(memory=None,\\n                                                    steps=[('maxabsscaler',\\n                                                            MaxAbsScaler(copy=True\", \"primary_metric\": 1.0, \"best_metric\": 1.0}, {\"run_id\": \"AutoML_0f0242a2-125f-4e57-b0f1-4e024d00d463_32\", \"run_number\": 134, \"metric\": null, \"status\": \"Completed\", \"run_type\": null, \"training_percent\": \"100\", \"start_time\": \"2021-04-20T01:11:50.798781Z\", \"end_time\": \"2021-04-20T01:12:30.971615Z\", \"created_time\": \"2021-04-20T01:11:50.558868Z\", \"created_time_dt\": \"2021-04-20T01:11:50.558868Z\", \"duration\": \"0:00:40\", \"iteration\": \"32\", \"goal\": \"accuracy_max\", \"run_name\": \"StackEnsemble\", \"run_properties\": \"base_learners=[('0',\\n                                        Pipeline(memory=None,\\n                                                 steps=[('maxabsscaler',\\n                                                         MaxAbsScaler(copy=True\", \"primary_metric\": 0.99975385, \"best_metric\": 1.0}], \"children_metrics\": {\"categories\": [0], \"series\": {\"f1_score_micro\": [{\"categories\": [\"0\", \"2\", \"3\", \"4\", \"6\", \"7\", \"8\", \"9\", \"10\", \"11\", \"13\", \"14\", \"15\", \"16\", \"18\", \"19\", \"20\", \"21\", \"22\", \"24\", \"25\", \"26\", \"27\", \"28\", \"29\", \"30\", \"31\", \"32\"], \"mode\": \"markers\", \"name\": \"f1_score_micro\", \"stepped\": false, \"type\": \"scatter\", \"data\": [0.9998769230769231, 0.9784593406593405, 0.9494062902614626, 0.9867056460780599, 0.9501464190981433, 0.9933531640773019, 0.9785824933687003, 0.9977841606669193, 0.97784350132626, 0.9370997347480106, 0.9628262220538082, 0.9949529367184539, 0.9747665782493369, 0.97316582038651, 0.972796665403562, 0.975258810155362, 0.9228184160666919, 0.9948301629405079, 0.9527320954907162, 0.9830132625994693, 0.9774740431981812, 0.9454701780977643, 0.9644263736263736, 0.9922457749147405, 0.9778436528988254, 0.5179696854869269, 1.0, 0.9997538461538461]}, {\"categories\": [\"0\", \"2\", \"3\", \"4\", \"6\", \"7\", \"8\", \"9\", \"10\", \"11\", \"13\", \"14\", \"15\", \"16\", \"18\", \"19\", \"20\", \"21\", \"22\", \"24\", \"25\", \"26\", \"27\", \"28\", \"29\", \"30\", \"31\", \"32\"], \"mode\": \"lines\", \"name\": \"f1_score_micro_max\", \"stepped\": true, \"type\": \"scatter\", \"data\": [0.9998769230769231, 0.9998769230769231, 0.9998769230769231, 0.9998769230769231, 0.9998769230769231, 0.9998769230769231, 0.9998769230769231, 0.9998769230769231, 0.9998769230769231, 0.9998769230769231, 0.9998769230769231, 0.9998769230769231, 0.9998769230769231, 0.9998769230769231, 0.9998769230769231, 0.9998769230769231, 0.9998769230769231, 0.9998769230769231, 0.9998769230769231, 0.9998769230769231, 0.9998769230769231, 0.9998769230769231, 0.9998769230769231, 0.9998769230769231, 0.9998769230769231, 0.9998769230769231, 1.0, 1.0]}], \"precision_score_micro\": [{\"categories\": [\"0\", \"2\", \"3\", \"4\", \"6\", \"7\", \"8\", \"9\", \"10\", \"11\", \"13\", \"14\", \"15\", \"16\", \"18\", \"19\", \"20\", \"21\", \"22\", \"24\", \"25\", \"26\", \"27\", \"28\", \"29\", \"30\", \"31\", \"32\"], \"mode\": \"markers\", \"name\": \"precision_score_micro\", \"stepped\": false, \"type\": \"scatter\", \"data\": [0.9998769230769231, 0.9784593406593405, 0.9494062902614626, 0.9867056460780599, 0.9501464190981433, 0.9933531640773019, 0.9785824933687003, 0.9977841606669193, 0.97784350132626, 0.9370997347480106, 0.9628262220538082, 0.9949529367184539, 0.9747665782493369, 0.97316582038651, 0.972796665403562, 0.975258810155362, 0.9228184160666919, 0.9948301629405079, 0.9527320954907162, 0.9830132625994693, 0.9774740431981812, 0.9454701780977643, 0.9644263736263736, 0.9922457749147405, 0.9778436528988254, 0.5179696854869269, 1.0, 0.9997538461538461]}, {\"categories\": [\"0\", \"2\", \"3\", \"4\", \"6\", \"7\", \"8\", \"9\", \"10\", \"11\", \"13\", \"14\", \"15\", \"16\", \"18\", \"19\", \"20\", \"21\", \"22\", \"24\", \"25\", \"26\", \"27\", \"28\", \"29\", \"30\", \"31\", \"32\"], \"mode\": \"lines\", \"name\": \"precision_score_micro_max\", \"stepped\": true, \"type\": \"scatter\", \"data\": [0.9998769230769231, 0.9998769230769231, 0.9998769230769231, 0.9998769230769231, 0.9998769230769231, 0.9998769230769231, 0.9998769230769231, 0.9998769230769231, 0.9998769230769231, 0.9998769230769231, 0.9998769230769231, 0.9998769230769231, 0.9998769230769231, 0.9998769230769231, 0.9998769230769231, 0.9998769230769231, 0.9998769230769231, 0.9998769230769231, 0.9998769230769231, 0.9998769230769231, 0.9998769230769231, 0.9998769230769231, 0.9998769230769231, 0.9998769230769231, 0.9998769230769231, 0.9998769230769231, 1.0, 1.0]}], \"precision_score_macro\": [{\"categories\": [\"0\", \"2\", \"3\", \"4\", \"6\", \"7\", \"8\", \"9\", \"10\", \"11\", \"13\", \"14\", \"15\", \"16\", \"18\", \"19\", \"20\", \"21\", \"22\", \"24\", \"25\", \"26\", \"27\", \"28\", \"29\", \"30\", \"31\", \"32\"], \"mode\": \"markers\", \"name\": \"precision_score_macro\", \"stepped\": false, \"type\": \"scatter\", \"data\": [0.9998654104979812, 0.9790611407964545, 0.9514584526991147, 0.9872486240095573, 0.9542236581965081, 0.9937165695145062, 0.9792859165544782, 0.9978283761127174, 0.9780353433629019, 0.9377760350188712, 0.9632237125323048, 0.995117351823436, 0.9749704650644206, 0.9734445243392941, 0.9731857403455366, 0.9753327064244965, 0.9299417960205277, 0.9950876506785242, 0.9546928564234364, 0.9830417251527951, 0.9780853151783134, 0.9498607952145711, 0.9647817991791936, 0.9923508842117601, 0.9789862781265593, 0.25898484274346345, 1.0, 0.999774011299435]}, {\"categories\": [\"0\", \"2\", \"3\", \"4\", \"6\", \"7\", \"8\", \"9\", \"10\", \"11\", \"13\", \"14\", \"15\", \"16\", \"18\", \"19\", \"20\", \"21\", \"22\", \"24\", \"25\", \"26\", \"27\", \"28\", \"29\", \"30\", \"31\", \"32\"], \"mode\": \"lines\", \"name\": \"precision_score_macro_max\", \"stepped\": true, \"type\": \"scatter\", \"data\": [0.9998654104979812, 0.9998654104979812, 0.9998654104979812, 0.9998654104979812, 0.9998654104979812, 0.9998654104979812, 0.9998654104979812, 0.9998654104979812, 0.9998654104979812, 0.9998654104979812, 0.9998654104979812, 0.9998654104979812, 0.9998654104979812, 0.9998654104979812, 0.9998654104979812, 0.9998654104979812, 0.9998654104979812, 0.9998654104979812, 0.9998654104979812, 0.9998654104979812, 0.9998654104979812, 0.9998654104979812, 0.9998654104979812, 0.9998654104979812, 0.9998654104979812, 0.9998654104979812, 1.0, 1.0]}], \"recall_score_micro\": [{\"categories\": [\"0\", \"2\", \"3\", \"4\", \"6\", \"7\", \"8\", \"9\", \"10\", \"11\", \"13\", \"14\", \"15\", \"16\", \"18\", \"19\", \"20\", \"21\", \"22\", \"24\", \"25\", \"26\", \"27\", \"28\", \"29\", \"30\", \"31\", \"32\"], \"mode\": \"markers\", \"name\": \"recall_score_micro\", \"stepped\": false, \"type\": \"scatter\", \"data\": [0.9998769230769231, 0.9784593406593405, 0.9494062902614626, 0.9867056460780599, 0.9501464190981433, 0.9933531640773019, 0.9785824933687003, 0.9977841606669193, 0.97784350132626, 0.9370997347480106, 0.9628262220538082, 0.9949529367184539, 0.9747665782493369, 0.97316582038651, 0.972796665403562, 0.975258810155362, 0.9228184160666919, 0.9948301629405079, 0.9527320954907162, 0.9830132625994693, 0.9774740431981812, 0.9454701780977643, 0.9644263736263736, 0.9922457749147405, 0.9778436528988254, 0.5179696854869269, 1.0, 0.9997538461538461]}, {\"categories\": [\"0\", \"2\", \"3\", \"4\", \"6\", \"7\", \"8\", \"9\", \"10\", \"11\", \"13\", \"14\", \"15\", \"16\", \"18\", \"19\", \"20\", \"21\", \"22\", \"24\", \"25\", \"26\", \"27\", \"28\", \"29\", \"30\", \"31\", \"32\"], \"mode\": \"lines\", \"name\": \"recall_score_micro_max\", \"stepped\": true, \"type\": \"scatter\", \"data\": [0.9998769230769231, 0.9998769230769231, 0.9998769230769231, 0.9998769230769231, 0.9998769230769231, 0.9998769230769231, 0.9998769230769231, 0.9998769230769231, 0.9998769230769231, 0.9998769230769231, 0.9998769230769231, 0.9998769230769231, 0.9998769230769231, 0.9998769230769231, 0.9998769230769231, 0.9998769230769231, 0.9998769230769231, 0.9998769230769231, 0.9998769230769231, 0.9998769230769231, 0.9998769230769231, 0.9998769230769231, 0.9998769230769231, 0.9998769230769231, 0.9998769230769231, 0.9998769230769231, 1.0, 1.0]}], \"recall_score_macro\": [{\"categories\": [\"0\", \"2\", \"3\", \"4\", \"6\", \"7\", \"8\", \"9\", \"10\", \"11\", \"13\", \"14\", \"15\", \"16\", \"18\", \"19\", \"20\", \"21\", \"22\", \"24\", \"25\", \"26\", \"27\", \"28\", \"29\", \"30\", \"31\", \"32\"], \"mode\": \"markers\", \"name\": \"recall_score_macro\", \"stepped\": false, \"type\": \"scatter\", \"data\": [0.9998867497168742, 0.9781433756185788, 0.9487587264343518, 0.9862754770601679, 0.948685133065631, 0.9930428474842421, 0.978073204758622, 0.9977405890816646, 0.9776089382286214, 0.9370656407017701, 0.9624332803354096, 0.9947980312380201, 0.9744871194609857, 0.9728805497023781, 0.9723957597698776, 0.9750934830733973, 0.920663265656686, 0.9945957960490299, 0.9517299417774675, 0.9829475016050615, 0.9769752095998072, 0.9438780517202527, 0.9640843038792575, 0.9921390849773287, 0.9770999630250315, 0.5, 1.0, 0.9997304582210242]}, {\"categories\": [\"0\", \"2\", \"3\", \"4\", \"6\", \"7\", \"8\", \"9\", \"10\", \"11\", \"13\", \"14\", \"15\", \"16\", \"18\", \"19\", \"20\", \"21\", \"22\", \"24\", \"25\", \"26\", \"27\", \"28\", \"29\", \"30\", \"31\", \"32\"], \"mode\": \"lines\", \"name\": \"recall_score_macro_max\", \"stepped\": true, \"type\": \"scatter\", \"data\": [0.9998867497168742, 0.9998867497168742, 0.9998867497168742, 0.9998867497168742, 0.9998867497168742, 0.9998867497168742, 0.9998867497168742, 0.9998867497168742, 0.9998867497168742, 0.9998867497168742, 0.9998867497168742, 0.9998867497168742, 0.9998867497168742, 0.9998867497168742, 0.9998867497168742, 0.9998867497168742, 0.9998867497168742, 0.9998867497168742, 0.9998867497168742, 0.9998867497168742, 0.9998867497168742, 0.9998867497168742, 0.9998867497168742, 0.9998867497168742, 0.9998867497168742, 0.9998867497168742, 1.0, 1.0]}], \"average_precision_score_weighted\": [{\"categories\": [\"0\", \"2\", \"3\", \"4\", \"6\", \"7\", \"8\", \"9\", \"10\", \"11\", \"13\", \"14\", \"15\", \"16\", \"18\", \"19\", \"20\", \"21\", \"22\", \"24\", \"25\", \"26\", \"27\", \"28\", \"29\", \"30\", \"31\", \"32\"], \"mode\": \"markers\", \"name\": \"average_precision_score_weighted\", \"stepped\": false, \"type\": \"scatter\", \"data\": [1.0, 0.9982052614985981, 0.993139265749275, 0.9994207373444792, 0.9941200836581515, 0.9999939274808533, 0.9986349154160126, 0.9999857632456844, 0.9980726281892119, 0.9869108860145376, 0.992587828917153, 0.9998450225291595, 0.997822568868064, 0.9971572365147547, 0.9981231233846455, 0.9982071693031772, 0.9923723423316604, 0.9999996970248036, 0.9927159641075429, 0.999131985556539, 0.998784806533562, 0.9951133602772139, 0.9953491260677565, 0.9995220402407773, 0.9977423450769539, 0.9893842930627109, 1.0, 1.0]}, {\"categories\": [\"0\", \"2\", \"3\", \"4\", \"6\", \"7\", \"8\", \"9\", \"10\", \"11\", \"13\", \"14\", \"15\", \"16\", \"18\", \"19\", \"20\", \"21\", \"22\", \"24\", \"25\", \"26\", \"27\", \"28\", \"29\", \"30\", \"31\", \"32\"], \"mode\": \"lines\", \"name\": \"average_precision_score_weighted_max\", \"stepped\": true, \"type\": \"scatter\", \"data\": [1.0, 1.0, 1.0, 1.0, 1.0, 1.0, 1.0, 1.0, 1.0, 1.0, 1.0, 1.0, 1.0, 1.0, 1.0, 1.0, 1.0, 1.0, 1.0, 1.0, 1.0, 1.0, 1.0, 1.0, 1.0, 1.0, 1.0, 1.0]}], \"matthews_correlation\": [{\"categories\": [\"0\", \"2\", \"3\", \"4\", \"6\", \"7\", \"8\", \"9\", \"10\", \"11\", \"13\", \"14\", \"15\", \"16\", \"18\", \"19\", \"20\", \"21\", \"22\", \"24\", \"25\", \"26\", \"27\", \"28\", \"29\", \"30\", \"31\", \"32\"], \"mode\": \"markers\", \"name\": \"matthews_correlation\", \"stepped\": false, \"type\": \"scatter\", \"data\": [0.9997521590750373, 0.9572032307998033, 0.9002090449251847, 0.9735231750960166, 0.90289012532537, 0.9867590217579423, 0.9573581547623691, 0.9955689531796847, 0.9556441096032854, 0.8748365272180061, 0.925656394705786, 0.9899152854333929, 0.9494573953150759, 0.9463247500450575, 0.9455810066767054, 0.9504260292116447, 0.8505425437039943, 0.9896832081356136, 0.9064153533488264, 0.9659891351181852, 0.9550592927985699, 0.8937144041716426, 0.9288655254766109, 0.9844899093730488, 0.956083107768196, 0.0, 1.0, 0.999504464766504]}, {\"categories\": [\"0\", \"2\", \"3\", \"4\", \"6\", \"7\", \"8\", \"9\", \"10\", \"11\", \"13\", \"14\", \"15\", \"16\", \"18\", \"19\", \"20\", \"21\", \"22\", \"24\", \"25\", \"26\", \"27\", \"28\", \"29\", \"30\", \"31\", \"32\"], \"mode\": \"lines\", \"name\": \"matthews_correlation_max\", \"stepped\": true, \"type\": \"scatter\", \"data\": [0.9997521590750373, 0.9997521590750373, 0.9997521590750373, 0.9997521590750373, 0.9997521590750373, 0.9997521590750373, 0.9997521590750373, 0.9997521590750373, 0.9997521590750373, 0.9997521590750373, 0.9997521590750373, 0.9997521590750373, 0.9997521590750373, 0.9997521590750373, 0.9997521590750373, 0.9997521590750373, 0.9997521590750373, 0.9997521590750373, 0.9997521590750373, 0.9997521590750373, 0.9997521590750373, 0.9997521590750373, 0.9997521590750373, 0.9997521590750373, 0.9997521590750373, 0.9997521590750373, 1.0, 1.0]}], \"norm_macro_recall\": [{\"categories\": [\"0\", \"2\", \"3\", \"4\", \"6\", \"7\", \"8\", \"9\", \"10\", \"11\", \"13\", \"14\", \"15\", \"16\", \"18\", \"19\", \"20\", \"21\", \"22\", \"24\", \"25\", \"26\", \"27\", \"28\", \"29\", \"30\", \"31\", \"32\"], \"mode\": \"markers\", \"name\": \"norm_macro_recall\", \"stepped\": false, \"type\": \"scatter\", \"data\": [0.9997734994337485, 0.9562867512371576, 0.8975174528687034, 0.9725509541203359, 0.8973702661312615, 0.9860856949684841, 0.9561464095172438, 0.9954811781633295, 0.9552178764572427, 0.8741312814035404, 0.9248665606708192, 0.9895960624760403, 0.9489742389219714, 0.9457610994047563, 0.9447915195397553, 0.9501869661467944, 0.8413265313133721, 0.9891915920980597, 0.903459883554935, 0.9658950032101231, 0.9539504191996144, 0.8877561034405053, 0.9281686077585152, 0.9842781699546574, 0.9541999260500631, 0.0, 1.0, 0.9994609164420485]}, {\"categories\": [\"0\", \"2\", \"3\", \"4\", \"6\", \"7\", \"8\", \"9\", \"10\", \"11\", \"13\", \"14\", \"15\", \"16\", \"18\", \"19\", \"20\", \"21\", \"22\", \"24\", \"25\", \"26\", \"27\", \"28\", \"29\", \"30\", \"31\", \"32\"], \"mode\": \"lines\", \"name\": \"norm_macro_recall_max\", \"stepped\": true, \"type\": \"scatter\", \"data\": [0.9997734994337485, 0.9997734994337485, 0.9997734994337485, 0.9997734994337485, 0.9997734994337485, 0.9997734994337485, 0.9997734994337485, 0.9997734994337485, 0.9997734994337485, 0.9997734994337485, 0.9997734994337485, 0.9997734994337485, 0.9997734994337485, 0.9997734994337485, 0.9997734994337485, 0.9997734994337485, 0.9997734994337485, 0.9997734994337485, 0.9997734994337485, 0.9997734994337485, 0.9997734994337485, 0.9997734994337485, 0.9997734994337485, 0.9997734994337485, 0.9997734994337485, 0.9997734994337485, 1.0, 1.0]}], \"AUC_micro\": [{\"categories\": [\"0\", \"2\", \"3\", \"4\", \"6\", \"7\", \"8\", \"9\", \"10\", \"11\", \"13\", \"14\", \"15\", \"16\", \"18\", \"19\", \"20\", \"21\", \"22\", \"24\", \"25\", \"26\", \"27\", \"28\", \"29\", \"30\", \"31\", \"32\"], \"mode\": \"markers\", \"name\": \"AUC_micro\", \"stepped\": false, \"type\": \"scatter\", \"data\": [0.999999924260355, 0.9976446788912515, 0.991507955938849, 0.9993607260929241, 0.9910772672411854, 0.9998919822969963, 0.9981839585059333, 0.9999818157673088, 0.998080803768666, 0.9872772577738159, 0.993165687975784, 0.9997800511146456, 0.9976918187144447, 0.9971427353526927, 0.9980509173992699, 0.9981551774175257, 0.9877059746515705, 0.9999324299732308, 0.9909352143297243, 0.9991078719823513, 0.9987325290447698, 0.9916879716503303, 0.9951641488129568, 0.9995243198306053, 0.9971768663378671, 0.7621147955148535, 1.0, 0.9999993940828402]}, {\"categories\": [\"0\", \"2\", \"3\", \"4\", \"6\", \"7\", \"8\", \"9\", \"10\", \"11\", \"13\", \"14\", \"15\", \"16\", \"18\", \"19\", \"20\", \"21\", \"22\", \"24\", \"25\", \"26\", \"27\", \"28\", \"29\", \"30\", \"31\", \"32\"], \"mode\": \"lines\", \"name\": \"AUC_micro_max\", \"stepped\": true, \"type\": \"scatter\", \"data\": [0.999999924260355, 0.999999924260355, 0.999999924260355, 0.999999924260355, 0.999999924260355, 0.999999924260355, 0.999999924260355, 0.999999924260355, 0.999999924260355, 0.999999924260355, 0.999999924260355, 0.999999924260355, 0.999999924260355, 0.999999924260355, 0.999999924260355, 0.999999924260355, 0.999999924260355, 0.999999924260355, 0.999999924260355, 0.999999924260355, 0.999999924260355, 0.999999924260355, 0.999999924260355, 0.999999924260355, 0.999999924260355, 0.999999924260355, 1.0, 1.0]}], \"accuracy\": [{\"categories\": [\"0\", \"2\", \"3\", \"4\", \"6\", \"7\", \"8\", \"9\", \"10\", \"11\", \"13\", \"14\", \"15\", \"16\", \"18\", \"19\", \"20\", \"21\", \"22\", \"24\", \"25\", \"26\", \"27\", \"28\", \"29\", \"30\", \"31\", \"32\"], \"mode\": \"markers\", \"name\": \"accuracy\", \"stepped\": false, \"type\": \"scatter\", \"data\": [0.9998769230769231, 0.9784593406593405, 0.9494062902614626, 0.9867056460780599, 0.9501464190981433, 0.9933531640773019, 0.9785824933687003, 0.9977841606669193, 0.97784350132626, 0.9370997347480106, 0.9628262220538082, 0.9949529367184539, 0.9747665782493369, 0.97316582038651, 0.972796665403562, 0.975258810155362, 0.9228184160666919, 0.9948301629405079, 0.9527320954907162, 0.9830132625994693, 0.9774740431981812, 0.9454701780977643, 0.9644263736263736, 0.9922457749147405, 0.9778436528988254, 0.5179696854869269, 1.0, 0.9997538461538461]}, {\"categories\": [\"0\", \"2\", \"3\", \"4\", \"6\", \"7\", \"8\", \"9\", \"10\", \"11\", \"13\", \"14\", \"15\", \"16\", \"18\", \"19\", \"20\", \"21\", \"22\", \"24\", \"25\", \"26\", \"27\", \"28\", \"29\", \"30\", \"31\", \"32\"], \"mode\": \"lines\", \"name\": \"accuracy_max\", \"stepped\": true, \"type\": \"scatter\", \"data\": [0.9998769230769231, 0.9998769230769231, 0.9998769230769231, 0.9998769230769231, 0.9998769230769231, 0.9998769230769231, 0.9998769230769231, 0.9998769230769231, 0.9998769230769231, 0.9998769230769231, 0.9998769230769231, 0.9998769230769231, 0.9998769230769231, 0.9998769230769231, 0.9998769230769231, 0.9998769230769231, 0.9998769230769231, 0.9998769230769231, 0.9998769230769231, 0.9998769230769231, 0.9998769230769231, 0.9998769230769231, 0.9998769230769231, 0.9998769230769231, 0.9998769230769231, 0.9998769230769231, 1.0, 1.0]}], \"f1_score_weighted\": [{\"categories\": [\"0\", \"2\", \"3\", \"4\", \"6\", \"7\", \"8\", \"9\", \"10\", \"11\", \"13\", \"14\", \"15\", \"16\", \"18\", \"19\", \"20\", \"21\", \"22\", \"24\", \"25\", \"26\", \"27\", \"28\", \"29\", \"30\", \"31\", \"32\"], \"mode\": \"markers\", \"name\": \"f1_score_weighted\", \"stepped\": false, \"type\": \"scatter\", \"data\": [0.9998769296509806, 0.978446266049095, 0.9493033719139448, 0.9866985415289674, 0.9499898103725011, 0.9933503329116551, 0.9785672945932591, 0.9977840797842383, 0.977837841680941, 0.9370574404108846, 0.9628085040079212, 0.9949519668024145, 0.9747596788288121, 0.9731569526698836, 0.9727848703699514, 0.9752560491327653, 0.9223546144393253, 0.9948285662653064, 0.9526481900167549, 0.9830130644081324, 0.9774612387291484, 0.9452795558946196, 0.9644109320809923, 0.992244570924405, 0.9778208081264124, 0.35360824228795656, 1.0, 0.9997538192854221]}, {\"categories\": [\"0\", \"2\", \"3\", \"4\", \"6\", \"7\", \"8\", \"9\", \"10\", \"11\", \"13\", \"14\", \"15\", \"16\", \"18\", \"19\", \"20\", \"21\", \"22\", \"24\", \"25\", \"26\", \"27\", \"28\", \"29\", \"30\", \"31\", \"32\"], \"mode\": \"lines\", \"name\": \"f1_score_weighted_max\", \"stepped\": true, \"type\": \"scatter\", \"data\": [0.9998769296509806, 0.9998769296509806, 0.9998769296509806, 0.9998769296509806, 0.9998769296509806, 0.9998769296509806, 0.9998769296509806, 0.9998769296509806, 0.9998769296509806, 0.9998769296509806, 0.9998769296509806, 0.9998769296509806, 0.9998769296509806, 0.9998769296509806, 0.9998769296509806, 0.9998769296509806, 0.9998769296509806, 0.9998769296509806, 0.9998769296509806, 0.9998769296509806, 0.9998769296509806, 0.9998769296509806, 0.9998769296509806, 0.9998769296509806, 0.9998769296509806, 0.9998769296509806, 1.0, 1.0]}], \"weighted_accuracy\": [{\"categories\": [\"0\", \"2\", \"3\", \"4\", \"6\", \"7\", \"8\", \"9\", \"10\", \"11\", \"13\", \"14\", \"15\", \"16\", \"18\", \"19\", \"20\", \"21\", \"22\", \"24\", \"25\", \"26\", \"27\", \"28\", \"29\", \"30\", \"31\", \"32\"], \"mode\": \"markers\", \"name\": \"weighted_accuracy\", \"stepped\": false, \"type\": \"scatter\", \"data\": [0.9998672432988311, 0.9787735093395359, 0.9500496981823933, 0.9871314467826954, 0.9515965055345974, 0.9936606222605503, 0.9790875541582162, 0.9978271823252782, 0.9780765981396394, 0.9371375368302814, 0.9632167836695542, 0.9951062714620701, 0.9750434236642546, 0.9734495398342897, 0.9731941821981256, 0.9754218428356165, 0.9249570722099263, 0.9950621781313652, 0.9537275120417181, 0.9830775947883126, 0.977967742034038, 0.9470502698996756, 0.9647666639517363, 0.9923520472694782, 0.978580029552309, 0.5357859544877538, 1.0, 0.999776884547526]}, {\"categories\": [\"0\", \"2\", \"3\", \"4\", \"6\", \"7\", \"8\", \"9\", \"10\", \"11\", \"13\", \"14\", \"15\", \"16\", \"18\", \"19\", \"20\", \"21\", \"22\", \"24\", \"25\", \"26\", \"27\", \"28\", \"29\", \"30\", \"31\", \"32\"], \"mode\": \"lines\", \"name\": \"weighted_accuracy_max\", \"stepped\": true, \"type\": \"scatter\", \"data\": [0.9998672432988311, 0.9998672432988311, 0.9998672432988311, 0.9998672432988311, 0.9998672432988311, 0.9998672432988311, 0.9998672432988311, 0.9998672432988311, 0.9998672432988311, 0.9998672432988311, 0.9998672432988311, 0.9998672432988311, 0.9998672432988311, 0.9998672432988311, 0.9998672432988311, 0.9998672432988311, 0.9998672432988311, 0.9998672432988311, 0.9998672432988311, 0.9998672432988311, 0.9998672432988311, 0.9998672432988311, 0.9998672432988311, 0.9998672432988311, 0.9998672432988311, 0.9998672432988311, 1.0, 1.0]}], \"precision_score_weighted\": [{\"categories\": [\"0\", \"2\", \"3\", \"4\", \"6\", \"7\", \"8\", \"9\", \"10\", \"11\", \"13\", \"14\", \"15\", \"16\", \"18\", \"19\", \"20\", \"21\", \"22\", \"24\", \"25\", \"26\", \"27\", \"28\", \"29\", \"30\", \"31\", \"32\"], \"mode\": \"markers\", \"name\": \"precision_score_weighted\", \"stepped\": false, \"type\": \"scatter\", \"data\": [0.9998770887255409, 0.9788471133314107, 0.9510691548939851, 0.9868901037288996, 0.9530891010737536, 0.9934468895768849, 0.9789114482572463, 0.9977921703617645, 0.9779073782991461, 0.9379808705703458, 0.9630085468897409, 0.9949892061607327, 0.974824970487721, 0.9732882176226273, 0.972931902984454, 0.9752772852956568, 0.9283799505521648, 0.9948844810979436, 0.953987359348136, 0.9830341566087567, 0.9776992168805281, 0.9486353843798769, 0.9646022074714183, 0.992275075847784, 0.9783719122460621, 0.2685029716861127, 1.0, 0.9997544024337245]}, {\"categories\": [\"0\", \"2\", \"3\", \"4\", \"6\", \"7\", \"8\", \"9\", \"10\", \"11\", \"13\", \"14\", \"15\", \"16\", \"18\", \"19\", \"20\", \"21\", \"22\", \"24\", \"25\", \"26\", \"27\", \"28\", \"29\", \"30\", \"31\", \"32\"], \"mode\": \"lines\", \"name\": \"precision_score_weighted_max\", \"stepped\": true, \"type\": \"scatter\", \"data\": [0.9998770887255409, 0.9998770887255409, 0.9998770887255409, 0.9998770887255409, 0.9998770887255409, 0.9998770887255409, 0.9998770887255409, 0.9998770887255409, 0.9998770887255409, 0.9998770887255409, 0.9998770887255409, 0.9998770887255409, 0.9998770887255409, 0.9998770887255409, 0.9998770887255409, 0.9998770887255409, 0.9998770887255409, 0.9998770887255409, 0.9998770887255409, 0.9998770887255409, 0.9998770887255409, 0.9998770887255409, 0.9998770887255409, 0.9998770887255409, 0.9998770887255409, 0.9998770887255409, 1.0, 1.0]}], \"average_precision_score_micro\": [{\"categories\": [\"0\", \"2\", \"3\", \"4\", \"6\", \"7\", \"8\", \"9\", \"10\", \"11\", \"13\", \"14\", \"15\", \"16\", \"18\", \"19\", \"20\", \"21\", \"22\", \"24\", \"25\", \"26\", \"27\", \"28\", \"29\", \"30\", \"31\", \"32\"], \"mode\": \"markers\", \"name\": \"average_precision_score_micro\", \"stepped\": false, \"type\": \"scatter\", \"data\": [0.9999999243069354, 0.997697353353123, 0.9918256201021929, 0.9993692856853469, 0.9914060069153532, 0.9998926259898637, 0.9982216383845584, 0.999981865830241, 0.9981216070636482, 0.9877836959082982, 0.9922464427499813, 0.9997828573214701, 0.9977441320682958, 0.9972119359803351, 0.9980890816012039, 0.9981927000201025, 0.98827584570297, 0.9999327656080716, 0.9912577134277913, 0.9991222178946144, 0.998754088015291, 0.991991657828789, 0.9953014802564797, 0.9995320654594005, 0.9972451685174821, 0.8108434546333196, 1.0, 0.9999993947808588]}, {\"categories\": [\"0\", \"2\", \"3\", \"4\", \"6\", \"7\", \"8\", \"9\", \"10\", \"11\", \"13\", \"14\", \"15\", \"16\", \"18\", \"19\", \"20\", \"21\", \"22\", \"24\", \"25\", \"26\", \"27\", \"28\", \"29\", \"30\", \"31\", \"32\"], \"mode\": \"lines\", \"name\": \"average_precision_score_micro_max\", \"stepped\": true, \"type\": \"scatter\", \"data\": [0.9999999243069354, 0.9999999243069354, 0.9999999243069354, 0.9999999243069354, 0.9999999243069354, 0.9999999243069354, 0.9999999243069354, 0.9999999243069354, 0.9999999243069354, 0.9999999243069354, 0.9999999243069354, 0.9999999243069354, 0.9999999243069354, 0.9999999243069354, 0.9999999243069354, 0.9999999243069354, 0.9999999243069354, 0.9999999243069354, 0.9999999243069354, 0.9999999243069354, 0.9999999243069354, 0.9999999243069354, 0.9999999243069354, 0.9999999243069354, 0.9999999243069354, 0.9999999243069354, 1.0, 1.0]}], \"f1_score_macro\": [{\"categories\": [\"0\", \"2\", \"3\", \"4\", \"6\", \"7\", \"8\", \"9\", \"10\", \"11\", \"13\", \"14\", \"15\", \"16\", \"18\", \"19\", \"20\", \"21\", \"22\", \"24\", \"25\", \"26\", \"27\", \"28\", \"29\", \"30\", \"31\", \"32\"], \"mode\": \"markers\", \"name\": \"f1_score_macro\", \"stepped\": false, \"type\": \"scatter\", \"data\": [0.999876002708864, 0.9783945616366116, 0.9491718320677593, 0.9866619328194716, 0.9498173554848599, 0.9933296648028804, 0.9784991316321443, 0.997780385096766, 0.9777844009617642, 0.9369348810764105, 0.962719175243174, 0.9949384964881866, 0.9746925244792075, 0.9730922227461258, 0.9727109226807127, 0.975200945233287, 0.9220338098988006, 0.9948127494754309, 0.9524957761179611, 0.9829838791317697, 0.9774038366536144, 0.9450845453680102, 0.9643292856826673, 0.9922290784015789, 0.9777537263747188, 0.34116556434294865, 1.0, 0.9997519250615227]}, {\"categories\": [\"0\", \"2\", \"3\", \"4\", \"6\", \"7\", \"8\", \"9\", \"10\", \"11\", \"13\", \"14\", \"15\", \"16\", \"18\", \"19\", \"20\", \"21\", \"22\", \"24\", \"25\", \"26\", \"27\", \"28\", \"29\", \"30\", \"31\", \"32\"], \"mode\": \"lines\", \"name\": \"f1_score_macro_max\", \"stepped\": true, \"type\": \"scatter\", \"data\": [0.999876002708864, 0.999876002708864, 0.999876002708864, 0.999876002708864, 0.999876002708864, 0.999876002708864, 0.999876002708864, 0.999876002708864, 0.999876002708864, 0.999876002708864, 0.999876002708864, 0.999876002708864, 0.999876002708864, 0.999876002708864, 0.999876002708864, 0.999876002708864, 0.999876002708864, 0.999876002708864, 0.999876002708864, 0.999876002708864, 0.999876002708864, 0.999876002708864, 0.999876002708864, 0.999876002708864, 0.999876002708864, 0.999876002708864, 1.0, 1.0]}], \"log_loss\": [{\"categories\": [\"0\", \"2\", \"3\", \"4\", \"6\", \"7\", \"8\", \"9\", \"10\", \"11\", \"13\", \"14\", \"15\", \"16\", \"18\", \"19\", \"20\", \"21\", \"22\", \"24\", \"25\", \"26\", \"27\", \"28\", \"29\", \"30\", \"31\", \"32\"], \"mode\": \"markers\", \"name\": \"log_loss\", \"stepped\": false, \"type\": \"scatter\", \"data\": [0.00016299534789359176, 0.10361677732304075, 0.15984303178125606, 0.07399946353148515, 0.24956422385830793, 0.2545991067180568, 0.23338846797957818, 0.021007060037071933, 0.06100873505612368, 0.19584690080559694, 0.11125086663448322, 0.05027186530092723, 0.1065736517921501, 0.07291305437655123, 0.22875605683030056, 0.08122348260163777, 0.2267776830755305, 0.22052535620951247, 0.22462529087471178, 0.05962723857129911, 0.19242327942105614, 0.28152049075279456, 0.09429143668136483, 0.031066671172691747, 0.29036251249309275, 0.692660649546737, 0.08460141037169791, 0.004272709265124395]}, {\"categories\": [\"0\", \"2\", \"3\", \"4\", \"6\", \"7\", \"8\", \"9\", \"10\", \"11\", \"13\", \"14\", \"15\", \"16\", \"18\", \"19\", \"20\", \"21\", \"22\", \"24\", \"25\", \"26\", \"27\", \"28\", \"29\", \"30\", \"31\", \"32\"], \"mode\": \"lines\", \"name\": \"log_loss_min\", \"stepped\": true, \"type\": \"scatter\", \"data\": [0.00016299534789359176, 0.00016299534789359176, 0.00016299534789359176, 0.00016299534789359176, 0.00016299534789359176, 0.00016299534789359176, 0.00016299534789359176, 0.00016299534789359176, 0.00016299534789359176, 0.00016299534789359176, 0.00016299534789359176, 0.00016299534789359176, 0.00016299534789359176, 0.00016299534789359176, 0.00016299534789359176, 0.00016299534789359176, 0.00016299534789359176, 0.00016299534789359176, 0.00016299534789359176, 0.00016299534789359176, 0.00016299534789359176, 0.00016299534789359176, 0.00016299534789359176, 0.00016299534789359176, 0.00016299534789359176, 0.00016299534789359176, 0.00016299534789359176, 0.00016299534789359176]}], \"average_precision_score_macro\": [{\"categories\": [\"0\", \"2\", \"3\", \"4\", \"6\", \"7\", \"8\", \"9\", \"10\", \"11\", \"13\", \"14\", \"15\", \"16\", \"18\", \"19\", \"20\", \"21\", \"22\", \"24\", \"25\", \"26\", \"27\", \"28\", \"29\", \"30\", \"31\", \"32\"], \"mode\": \"markers\", \"name\": \"average_precision_score_macro\", \"stepped\": false, \"type\": \"scatter\", \"data\": [1.0, 0.9982006402756476, 0.9931153252216267, 0.9994181848498999, 0.9940985972423337, 0.9999938638549344, 0.9986284175452969, 0.9999856783299096, 0.9980667648806619, 0.9868720079121946, 0.9926392194472647, 0.9998441983384808, 0.9978155848897924, 0.9971486066685585, 0.9981134173095079, 0.9982021440879792, 0.9923359969111682, 0.9999996969917376, 0.9926838491458033, 0.9991301488559403, 0.998780339308507, 0.995088528249403, 0.9953307703699543, 0.9995208514265259, 0.9977347297420291, 0.9893396686610858, 1.0, 1.0]}, {\"categories\": [\"0\", \"2\", \"3\", \"4\", \"6\", \"7\", \"8\", \"9\", \"10\", \"11\", \"13\", \"14\", \"15\", \"16\", \"18\", \"19\", \"20\", \"21\", \"22\", \"24\", \"25\", \"26\", \"27\", \"28\", \"29\", \"30\", \"31\", \"32\"], \"mode\": \"lines\", \"name\": \"average_precision_score_macro_max\", \"stepped\": true, \"type\": \"scatter\", \"data\": [1.0, 1.0, 1.0, 1.0, 1.0, 1.0, 1.0, 1.0, 1.0, 1.0, 1.0, 1.0, 1.0, 1.0, 1.0, 1.0, 1.0, 1.0, 1.0, 1.0, 1.0, 1.0, 1.0, 1.0, 1.0, 1.0, 1.0, 1.0]}], \"AUC_macro\": [{\"categories\": [\"0\", \"2\", \"3\", \"4\", \"6\", \"7\", \"8\", \"9\", \"10\", \"11\", \"13\", \"14\", \"15\", \"16\", \"18\", \"19\", \"20\", \"21\", \"22\", \"24\", \"25\", \"26\", \"27\", \"28\", \"29\", \"30\", \"31\", \"32\"], \"mode\": \"markers\", \"name\": \"AUC_macro\", \"stepped\": false, \"type\": \"scatter\", \"data\": [1.0, 0.9981649131774789, 0.9928831899683364, 0.9994113724137333, 0.9939040052936313, 0.99999390779581, 0.998603920022761, 0.9999857139525146, 0.99802399490472, 0.986355565075935, 0.9931058372342448, 0.99984207379342, 0.997763684337928, 0.9970760144856179, 0.9980859910672469, 0.9981640437972334, 0.9920935838937718, 0.9999996966516408, 0.9924606989780618, 0.9991143995317067, 0.9987613705411775, 0.9949660334249106, 0.9952064330497951, 0.9995128200992875, 0.9976875594037896, 0.9893358438015382, 1.0, 1.0]}, {\"categories\": [\"0\", \"2\", \"3\", \"4\", \"6\", \"7\", \"8\", \"9\", \"10\", \"11\", \"13\", \"14\", \"15\", \"16\", \"18\", \"19\", \"20\", \"21\", \"22\", \"24\", \"25\", \"26\", \"27\", \"28\", \"29\", \"30\", \"31\", \"32\"], \"mode\": \"lines\", \"name\": \"AUC_macro_max\", \"stepped\": true, \"type\": \"scatter\", \"data\": [1.0, 1.0, 1.0, 1.0, 1.0, 1.0, 1.0, 1.0, 1.0, 1.0, 1.0, 1.0, 1.0, 1.0, 1.0, 1.0, 1.0, 1.0, 1.0, 1.0, 1.0, 1.0, 1.0, 1.0, 1.0, 1.0, 1.0, 1.0]}], \"AUC_weighted\": [{\"categories\": [\"0\", \"2\", \"3\", \"4\", \"6\", \"7\", \"8\", \"9\", \"10\", \"11\", \"13\", \"14\", \"15\", \"16\", \"18\", \"19\", \"20\", \"21\", \"22\", \"24\", \"25\", \"26\", \"27\", \"28\", \"29\", \"30\", \"31\", \"32\"], \"mode\": \"markers\", \"name\": \"AUC_weighted\", \"stepped\": false, \"type\": \"scatter\", \"data\": [1.0, 0.9981649131774789, 0.9928831899683365, 0.9994113724137333, 0.9939040052936313, 0.99999390779581, 0.9986039200227609, 0.9999857139525146, 0.9980239949047199, 0.986355565075935, 0.9931058372342448, 0.99984207379342, 0.9977636843379282, 0.9970760144856179, 0.9980859910672469, 0.9981640437972334, 0.9920935838937718, 0.9999996966516408, 0.9924606989780618, 0.9991143995317067, 0.9987613705411775, 0.9949660334249106, 0.9952064330497951, 0.9995128200992875, 0.9976875594037894, 0.9893358438015382, 1.0, 1.0]}, {\"categories\": [\"0\", \"2\", \"3\", \"4\", \"6\", \"7\", \"8\", \"9\", \"10\", \"11\", \"13\", \"14\", \"15\", \"16\", \"18\", \"19\", \"20\", \"21\", \"22\", \"24\", \"25\", \"26\", \"27\", \"28\", \"29\", \"30\", \"31\", \"32\"], \"mode\": \"lines\", \"name\": \"AUC_weighted_max\", \"stepped\": true, \"type\": \"scatter\", \"data\": [1.0, 1.0, 1.0, 1.0, 1.0, 1.0, 1.0, 1.0, 1.0, 1.0, 1.0, 1.0, 1.0, 1.0, 1.0, 1.0, 1.0, 1.0, 1.0, 1.0, 1.0, 1.0, 1.0, 1.0, 1.0, 1.0, 1.0, 1.0]}], \"balanced_accuracy\": [{\"categories\": [\"0\", \"2\", \"3\", \"4\", \"6\", \"7\", \"8\", \"9\", \"10\", \"11\", \"13\", \"14\", \"15\", \"16\", \"18\", \"19\", \"20\", \"21\", \"22\", \"24\", \"25\", \"26\", \"27\", \"28\", \"29\", \"30\", \"31\", \"32\"], \"mode\": \"markers\", \"name\": \"balanced_accuracy\", \"stepped\": false, \"type\": \"scatter\", \"data\": [0.9998867497168742, 0.9781433756185788, 0.9487587264343518, 0.9862754770601679, 0.948685133065631, 0.9930428474842421, 0.978073204758622, 0.9977405890816646, 0.9776089382286214, 0.9370656407017701, 0.9624332803354096, 0.9947980312380201, 0.9744871194609857, 0.9728805497023781, 0.9723957597698776, 0.9750934830733973, 0.920663265656686, 0.9945957960490299, 0.9517299417774675, 0.9829475016050615, 0.9769752095998072, 0.9438780517202527, 0.9640843038792575, 0.9921390849773287, 0.9770999630250315, 0.5, 1.0, 0.9997304582210242]}, {\"categories\": [\"0\", \"2\", \"3\", \"4\", \"6\", \"7\", \"8\", \"9\", \"10\", \"11\", \"13\", \"14\", \"15\", \"16\", \"18\", \"19\", \"20\", \"21\", \"22\", \"24\", \"25\", \"26\", \"27\", \"28\", \"29\", \"30\", \"31\", \"32\"], \"mode\": \"lines\", \"name\": \"balanced_accuracy_max\", \"stepped\": true, \"type\": \"scatter\", \"data\": [0.9998867497168742, 0.9998867497168742, 0.9998867497168742, 0.9998867497168742, 0.9998867497168742, 0.9998867497168742, 0.9998867497168742, 0.9998867497168742, 0.9998867497168742, 0.9998867497168742, 0.9998867497168742, 0.9998867497168742, 0.9998867497168742, 0.9998867497168742, 0.9998867497168742, 0.9998867497168742, 0.9998867497168742, 0.9998867497168742, 0.9998867497168742, 0.9998867497168742, 0.9998867497168742, 0.9998867497168742, 0.9998867497168742, 0.9998867497168742, 0.9998867497168742, 0.9998867497168742, 1.0, 1.0]}], \"recall_score_weighted\": [{\"categories\": [\"0\", \"2\", \"3\", \"4\", \"6\", \"7\", \"8\", \"9\", \"10\", \"11\", \"13\", \"14\", \"15\", \"16\", \"18\", \"19\", \"20\", \"21\", \"22\", \"24\", \"25\", \"26\", \"27\", \"28\", \"29\", \"30\", \"31\", \"32\"], \"mode\": \"markers\", \"name\": \"recall_score_weighted\", \"stepped\": false, \"type\": \"scatter\", \"data\": [0.9998769230769231, 0.9784593406593405, 0.9494062902614626, 0.9867056460780599, 0.9501464190981433, 0.9933531640773019, 0.9785824933687003, 0.9977841606669193, 0.97784350132626, 0.9370997347480106, 0.9628262220538082, 0.9949529367184539, 0.9747665782493369, 0.97316582038651, 0.972796665403562, 0.975258810155362, 0.9228184160666919, 0.9948301629405079, 0.9527320954907162, 0.9830132625994693, 0.9774740431981812, 0.9454701780977643, 0.9644263736263736, 0.9922457749147405, 0.9778436528988254, 0.5179696854869269, 1.0, 0.9997538461538461]}, {\"categories\": [\"0\", \"2\", \"3\", \"4\", \"6\", \"7\", \"8\", \"9\", \"10\", \"11\", \"13\", \"14\", \"15\", \"16\", \"18\", \"19\", \"20\", \"21\", \"22\", \"24\", \"25\", \"26\", \"27\", \"28\", \"29\", \"30\", \"31\", \"32\"], \"mode\": \"lines\", \"name\": \"recall_score_weighted_max\", \"stepped\": true, \"type\": \"scatter\", \"data\": [0.9998769230769231, 0.9998769230769231, 0.9998769230769231, 0.9998769230769231, 0.9998769230769231, 0.9998769230769231, 0.9998769230769231, 0.9998769230769231, 0.9998769230769231, 0.9998769230769231, 0.9998769230769231, 0.9998769230769231, 0.9998769230769231, 0.9998769230769231, 0.9998769230769231, 0.9998769230769231, 0.9998769230769231, 0.9998769230769231, 0.9998769230769231, 0.9998769230769231, 0.9998769230769231, 0.9998769230769231, 0.9998769230769231, 0.9998769230769231, 0.9998769230769231, 0.9998769230769231, 1.0, 1.0]}]}, \"metricName\": null, \"primaryMetricName\": \"accuracy\", \"showLegend\": false}, \"run_metrics\": [{\"name\": \"AUC_weighted\", \"run_id\": \"AutoML_0f0242a2-125f-4e57-b0f1-4e024d00d463\", \"categories\": [0], \"series\": [{\"data\": [1.0]}]}, {\"name\": \"balanced_accuracy\", \"run_id\": \"AutoML_0f0242a2-125f-4e57-b0f1-4e024d00d463\", \"categories\": [0], \"series\": [{\"data\": [1.0]}]}, {\"name\": \"log_loss\", \"run_id\": \"AutoML_0f0242a2-125f-4e57-b0f1-4e024d00d463\", \"categories\": [0], \"series\": [{\"data\": [0.08460141037169791]}]}, {\"name\": \"AUC_macro\", \"run_id\": \"AutoML_0f0242a2-125f-4e57-b0f1-4e024d00d463\", \"categories\": [0], \"series\": [{\"data\": [1.0]}]}, {\"name\": \"f1_score_weighted\", \"run_id\": \"AutoML_0f0242a2-125f-4e57-b0f1-4e024d00d463\", \"categories\": [0], \"series\": [{\"data\": [1.0]}]}, {\"name\": \"average_precision_score_micro\", \"run_id\": \"AutoML_0f0242a2-125f-4e57-b0f1-4e024d00d463\", \"categories\": [0], \"series\": [{\"data\": [1.0]}]}, {\"name\": \"weighted_accuracy\", \"run_id\": \"AutoML_0f0242a2-125f-4e57-b0f1-4e024d00d463\", \"categories\": [0], \"series\": [{\"data\": [1.0]}]}, {\"name\": \"average_precision_score_macro\", \"run_id\": \"AutoML_0f0242a2-125f-4e57-b0f1-4e024d00d463\", \"categories\": [0], \"series\": [{\"data\": [1.0]}]}, {\"name\": \"precision_score_micro\", \"run_id\": \"AutoML_0f0242a2-125f-4e57-b0f1-4e024d00d463\", \"categories\": [0], \"series\": [{\"data\": [1.0]}]}, {\"name\": \"f1_score_macro\", \"run_id\": \"AutoML_0f0242a2-125f-4e57-b0f1-4e024d00d463\", \"categories\": [0], \"series\": [{\"data\": [1.0]}]}, {\"name\": \"recall_score_micro\", \"run_id\": \"AutoML_0f0242a2-125f-4e57-b0f1-4e024d00d463\", \"categories\": [0], \"series\": [{\"data\": [1.0]}]}, {\"name\": \"average_precision_score_weighted\", \"run_id\": \"AutoML_0f0242a2-125f-4e57-b0f1-4e024d00d463\", \"categories\": [0], \"series\": [{\"data\": [1.0]}]}, {\"name\": \"precision_score_weighted\", \"run_id\": \"AutoML_0f0242a2-125f-4e57-b0f1-4e024d00d463\", \"categories\": [0], \"series\": [{\"data\": [1.0]}]}, {\"name\": \"accuracy\", \"run_id\": \"AutoML_0f0242a2-125f-4e57-b0f1-4e024d00d463\", \"categories\": [0], \"series\": [{\"data\": [1.0]}]}, {\"name\": \"matthews_correlation\", \"run_id\": \"AutoML_0f0242a2-125f-4e57-b0f1-4e024d00d463\", \"categories\": [0], \"series\": [{\"data\": [1.0]}]}, {\"name\": \"precision_score_macro\", \"run_id\": \"AutoML_0f0242a2-125f-4e57-b0f1-4e024d00d463\", \"categories\": [0], \"series\": [{\"data\": [1.0]}]}, {\"name\": \"recall_score_weighted\", \"run_id\": \"AutoML_0f0242a2-125f-4e57-b0f1-4e024d00d463\", \"categories\": [0], \"series\": [{\"data\": [1.0]}]}, {\"name\": \"norm_macro_recall\", \"run_id\": \"AutoML_0f0242a2-125f-4e57-b0f1-4e024d00d463\", \"categories\": [0], \"series\": [{\"data\": [1.0]}]}, {\"name\": \"AUC_micro\", \"run_id\": \"AutoML_0f0242a2-125f-4e57-b0f1-4e024d00d463\", \"categories\": [0], \"series\": [{\"data\": [1.0]}]}, {\"name\": \"recall_score_macro\", \"run_id\": \"AutoML_0f0242a2-125f-4e57-b0f1-4e024d00d463\", \"categories\": [0], \"series\": [{\"data\": [1.0]}]}, {\"name\": \"f1_score_micro\", \"run_id\": \"AutoML_0f0242a2-125f-4e57-b0f1-4e024d00d463\", \"categories\": [0], \"series\": [{\"data\": [1.0]}]}], \"run_logs\": \"\\nRun is completed.\", \"graph\": {}, \"widget_settings\": {\"childWidgetDisplay\": \"popup\", \"send_telemetry\": false, \"log_level\": \"INFO\", \"sdk_version\": \"1.22.0\"}, \"loading\": false}"
          },
          "metadata": {}
        },
        {
          "output_type": "execute_result",
          "execution_count": 20,
          "data": {
            "text/plain": "{'runId': 'AutoML_0f0242a2-125f-4e57-b0f1-4e024d00d463',\n 'target': 'local',\n 'status': 'Completed',\n 'startTimeUtc': '2021-04-20T00:55:14.639352Z',\n 'endTimeUtc': '2021-04-20T01:12:31.448908Z',\n 'properties': {'num_iterations': '1000',\n  'training_type': 'TrainFull',\n  'acquisition_function': 'EI',\n  'primary_metric': 'accuracy',\n  'train_split': '0',\n  'acquisition_parameter': '0',\n  'num_cross_validation': '5',\n  'target': 'local',\n  'AMLSettingsJsonString': '{\"path\":null,\"name\":\"mushroom-classification-final\",\"subscription_id\":\"095d396f-a6aa-423a-90bb-d2146baff999\",\"resource_group\":\"main-workspace\",\"workspace_name\":\"sandbox-main\",\"region\":\"westus2\",\"compute_target\":\"local\",\"spark_service\":null,\"azure_service\":\"Microsoft.AzureNotebookVM\",\"many_models\":false,\"pipeline_fetch_max_batch_size\":1,\"iterations\":1000,\"primary_metric\":\"accuracy\",\"task_type\":\"classification\",\"data_script\":null,\"validation_size\":0.0,\"n_cross_validations\":5,\"y_min\":null,\"y_max\":null,\"num_classes\":2,\"featurization\":\"auto\",\"_ignore_package_version_incompatibilities\":false,\"is_timeseries\":false,\"max_cores_per_iteration\":-1,\"max_concurrent_iterations\":2,\"iteration_timeout_minutes\":5,\"mem_in_mb\":null,\"enforce_time_on_windows\":false,\"experiment_timeout_minutes\":30,\"experiment_exit_score\":null,\"whitelist_models\":null,\"blacklist_algos\":[\"TensorFlowLinearClassifier\",\"TensorFlowDNN\"],\"supported_models\":[\"TensorFlowDNN\",\"ExtremeRandomTrees\",\"LightGBM\",\"SGD\",\"MultinomialNaiveBayes\",\"LogisticRegression\",\"DecisionTree\",\"AveragedPerceptronClassifier\",\"TensorFlowLinearClassifier\",\"XGBoostClassifier\",\"SVM\",\"LinearSVM\",\"RandomForest\",\"KNN\",\"GradientBoosting\",\"BernoulliNaiveBayes\"],\"private_models\":[],\"auto_blacklist\":true,\"blacklist_samples_reached\":false,\"exclude_nan_labels\":true,\"verbosity\":20,\"_debug_log\":\"automl.log\",\"show_warnings\":false,\"model_explainability\":true,\"service_url\":null,\"sdk_url\":null,\"sdk_packages\":null,\"enable_onnx_compatible_models\":false,\"enable_split_onnx_featurizer_estimator_models\":false,\"vm_type\":null,\"telemetry_verbosity\":20,\"send_telemetry\":true,\"enable_dnn\":false,\"scenario\":\"SDK-1.13.0\",\"environment_label\":null,\"force_text_dnn\":false,\"enable_feature_sweeping\":true,\"enable_early_stopping\":true,\"early_stopping_n_iters\":10,\"metrics\":null,\"enable_ensembling\":true,\"enable_stack_ensembling\":true,\"ensemble_iterations\":15,\"enable_tf\":false,\"enable_subsampling\":null,\"subsample_seed\":null,\"enable_nimbusml\":false,\"enable_streaming\":false,\"force_streaming\":false,\"track_child_runs\":true,\"allowed_private_models\":[],\"label_column_name\":\"class\",\"weight_column_name\":null,\"cv_split_column_names\":null,\"enable_local_managed\":false,\"_local_managed_run_id\":null,\"cost_mode\":1,\"lag_length\":0,\"metric_operation\":\"maximize\",\"preprocess\":true,\"enable_onxx_compatible_models\":true}',\n  'DataPrepJsonString': None,\n  'EnableSubsampling': None,\n  'runTemplate': 'AutoML',\n  'azureml.runsource': 'automl',\n  'display_task_type': 'classification',\n  'dependencies_versions': '{\"azureml-widgets\": \"1.22.0\", \"azureml-train\": \"1.22.0\", \"azureml-train-restclients-hyperdrive\": \"1.22.0\", \"azureml-train-core\": \"1.22.0\", \"azureml-train-automl\": \"1.22.0\", \"azureml-train-automl-runtime\": \"1.22.0\", \"azureml-train-automl-client\": \"1.22.0\", \"azureml-tensorboard\": \"1.22.0\", \"azureml-telemetry\": \"1.22.0\", \"azureml-sdk\": \"1.22.0\", \"azureml-samples\": \"0+unknown\", \"azureml-pipeline\": \"1.22.0\", \"azureml-pipeline-steps\": \"1.22.0\", \"azureml-pipeline-core\": \"1.22.0\", \"azureml-opendatasets\": \"1.22.0\", \"azureml-model-management-sdk\": \"1.0.1b6.post1\", \"azureml-mlflow\": \"1.22.0\", \"azureml-interpret\": \"1.22.0\", \"azureml-explain-model\": \"1.22.0\", \"azureml-defaults\": \"1.22.0\", \"azureml-dataset-runtime\": \"1.22.0\", \"azureml-dataprep\": \"2.9.1\", \"azureml-dataprep-rslex\": \"1.7.0\", \"azureml-dataprep-native\": \"29.0.0\", \"azureml-datadrift\": \"1.22.0\", \"azureml-core\": \"1.22.0\", \"azureml-contrib-services\": \"1.22.0\", \"azureml-contrib-server\": \"1.22.0\", \"azureml-contrib-reinforcementlearning\": \"1.22.0\", \"azureml-contrib-pipeline-steps\": \"1.22.0\", \"azureml-contrib-notebook\": \"1.22.0\", \"azureml-contrib-interpret\": \"1.22.0\", \"azureml-contrib-gbdt\": \"1.22.0\", \"azureml-contrib-fairness\": \"1.22.0\", \"azureml-contrib-dataset\": \"1.22.0\", \"azureml-cli-common\": \"1.22.0\", \"azureml-automl-runtime\": \"1.22.0\", \"azureml-automl-core\": \"1.22.0\", \"azureml-accel-models\": \"1.22.0\"}',\n  '_aml_system_scenario_identification': 'Local.Parent',\n  'ClientSdkVersion': '1.22.0',\n  'ClientType': 'SDK',\n  'environment_cpu_name': 'AzureML-AutoML',\n  'environment_cpu_label': 'prod',\n  'environment_gpu_name': 'AzureML-AutoML-GPU',\n  'environment_gpu_label': 'prod',\n  'root_attribution': 'automl',\n  'attribution': 'AutoML',\n  'Orchestrator': 'AutoML',\n  '_azureml.ComputeTargetType': 'local',\n  'ProblemInfoJsonString': '{\"dataset_num_categorical\": 0, \"is_sparse\": false, \"subsampling\": false, \"dataset_classes\": 2, \"dataset_features\": 28, \"dataset_samples\": 8124, \"single_frequency_class_detected\": false}',\n  'feature_skus': 'automatedml_sdk_guardrails'},\n 'inputDatasets': [],\n 'outputDatasets': [],\n 'logFiles': {},\n 'submittedBy': 'Frenc Hu'}"
          },
          "metadata": {}
        }
      ],
      "execution_count": 20,
      "metadata": {
        "gather": {
          "logged": 1618881262993
        },
        "jupyter": {
          "outputs_hidden": false,
          "source_hidden": false
        },
        "nteract": {
          "transient": {
            "deleting": false
          }
        },
        "collapsed": false
      }
    },
    {
      "cell_type": "markdown",
      "source": [
        "## Best Model\n",
        "\n",
        "TODO: In the cell below, get the best model from the automl experiments and display all the properties of the model.\n",
        "\n"
      ],
      "metadata": {}
    },
    {
      "cell_type": "code",
      "source": [
        "best_run, onxx_model = label_run.get_output(return_onxx_model = True)\r\n",
        "print(best_run)\r\n",
        "print(onxx_model)"
      ],
      "outputs": [
        {
          "output_type": "stream",
          "name": "stderr",
          "text": [
            "WARNING:root:Received unrecognized parameter enable_onxx_compatible_models\n",
            "WARNING:root:Received unrecognized parameter enable_onxx_compatible_models\n",
            "WARNING:root:Received unrecognized parameter enable_onxx_compatible_models\n"
          ]
        },
        {
          "output_type": "stream",
          "name": "stdout",
          "text": [
            "Run(Experiment: mushroom-classification-final,\n",
            "Id: AutoML_0f0242a2-125f-4e57-b0f1-4e024d00d463_31,\n",
            "Type: None,\n",
            "Status: Completed)\n",
            "Pipeline(memory=None,\n",
            "         steps=[('datatransformer',\n",
            "                 DataTransformer(enable_dnn=None, enable_feature_sweeping=None,\n",
            "                                 feature_sweeping_config=None,\n",
            "                                 feature_sweeping_timeout=None,\n",
            "                                 featurization_config=None, force_text_dnn=None,\n",
            "                                 is_cross_validation=None,\n",
            "                                 is_onnx_compatible=None, logger=None,\n",
            "                                 observer=None, task=None, working_dir=None)),\n",
            "                ('prefittedsoftvotingclassifier',...\n",
            "                                                                                                num_leaves=80,\n",
            "                                                                                                objective=None,\n",
            "                                                                                                random_state=None,\n",
            "                                                                                                reg_alpha=0.7368421052631579,\n",
            "                                                                                                reg_lambda=0.5789473684210527,\n",
            "                                                                                                silent=True,\n",
            "                                                                                                subsample=1,\n",
            "                                                                                                subsample_for_bin=200000,\n",
            "                                                                                                subsample_freq=0,\n",
            "                                                                                                verbose=-10))],\n",
            "                                                                     verbose=False))],\n",
            "                                               flatten_transform=None,\n",
            "                                               weights=[0.3333333333333333,\n",
            "                                                        0.16666666666666666,\n",
            "                                                        0.16666666666666666,\n",
            "                                                        0.16666666666666666,\n",
            "                                                        0.16666666666666666]))],\n",
            "         verbose=False)\n"
          ]
        }
      ],
      "execution_count": 21,
      "metadata": {
        "collapsed": false,
        "jupyter": {
          "source_hidden": false,
          "outputs_hidden": false
        },
        "nteract": {
          "transient": {
            "deleting": false
          }
        },
        "gather": {
          "logged": 1618881263884
        }
      }
    },
    {
      "cell_type": "code",
      "source": [
        "best_run_customized, fitted_model_customized = label_run.get_output()\r\n",
        "\r\n",
        "custom_featurizer = fitted_model_customized.named_steps['datatransformer']\r\n",
        "df = custom_featurizer.get_featurization_summary()\r\n",
        "pd.DataFrame(data=df)\r\n"
      ],
      "outputs": [
        {
          "output_type": "stream",
          "name": "stderr",
          "text": [
            "WARNING:root:Received unrecognized parameter enable_onxx_compatible_models\n",
            "WARNING:root:Received unrecognized parameter enable_onxx_compatible_models\n",
            "WARNING:root:Received unrecognized parameter enable_onxx_compatible_models\n"
          ]
        },
        {
          "output_type": "execute_result",
          "execution_count": 22,
          "data": {
            "text/plain": "                                       RawFeatureName TypeDetected Dropped  \\\n0                                             bruises      Numeric      No   \n1                                           cap-color      Numeric      No   \n2                                           cap-shape      Numeric      No   \n3                                         cap-surface      Numeric      No   \n4                                          gill-color      Numeric      No   \n5                                           gill-size      Numeric      No   \n6                                        gill-spacing      Numeric      No   \n7                                             habitat      Numeric      No   \n8                                                odor      Numeric      No   \n9                                          population      Numeric      No   \n10                                        ring-number      Numeric      No   \n11                                          ring-type      Numeric      No   \n12                                  spore-print-color      Numeric      No   \n13                             stalk-color-above-ring      Numeric      No   \n14                             stalk-color-below-ring      Numeric      No   \n15                                         stalk-root      Numeric      No   \n16                                        stalk-shape      Numeric      No   \n17                           stalk-surface-above-ring      Numeric      No   \n18                           stalk-surface-below-ring      Numeric      No   \n19                                         veil-color      Numeric      No   \n20  bruises-cap-color-cap-shape-cap-surface-gill-c...      Numeric      No   \n\n    EngineeredFeatureCount                               Transformations  \n0                        9                                 [MeanImputer]  \n1                        9                                 [MeanImputer]  \n2                        9                                 [MeanImputer]  \n3                        9                                 [MeanImputer]  \n4                        9                                 [MeanImputer]  \n5                        9                                 [MeanImputer]  \n6                        9                                 [MeanImputer]  \n7                        9                                 [MeanImputer]  \n8                        9                                 [MeanImputer]  \n9                        9                                 [MeanImputer]  \n10                       9                                 [MeanImputer]  \n11                       9                                 [MeanImputer]  \n12                       9                                 [MeanImputer]  \n13                       9                                 [MeanImputer]  \n14                       9                                 [MeanImputer]  \n15                       9                                 [MeanImputer]  \n16                       9                                 [MeanImputer]  \n17                       9                                 [MeanImputer]  \n18                       9                                 [MeanImputer]  \n19                       9                                 [MeanImputer]  \n20                       0  [SimpleImputer-MaxAbsScaler-MiniBatchKMeans]  ",
            "text/html": "<div>\n<style scoped>\n    .dataframe tbody tr th:only-of-type {\n        vertical-align: middle;\n    }\n\n    .dataframe tbody tr th {\n        vertical-align: top;\n    }\n\n    .dataframe thead th {\n        text-align: right;\n    }\n</style>\n<table border=\"1\" class=\"dataframe\">\n  <thead>\n    <tr style=\"text-align: right;\">\n      <th></th>\n      <th>RawFeatureName</th>\n      <th>TypeDetected</th>\n      <th>Dropped</th>\n      <th>EngineeredFeatureCount</th>\n      <th>Transformations</th>\n    </tr>\n  </thead>\n  <tbody>\n    <tr>\n      <th>0</th>\n      <td>bruises</td>\n      <td>Numeric</td>\n      <td>No</td>\n      <td>9</td>\n      <td>[MeanImputer]</td>\n    </tr>\n    <tr>\n      <th>1</th>\n      <td>cap-color</td>\n      <td>Numeric</td>\n      <td>No</td>\n      <td>9</td>\n      <td>[MeanImputer]</td>\n    </tr>\n    <tr>\n      <th>2</th>\n      <td>cap-shape</td>\n      <td>Numeric</td>\n      <td>No</td>\n      <td>9</td>\n      <td>[MeanImputer]</td>\n    </tr>\n    <tr>\n      <th>3</th>\n      <td>cap-surface</td>\n      <td>Numeric</td>\n      <td>No</td>\n      <td>9</td>\n      <td>[MeanImputer]</td>\n    </tr>\n    <tr>\n      <th>4</th>\n      <td>gill-color</td>\n      <td>Numeric</td>\n      <td>No</td>\n      <td>9</td>\n      <td>[MeanImputer]</td>\n    </tr>\n    <tr>\n      <th>5</th>\n      <td>gill-size</td>\n      <td>Numeric</td>\n      <td>No</td>\n      <td>9</td>\n      <td>[MeanImputer]</td>\n    </tr>\n    <tr>\n      <th>6</th>\n      <td>gill-spacing</td>\n      <td>Numeric</td>\n      <td>No</td>\n      <td>9</td>\n      <td>[MeanImputer]</td>\n    </tr>\n    <tr>\n      <th>7</th>\n      <td>habitat</td>\n      <td>Numeric</td>\n      <td>No</td>\n      <td>9</td>\n      <td>[MeanImputer]</td>\n    </tr>\n    <tr>\n      <th>8</th>\n      <td>odor</td>\n      <td>Numeric</td>\n      <td>No</td>\n      <td>9</td>\n      <td>[MeanImputer]</td>\n    </tr>\n    <tr>\n      <th>9</th>\n      <td>population</td>\n      <td>Numeric</td>\n      <td>No</td>\n      <td>9</td>\n      <td>[MeanImputer]</td>\n    </tr>\n    <tr>\n      <th>10</th>\n      <td>ring-number</td>\n      <td>Numeric</td>\n      <td>No</td>\n      <td>9</td>\n      <td>[MeanImputer]</td>\n    </tr>\n    <tr>\n      <th>11</th>\n      <td>ring-type</td>\n      <td>Numeric</td>\n      <td>No</td>\n      <td>9</td>\n      <td>[MeanImputer]</td>\n    </tr>\n    <tr>\n      <th>12</th>\n      <td>spore-print-color</td>\n      <td>Numeric</td>\n      <td>No</td>\n      <td>9</td>\n      <td>[MeanImputer]</td>\n    </tr>\n    <tr>\n      <th>13</th>\n      <td>stalk-color-above-ring</td>\n      <td>Numeric</td>\n      <td>No</td>\n      <td>9</td>\n      <td>[MeanImputer]</td>\n    </tr>\n    <tr>\n      <th>14</th>\n      <td>stalk-color-below-ring</td>\n      <td>Numeric</td>\n      <td>No</td>\n      <td>9</td>\n      <td>[MeanImputer]</td>\n    </tr>\n    <tr>\n      <th>15</th>\n      <td>stalk-root</td>\n      <td>Numeric</td>\n      <td>No</td>\n      <td>9</td>\n      <td>[MeanImputer]</td>\n    </tr>\n    <tr>\n      <th>16</th>\n      <td>stalk-shape</td>\n      <td>Numeric</td>\n      <td>No</td>\n      <td>9</td>\n      <td>[MeanImputer]</td>\n    </tr>\n    <tr>\n      <th>17</th>\n      <td>stalk-surface-above-ring</td>\n      <td>Numeric</td>\n      <td>No</td>\n      <td>9</td>\n      <td>[MeanImputer]</td>\n    </tr>\n    <tr>\n      <th>18</th>\n      <td>stalk-surface-below-ring</td>\n      <td>Numeric</td>\n      <td>No</td>\n      <td>9</td>\n      <td>[MeanImputer]</td>\n    </tr>\n    <tr>\n      <th>19</th>\n      <td>veil-color</td>\n      <td>Numeric</td>\n      <td>No</td>\n      <td>9</td>\n      <td>[MeanImputer]</td>\n    </tr>\n    <tr>\n      <th>20</th>\n      <td>bruises-cap-color-cap-shape-cap-surface-gill-c...</td>\n      <td>Numeric</td>\n      <td>No</td>\n      <td>0</td>\n      <td>[SimpleImputer-MaxAbsScaler-MiniBatchKMeans]</td>\n    </tr>\n  </tbody>\n</table>\n</div>"
          },
          "metadata": {}
        }
      ],
      "execution_count": 22,
      "metadata": {
        "collapsed": true,
        "jupyter": {
          "source_hidden": false,
          "outputs_hidden": false
        },
        "nteract": {
          "transient": {
            "deleting": false
          }
        },
        "gather": {
          "logged": 1618881264720
        }
      }
    },
    {
      "cell_type": "code",
      "source": [
        "#TODO: Save the best model\r\n",
        "best_run, onnx_mdl = label_run.get_output(return_onnx_model=True)\r\n",
        "\r\n",
        "onnx_fl_path = \"./best_model.onnx\"\r\n",
        "OnnxConverter.save_onnx_model(onnx_mdl, onnx_fl_path)"
      ],
      "outputs": [
        {
          "output_type": "stream",
          "name": "stderr",
          "text": [
            "WARNING:root:Received unrecognized parameter enable_onxx_compatible_models\n",
            "WARNING:root:Received unrecognized parameter enable_onxx_compatible_models\n"
          ]
        },
        {
          "output_type": "error",
          "ename": "OnnxConvertException",
          "evalue": "OnnxConvertException:\n\tMessage: Requested an ONNX compatible model but the run has ONNX compatibility disabled.\n\tInnerException: None\n\tErrorResponse \n{\n    \"error\": {\n        \"code\": \"UserError\",\n        \"message\": \"Requested an ONNX compatible model but the run has ONNX compatibility disabled.\",\n        \"target\": \"onnx_compatible\",\n        \"inner_error\": {\n            \"code\": \"BadArgument\",\n            \"inner_error\": {\n                \"code\": \"ArgumentInvalid\"\n            }\n        }\n    }\n}",
          "traceback": [
            "\u001b[0;31m---------------------------------------------------------------------------\u001b[0m",
            "\u001b[0;31mOnnxConvertException\u001b[0m                      Traceback (most recent call last)",
            "\u001b[0;32m<ipython-input-24-9c92456e9c27>\u001b[0m in \u001b[0;36m<module>\u001b[0;34m\u001b[0m\n\u001b[1;32m      1\u001b[0m \u001b[0;31m#TODO: Save the best model\u001b[0m\u001b[0;34m\u001b[0m\u001b[0;34m\u001b[0m\u001b[0;34m\u001b[0m\u001b[0m\n\u001b[0;32m----> 2\u001b[0;31m \u001b[0mbest_run\u001b[0m\u001b[0;34m,\u001b[0m \u001b[0monnx_mdl\u001b[0m \u001b[0;34m=\u001b[0m \u001b[0mlabel_run\u001b[0m\u001b[0;34m.\u001b[0m\u001b[0mget_output\u001b[0m\u001b[0;34m(\u001b[0m\u001b[0mreturn_onnx_model\u001b[0m\u001b[0;34m=\u001b[0m\u001b[0;32mTrue\u001b[0m\u001b[0;34m)\u001b[0m\u001b[0;34m\u001b[0m\u001b[0;34m\u001b[0m\u001b[0m\n\u001b[0m\u001b[1;32m      3\u001b[0m \u001b[0;34m\u001b[0m\u001b[0m\n\u001b[1;32m      4\u001b[0m \u001b[0monnx_fl_path\u001b[0m \u001b[0;34m=\u001b[0m \u001b[0;34m\"./best_model.onnx\"\u001b[0m\u001b[0;34m\u001b[0m\u001b[0;34m\u001b[0m\u001b[0m\n\u001b[1;32m      5\u001b[0m \u001b[0mOnnxConverter\u001b[0m\u001b[0;34m.\u001b[0m\u001b[0msave_onnx_model\u001b[0m\u001b[0;34m(\u001b[0m\u001b[0monnx_mdl\u001b[0m\u001b[0;34m,\u001b[0m \u001b[0monnx_fl_path\u001b[0m\u001b[0;34m)\u001b[0m\u001b[0;34m\u001b[0m\u001b[0;34m\u001b[0m\u001b[0m\n",
            "\u001b[0;32m/anaconda/envs/azureml_py36/lib/python3.6/site-packages/azureml/train/automl/run.py\u001b[0m in \u001b[0;36mget_output\u001b[0;34m(self, iteration, metric, return_onnx_model, return_split_onnx_model, **kwargs)\u001b[0m\n\u001b[1;32m    693\u001b[0m                     \u001b[0monnx_compatible\u001b[0m\u001b[0;34m=\u001b[0m\u001b[0mreturn_onnx_model\u001b[0m\u001b[0;34m,\u001b[0m\u001b[0;34m\u001b[0m\u001b[0;34m\u001b[0m\u001b[0m\n\u001b[1;32m    694\u001b[0m                     \u001b[0msplit_onnx_model_name\u001b[0m\u001b[0;34m=\u001b[0m\u001b[0mreturn_split_onnx_model\u001b[0m\u001b[0;34m,\u001b[0m\u001b[0;34m\u001b[0m\u001b[0;34m\u001b[0m\u001b[0m\n\u001b[0;32m--> 695\u001b[0;31m                     \u001b[0mactivity_name\u001b[0m\u001b[0;34m=\u001b[0m\u001b[0mautoml_shared_constants\u001b[0m\u001b[0;34m.\u001b[0m\u001b[0mTelemetryConstants\u001b[0m\u001b[0;34m.\u001b[0m\u001b[0mGET_OUTPUT\u001b[0m\u001b[0;34m\u001b[0m\u001b[0;34m\u001b[0m\u001b[0m\n\u001b[0m\u001b[1;32m    696\u001b[0m                 )\n\u001b[1;32m    697\u001b[0m \u001b[0;34m\u001b[0m\u001b[0m\n",
            "\u001b[0;32m/anaconda/envs/azureml_py36/lib/python3.6/site-packages/azureml/train/automl/run.py\u001b[0m in \u001b[0;36m_get_best_child_run\u001b[0;34m(self, iteration, metric, onnx_compatible, split_onnx_model_name, activity_name)\u001b[0m\n\u001b[1;32m    606\u001b[0m                         raise OnnxConvertException._with_error(\n\u001b[1;32m    607\u001b[0m                             AzureMLError.create(\n\u001b[0;32m--> 608\u001b[0;31m                                 OnnxNotEnabled, target=\"onnx_compatible\")\n\u001b[0m\u001b[1;32m    609\u001b[0m                         )\n\u001b[1;32m    610\u001b[0m                     \u001b[0;32mif\u001b[0m \u001b[0msplit_onnx_model_name\u001b[0m \u001b[0;32mand\u001b[0m \u001b[0;32mnot\u001b[0m \u001b[0mautoml_settings\u001b[0m\u001b[0;34m.\u001b[0m\u001b[0menable_split_onnx_featurizer_estimator_models\u001b[0m\u001b[0;34m:\u001b[0m\u001b[0;34m\u001b[0m\u001b[0;34m\u001b[0m\u001b[0m\n",
            "\u001b[0;31mOnnxConvertException\u001b[0m: OnnxConvertException:\n\tMessage: Requested an ONNX compatible model but the run has ONNX compatibility disabled.\n\tInnerException: None\n\tErrorResponse \n{\n    \"error\": {\n        \"code\": \"UserError\",\n        \"message\": \"Requested an ONNX compatible model but the run has ONNX compatibility disabled.\",\n        \"target\": \"onnx_compatible\",\n        \"inner_error\": {\n            \"code\": \"BadArgument\",\n            \"inner_error\": {\n                \"code\": \"ArgumentInvalid\"\n            }\n        }\n    }\n}"
          ]
        }
      ],
      "execution_count": 24,
      "metadata": {
        "gather": {
          "logged": 1618863987064
        },
        "jupyter": {
          "outputs_hidden": false,
          "source_hidden": false
        },
        "nteract": {
          "transient": {
            "deleting": false
          }
        }
      }
    },
    {
      "cell_type": "markdown",
      "source": [
        "## Model Deployment"
      ],
      "metadata": {}
    },
    {
      "cell_type": "code",
      "source": [
        "#Get best run\r\n",
        "best_run, fitted_model = label_run.get_output()\r\n",
        "print(best_run)\r\n",
        "print(fitted_model)"
      ],
      "outputs": [
        {
          "output_type": "stream",
          "name": "stderr",
          "text": [
            "WARNING:root:Received unrecognized parameter enable_onxx_compatible_models\n",
            "WARNING:root:Received unrecognized parameter enable_onxx_compatible_models\n",
            "WARNING:root:Received unrecognized parameter enable_onxx_compatible_models\n"
          ]
        },
        {
          "output_type": "stream",
          "name": "stdout",
          "text": [
            "Run(Experiment: mushroom-classification-final,\n",
            "Id: AutoML_0f0242a2-125f-4e57-b0f1-4e024d00d463_31,\n",
            "Type: None,\n",
            "Status: Completed)\n",
            "Pipeline(memory=None,\n",
            "         steps=[('datatransformer',\n",
            "                 DataTransformer(enable_dnn=None, enable_feature_sweeping=None,\n",
            "                                 feature_sweeping_config=None,\n",
            "                                 feature_sweeping_timeout=None,\n",
            "                                 featurization_config=None, force_text_dnn=None,\n",
            "                                 is_cross_validation=None,\n",
            "                                 is_onnx_compatible=None, logger=None,\n",
            "                                 observer=None, task=None, working_dir=None)),\n",
            "                ('prefittedsoftvotingclassifier',...\n",
            "                                                                                                num_leaves=80,\n",
            "                                                                                                objective=None,\n",
            "                                                                                                random_state=None,\n",
            "                                                                                                reg_alpha=0.7368421052631579,\n",
            "                                                                                                reg_lambda=0.5789473684210527,\n",
            "                                                                                                silent=True,\n",
            "                                                                                                subsample=1,\n",
            "                                                                                                subsample_for_bin=200000,\n",
            "                                                                                                subsample_freq=0,\n",
            "                                                                                                verbose=-10))],\n",
            "                                                                     verbose=False))],\n",
            "                                               flatten_transform=None,\n",
            "                                               weights=[0.3333333333333333,\n",
            "                                                        0.16666666666666666,\n",
            "                                                        0.16666666666666666,\n",
            "                                                        0.16666666666666666,\n",
            "                                                        0.16666666666666666]))],\n",
            "         verbose=False)\n"
          ]
        }
      ],
      "execution_count": 25,
      "metadata": {
        "gather": {
          "logged": 1618881354567
        },
        "jupyter": {
          "outputs_hidden": false,
          "source_hidden": false
        },
        "nteract": {
          "transient": {
            "deleting": false
          }
        }
      }
    },
    {
      "cell_type": "code",
      "source": [
        "#Save model and prepare scoring script\r\n",
        "model_name = best_run.properties['model_name']\r\n",
        "\r\n",
        "script_file_name = 'inference/score.py'\r\n",
        "\r\n",
        "best_run.download_file('outputs/scoring_file_v_1_0_0.py', 'inference/score.py')\r\n",
        "\r\n",
        "description = 'Auto ML Model trained on mushroom classification data, label encoded'\r\n",
        "tags = None\r\n",
        "model = label_run.register_model(model_name = model_name, description = description, tags = tags)\r\n",
        "\r\n",
        "print(label_run.model_id)"
      ],
      "outputs": [
        {
          "output_type": "stream",
          "name": "stderr",
          "text": [
            "WARNING:root:Received unrecognized parameter enable_onxx_compatible_models\n",
            "WARNING:root:Received unrecognized parameter enable_onxx_compatible_models\n"
          ]
        },
        {
          "output_type": "stream",
          "name": "stdout",
          "text": [
            "AutoML0f0242a2131\n"
          ]
        }
      ],
      "execution_count": 26,
      "metadata": {
        "collapsed": true,
        "jupyter": {
          "source_hidden": false,
          "outputs_hidden": false
        },
        "nteract": {
          "transient": {
            "deleting": false
          }
        },
        "gather": {
          "logged": 1618881361749
        }
      }
    },
    {
      "cell_type": "markdown",
      "source": [
        "## Test Model"
      ],
      "metadata": {
        "collapsed": true,
        "gather": {
          "logged": 1598431657736
        },
        "jupyter": {
          "outputs_hidden": false,
          "source_hidden": false
        },
        "nteract": {
          "transient": {
            "deleting": false
          }
        }
      }
    },
    {
      "cell_type": "code",
      "source": [
        "from azureml.core.model import InferenceConfig\r\n",
        "from azureml.core.webservice import AciWebservice\r\n",
        "from azureml.core.webservice import Webservice\r\n",
        "from azureml.core.model import Model\r\n",
        "from azureml.core.environment import Environment\r\n",
        "from azureml.automl.core.shared import constants\r\n",
        "\r\n",
        "#I trained this model locally, creating environment\r\n",
        "best_run.download_file(constants.CONDA_ENV_FILE_PATH, 'myenv.yml')\r\n",
        "myenv = Environment.from_conda_specification(name=\"myenv\", file_path=\"myenv.yml\")\r\n",
        "inference_config = InferenceConfig(entry_script=\"inference/score.py\", environment=myenv)\r\n",
        "\r\n",
        "#Deploying ACI Service\r\n",
        "aciconfig = AciWebservice.deploy_configuration(cpu_cores = 1, \r\n",
        "                                               memory_gb = 1, \r\n",
        "                                               tags = {'area': \"bmData\", 'type': \"automl_classification\"}, \r\n",
        "                                               description = 'service for Automl Classification')\r\n",
        "\r\n",
        "aci_service_name = 'automl-mushroom-classification-l'\r\n",
        "print(aci_service_name)\r\n",
        "aci_service = Model.deploy(ws, aci_service_name, [model], inference_config, aciconfig)\r\n",
        "aci_service.wait_for_deployment(True)\r\n",
        "print(aci_service.state)"
      ],
      "outputs": [
        {
          "output_type": "stream",
          "name": "stdout",
          "text": [
            "automl-mushroom-classification-l\n",
            "Tips: You can try get_logs(): https://aka.ms/debugimage#dockerlog or local deployment: https://aka.ms/debugimage#debug-locally to debug if deployment takes longer than 10 minutes.\n",
            "Running........................................................................\n",
            "Succeeded\n",
            "ACI service creation operation finished, operation \"Succeeded\"\n",
            "Healthy\n"
          ]
        }
      ],
      "execution_count": 29,
      "metadata": {
        "gather": {
          "logged": 1618881814150
        },
        "jupyter": {
          "outputs_hidden": false,
          "source_hidden": false
        },
        "nteract": {
          "transient": {
            "deleting": false
          }
        }
      }
    },
    {
      "cell_type": "code",
      "source": [
        "#Test dataframes are lc_y and lc_x\r\n",
        "#Running lc_x data through ACI service to get prediction results, y_pred\r\n",
        "\r\n",
        "X_test_json = lc_x.to_json(orient='records')\r\n",
        "data = \"{\\\"data\\\": \" + X_test_json +\"}\"\r\n",
        "headers = {'Content-Type': 'application/json'}\r\n",
        "\r\n",
        "resp = requests.post(aci_service.scoring_uri, data, headers=headers)\r\n",
        "\r\n",
        "y_pred = json.loads(json.loads(resp.text))['result']"
      ],
      "outputs": [],
      "execution_count": 30,
      "metadata": {
        "collapsed": true,
        "jupyter": {
          "source_hidden": false,
          "outputs_hidden": false
        },
        "nteract": {
          "transient": {
            "deleting": false
          }
        },
        "gather": {
          "logged": 1618881816234
        }
      }
    },
    {
      "cell_type": "code",
      "source": [
        "#Making sure the same number of results were returned from the service as the actual results\r\n",
        "actual = array(lc_y)\r\n",
        "print(len(y_pred), \" \", len(actual))"
      ],
      "outputs": [
        {
          "output_type": "stream",
          "name": "stdout",
          "text": [
            "8124   8124\n"
          ]
        }
      ],
      "execution_count": 31,
      "metadata": {
        "collapsed": true,
        "jupyter": {
          "source_hidden": false,
          "outputs_hidden": false
        },
        "nteract": {
          "transient": {
            "deleting": false
          }
        },
        "gather": {
          "logged": 1618881816385
        }
      }
    },
    {
      "cell_type": "code",
      "source": [
        "#Confusion Matrix\r\n",
        "cf =confusion_matrix(actual,y_pred)\r\n",
        "print(cf)"
      ],
      "outputs": [
        {
          "output_type": "stream",
          "name": "stdout",
          "text": [
            "[[4158   50]\n",
            " [ 140 3776]]\n"
          ]
        }
      ],
      "execution_count": 34,
      "metadata": {
        "collapsed": true,
        "jupyter": {
          "source_hidden": false,
          "outputs_hidden": false
        },
        "nteract": {
          "transient": {
            "deleting": false
          }
        },
        "gather": {
          "logged": 1618881933296
        }
      }
    },
    {
      "cell_type": "code",
      "source": [
        "#Service Logs\r\n",
        "aci_service.get_logs()"
      ],
      "outputs": [
        {
          "output_type": "execute_result",
          "execution_count": 33,
          "data": {
            "text/plain": "'2021-04-20T01:23:15,698803300+00:00 - gunicorn/run \\n2021-04-20T01:23:15,712412500+00:00 - rsyslog/run \\n2021-04-20T01:23:15,744598000+00:00 - iot-server/run \\n2021-04-20T01:23:15,784822000+00:00 - nginx/run \\n/usr/sbin/nginx: /azureml-envs/azureml_6f3791fe7434448b4ebe2b0fd691d644/lib/libcrypto.so.1.0.0: no version information available (required by /usr/sbin/nginx)\\n/usr/sbin/nginx: /azureml-envs/azureml_6f3791fe7434448b4ebe2b0fd691d644/lib/libcrypto.so.1.0.0: no version information available (required by /usr/sbin/nginx)\\n/usr/sbin/nginx: /azureml-envs/azureml_6f3791fe7434448b4ebe2b0fd691d644/lib/libssl.so.1.0.0: no version information available (required by /usr/sbin/nginx)\\n/usr/sbin/nginx: /azureml-envs/azureml_6f3791fe7434448b4ebe2b0fd691d644/lib/libssl.so.1.0.0: no version information available (required by /usr/sbin/nginx)\\n/usr/sbin/nginx: /azureml-envs/azureml_6f3791fe7434448b4ebe2b0fd691d644/lib/libssl.so.1.0.0: no version information available (required by /usr/sbin/nginx)\\nrsyslogd: /azureml-envs/azureml_6f3791fe7434448b4ebe2b0fd691d644/lib/libuuid.so.1: no version information available (required by rsyslogd)\\nEdgeHubConnectionString and IOTEDGE_IOTHUBHOSTNAME are not set. Exiting...\\n2021-04-20T01:23:16,628345400+00:00 - iot-server/finish 1 0\\n2021-04-20T01:23:16,631214500+00:00 - Exit code 1 is normal. Not restarting iot-server.\\nStarting gunicorn 19.9.0\\nListening at: http://127.0.0.1:31311 (69)\\nUsing worker: sync\\nworker timeout is set to 300\\nBooting worker with pid: 98\\nSPARK_HOME not set. Skipping PySpark Initialization.\\nGenerating new fontManager, this may take some time...\\nInitializing logger\\n2021-04-20 01:23:19,487 | root | INFO | Starting up app insights client\\n2021-04-20 01:23:19,493 | root | INFO | Starting up request id generator\\n2021-04-20 01:23:19,493 | root | INFO | Starting up app insight hooks\\n2021-04-20 01:23:19,493 | root | INFO | Invoking user\\'s init function\\n2021-04-20 01:23:25,602 | root | INFO | Users\\'s init has completed successfully\\n2021-04-20 01:23:25,651 | root | INFO | Skipping middleware: dbg_model_info as it\\'s not enabled.\\n2021-04-20 01:23:25,651 | root | INFO | Skipping middleware: dbg_resource_usage as it\\'s not enabled.\\n2021-04-20 01:23:25,653 | root | INFO | Scoring timeout is found from os.environ: 60000 ms\\n2021-04-20 01:23:27,464 | root | INFO | 200\\n127.0.0.1 - - [20/Apr/2021:01:23:27 +0000] \"GET /swagger.json HTTP/1.0\" 200 3898 \"-\" \"Go-http-client/1.1\"\\n2021-04-20 01:23:33,982 | root | INFO | 200\\n127.0.0.1 - - [20/Apr/2021:01:23:33 +0000] \"GET /swagger.json HTTP/1.0\" 200 3898 \"-\" \"Go-http-client/1.1\"\\n2021-04-20 01:23:35,136 | root | INFO | Validation Request Content-Type\\n2021-04-20 01:23:35,321 | root | INFO | Scoring Timer is set to 60.0 seconds\\n2021-04-20 01:23:36,465 | root | INFO | 200\\n127.0.0.1 - - [20/Apr/2021:01:23:36 +0000] \"POST /score HTTP/1.0\" 200 24388 \"-\" \"python-requests/2.25.1\"\\n'"
          },
          "metadata": {}
        }
      ],
      "execution_count": 33,
      "metadata": {
        "collapsed": false,
        "jupyter": {
          "source_hidden": false,
          "outputs_hidden": false
        },
        "nteract": {
          "transient": {
            "deleting": false
          }
        },
        "gather": {
          "logged": 1618881931970
        }
      }
    },
    {
      "cell_type": "code",
      "source": [
        "#Clean up - delete service and compute\r\n",
        "aci_service.delete()\r\n",
        "compute_target.delete()"
      ],
      "outputs": [],
      "execution_count": 35,
      "metadata": {
        "collapsed": true,
        "jupyter": {
          "source_hidden": false,
          "outputs_hidden": false
        },
        "nteract": {
          "transient": {
            "deleting": false
          }
        },
        "gather": {
          "logged": 1618887960884
        }
      }
    }
  ],
  "metadata": {
    "kernel_info": {
      "name": "python3"
    },
    "kernelspec": {
      "name": "python3",
      "language": "python",
      "display_name": "Python 3"
    },
    "language_info": {
      "name": "python",
      "version": "3.6.9",
      "mimetype": "text/x-python",
      "codemirror_mode": {
        "name": "ipython",
        "version": 3
      },
      "pygments_lexer": "ipython3",
      "nbconvert_exporter": "python",
      "file_extension": ".py"
    },
    "nteract": {
      "version": "nteract-front-end@1.0.0"
    },
    "microsoft": {
      "host": {
        "AzureML": {
          "notebookHasBeenCompleted": true
        }
      }
    }
  },
  "nbformat": 4,
  "nbformat_minor": 2
}